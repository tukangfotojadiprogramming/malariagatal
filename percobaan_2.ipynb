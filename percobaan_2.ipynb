{
  "cells": [
    {
      "cell_type": "markdown",
      "source": [
        "<div style=\"font-family: 'Times New Roman', Times, serif; font-size: 30px; font-weight: bold;\">\n",
        "  PROJECT PENGOLAHAN CITRA DIGITAL\n",
        "</div>\n",
        "Analisis Infeksi Malaria Berdasarkan Perbedaan Tekstur Citra Sek Darah Menggunakan Segmentasi Thresholding\n",
        "\n",
        "================================= PERCOBAAN 2 ==================================="
      ],
      "metadata": {
        "id": "RRYnbRIVcufh"
      },
      "id": "RRYnbRIVcufh"
    },
    {
      "cell_type": "code",
      "execution_count": null,
      "id": "b842d573",
      "metadata": {
        "id": "b842d573"
      },
      "outputs": [],
      "source": [
        "import os\n",
        "import cv2 as cv\n",
        "import matplotlib.pyplot as plt\n",
        "import numpy as np\n",
        "import pandas as pd\n",
        "from math import ceil\n",
        "from collections import Counter\n",
        "from sklearn.preprocessing import StandardScaler\n",
        "from sklearn.decomposition import PCA\n",
        "from sklearn.model_selection import train_test_split\n",
        "from sklearn.metrics import accuracy_score, classification_report\n",
        "from skimage.feature import graycomatrix, graycoprops\n",
        "from scipy.stats import entropy\n",
        "from sklearn.ensemble import RandomForestClassifier\n",
        "from sklearn.svm import SVC\n",
        "from sklearn.neighbors import KNeighborsClassifier\n",
        "from sklearn.metrics import accuracy_score, confusion_matrix, classification_report\n",
        "from sklearn.metrics import ConfusionMatrixDisplay"
      ]
    },
    {
      "cell_type": "markdown",
      "source": [
        "Dalam proyek ini, kode di atas merupakan berbagai library yang diimpor untuk menunjang proses pengolahan citra, ekstraksi fitur, dan klasifikasi menggunakan machine learning. Library os digunakan untuk mengelola file dan folder, seperti membaca nama-nama file gambar yang akan diproses menggunakan fungsi seperti `os.listdir()` dan `os.path.join()`. Untuk pengolahan citra digital, digunakan `cv2` (diimpor sebagai `cv`) yang menyediakan fungsi-fungsi seperti `cv.imread()`, `cv.cvtColor()`, dan `cv.resize()` untuk membaca, mengubah warna, dan mengubah ukuran gambar. Visualisasi hasil seperti tampilan gambar atau grafik dilakukan menggunakan `matplotlib.pyplot` melalui fungsi `plt.imshow()`, `plt.title()`, dan `plt.show()`.\n",
        "\n",
        "Library numpy (`np`) digunakan untuk operasi numerik seperti membuat array (`np.array()`), menghitung rata-rata (`np.mean()`), atau matriks korelasi. Fungsi `ceil()` dari math digunakan untuk membulatkan angka ke atas, sedangkan Counter dari collections digunakan untuk menghitung frekuensi label menggunakan `Counter()`.\n",
        "\n",
        "Untuk pengelolaan data tabular, digunakan pandas (`pd`) yang memudahkan manipulasi data menggunakan struktur DataFrame, dengan fungsi seperti `pd.DataFrame()` dan `df.to_csv()`. Normalisasi fitur dilakukan dengan StandardScaler dari `sklearn`.preprocessing menggunakan fungsi `fit_transform()`, yang penting agar setiap fitur memiliki skala yang seragam. Untuk mengurangi dimensi data dan menghindari redundansi, digunakan PCA dari sklearn.decomposition dengan fungsi seperti `PCA()`.`fit_transform()`. Dataset kemudian dibagi menggunakan `train_test_split()` dari `sklearn.model_selection` menjadi data latih dan data uji.\n",
        "\n",
        "Evaluasi performa model dilakukan menggunakan beberapa metrik dari `sklearn.metrics`, seperti `accuracy_score()`, `classification_report()`, `confusion_matrix()`, dan visualisasi dengan `ConfusionMatrixDisplay`. `from_predictions()`. Untuk ekstraksi fitur tekstur, digunakan metode GLCM (Gray-Level Co-occurrence Matrix) dari skimage.feature melalui fungsi `graycomatrix()` untuk membuat matriks ko-occurrence dan `graycoprops()` untuk menghitung properti tekstur seperti contrast, homogeneity, dan ASM. Selain itu, nilai entropi dihitung dari histogram citra menggunakan fungsi `entropy()` dari scipy.stats.\n",
        "\n",
        "Terakhir, klasifikasi dilakukan menggunakan beberapa algoritma dari scikit-learn, yaitu RandomForestClassifier dari sklearn.ensemble dengan fungsi seperti `fit()` dan `predict()`, SVC (Support Vector Classifier) dari `sklearn.svm`, serta `KNeighborsClassifier` dari sklearn.neighbors. Ketiga model ini dilatih menggunakan data hasil ekstraksi fitur dan diuji untuk melihat akurasinya dalam membedakan kelas citra."
      ],
      "metadata": {
        "id": "_Nls7e5Mc3aE"
      },
      "id": "_Nls7e5Mc3aE"
    },
    {
      "cell_type": "markdown",
      "id": "a2f90430",
      "metadata": {
        "id": "a2f90430"
      },
      "source": [
        "# DATA LOADING"
      ]
    },
    {
      "cell_type": "code",
      "execution_count": null,
      "id": "8323df7f",
      "metadata": {
        "id": "8323df7f"
      },
      "outputs": [],
      "source": [
        "data = []\n",
        "labels = []\n",
        "file_name = []\n",
        "for label_folder in ['Parasitized', 'Uninfected']:\n",
        "    folder_path = os.path.join('dataset\\\\', label_folder)\n",
        "    for filename in os.listdir(folder_path):\n",
        "        img_path = os.path.join(folder_path, filename)\n",
        "        img = cv.imread(img_path)\n",
        "        img = cv.resize(img, (100, 100))  # Resize ke ukuran tetap\n",
        "        data.append(img)\n",
        "        labels.append(label_folder)\n",
        "        file_name.append(filename)"
      ]
    },
    {
      "cell_type": "markdown",
      "source": [
        "Kode di atas digunakan untuk membaca dan memproses gambar dari dua folder berbeda, yaitu `'Parasitized'` dan `'Uninfected'`, yang masing-masing merepresentasikan label dalam klasifikasi citra (misalnya gambar sel darah yang terinfeksi malaria dan yang sehat). Pertama, dua list yaitu `data` dan `labels` disiapkan untuk menyimpan citra dan labelnya, serta `file_name` untuk menyimpan nama file gambar. Dengan menggunakan perulangan `for`, kode menelusuri setiap folder label menggunakan `os.path.join()` untuk membentuk path lengkap ke folder, lalu mengambil semua nama file gambar dalam folder tersebut menggunakan `os.listdir()`. Setiap gambar kemudian dibaca menggunakan `cv.imread()` dan diubah ukurannya menjadi `100x100` piksel menggunakan `cv.resize()` agar memiliki ukuran seragam. Gambar hasil resize disimpan dalam list `data`, label (berdasarkan nama folder) disimpan dalam `labels`, dan nama file disimpan dalam `file_name`. Proses ini membentuk dataset yang siap digunakan.\n"
      ],
      "metadata": {
        "id": "ogW2VlZxc-zj"
      },
      "id": "ogW2VlZxc-zj"
    },
    {
      "cell_type": "markdown",
      "source": [
        "Kode ini digunakan untuk menampilkan distribusi jumlah gambar berdasarkan kelas serta menampilkan contoh gambar dari masing-masing kelas dalam dataset. Pertama, `Counter(labels)` digunakan untuk menghitung jumlah gambar untuk setiap label (kelas), kemudian nama kelas `(classes)` dan jumlahnya `(counts)` diekstrak. Data ini divisualisasikan menggunakan `plt.bar()` dalam bentuk diagram batang, dengan judul, label sumbu, dan garis bantu (grid) pada sumbu-y untuk memperjelas tampilan. Setelah itu, program mencetak label \"Output: Contoh Sample Data:\" dan menampilkan satu contoh gambar dari setiap kelas. Ini dilakukan dengan menelusuri seluruh data, mengecek label, dan hanya menampilkan satu gambar per kelas menggunakan `plt.subplot()` dan `plt.imshow()` untuk menampilkan gambar. Gambar ditampilkan dalam satu baris menggunakan `plt.figure(figsize=(15, 3))`, dan loop dihentikan setelah semua kelas ditampilkan. Fungsi `plt.tight_layout()` digunakan untuk merapikan tata letak agar subplot tidak saling tumpang tindih."
      ],
      "metadata": {
        "id": "HeZ71NOndGlf"
      },
      "id": "HeZ71NOndGlf"
    },
    {
      "cell_type": "code",
      "execution_count": null,
      "id": "a1b7ab93",
      "metadata": {
        "id": "a1b7ab93",
        "outputId": "4574512e-cd81-4774-b212-e517940ab9ae"
      },
      "outputs": [
        {
          "data": {
            "image/png": "[encoded data removed]",
            "text/plain": [
              "<Figure size 800x600 with 1 Axes>"
            ]
          },
          "metadata": {},
          "output_type": "display_data"
        },
        {
          "name": "stdout",
          "output_type": "stream",
          "text": [
            "Output: Contoh Sample Data:\n"
          ]
        },
        {
          "data": {
            "image/png": "[encoded data removed]",
            "text/plain": [
              "<Figure size 1500x300 with 2 Axes>"
            ]
          },
          "metadata": {},
          "output_type": "display_data"
        }
      ],
      "source": [
        "label_counts = Counter(labels)\n",
        "classes = list(label_counts.keys())\n",
        "counts = list(label_counts.values())\n",
        "\n",
        "plt.figure(figsize=(8, 6))\n",
        "plt.bar(classes, counts, color='dodgerblue')\n",
        "plt.title(\"Distribusi Jumlah Gambar per Kelas\")\n",
        "plt.xlabel(\"Kelas\")\n",
        "plt.ylabel(\"Jumlah Gambar\")\n",
        "plt.grid(axis='y', linestyle='--', alpha=0.7)\n",
        "plt.show()\n",
        "\n",
        "print(\"Output: Contoh Sample Data:\")\n",
        "\n",
        "plt.figure(figsize=(15, 3))\n",
        "shown_labels = set()\n",
        "shown = 0\n",
        "\n",
        "for i in range(len(data)):\n",
        "    label = labels[i]\n",
        "    if label in shown_labels:\n",
        "        continue\n",
        "    plt.subplot(1, len(classes), shown + 1)\n",
        "    plt.imshow(data[i], cmap='gray')\n",
        "    plt.title(f\"{label}\")\n",
        "    plt.axis('off')\n",
        "    shown_labels.add(label)\n",
        "    shown += 1\n",
        "    if shown >= len(classes):\n",
        "        break\n",
        "\n",
        "plt.tight_layout()\n",
        "plt.show()"
      ]
    },
    {
      "cell_type": "markdown",
      "id": "1548d03c",
      "metadata": {
        "id": "1548d03c"
      },
      "source": [
        "# PREPROCESSING"
      ]
    },
    {
      "cell_type": "markdown",
      "id": "5e7cb50c",
      "metadata": {
        "id": "5e7cb50c"
      },
      "source": [
        "## Support"
      ]
    },
    {
      "cell_type": "code",
      "execution_count": null,
      "id": "b265aea3",
      "metadata": {
        "id": "b265aea3"
      },
      "outputs": [],
      "source": [
        "def sorting(arr): #di sort ini harus jd 1 array\n",
        "    for i in range(len(arr)):\n",
        "        swap = i + np.argmin(arr[i:])\n",
        "        (arr[i], arr[swap]) = (arr[swap], arr[i])\n",
        "    return arr\n",
        "def flatArray(arr): #buat jadiin array 1 dimensi\n",
        "    row, col = arr.shape\n",
        "    flat=[]\n",
        "    for i in range (row):\n",
        "        for j in range (col):\n",
        "            flat.append(arr[i][j]) #buat nambahin nilai ke list\n",
        "    return flat"
      ]
    },
    {
      "cell_type": "markdown",
      "source": [
        "Kode ini digunakan untuk mengubah array dua dimensi menjadi satu dimensi dan kemudian mengurutkannya. Pertama, fungsi flatArray(arr) digunakan untuk membuat array satu dimensi dari array dua dimensi. Proses ini dilakukan dengan mengambil ukuran baris dan kolom menggunakan arr.shape, lalu menelusuri setiap elemen melalui dua loop bersarang dan menambahkan nilainya ke list flat menggunakan append(). Setelah diperoleh array satu dimensi, fungsi sorting(arr) akan mengurutkan elemen-elemen dalam array tersebut. Proses pengurutan dilakukan dengan algoritma selection sort, di mana pada setiap iterasi dicari nilai minimum dari sisa elemen menggunakan np.argmin(arr[i:]), kemudian dilakukan pertukaran posisi (swap) antara elemen saat ini dan elemen minimum tersebut. Hasil akhirnya adalah array satu dimensi yang telah terurut secara ascending. Kedua fungsi ini dapat digunakan bersama-sama untuk menyiapkan dan mengurutkan data dari array dua dimensi sebelum digunakan dalam analisis atau visualisasi lebih lanjut."
      ],
      "metadata": {
        "id": "jTaZOnrHdvKh"
      },
      "id": "jTaZOnrHdvKh"
    },
    {
      "cell_type": "markdown",
      "id": "181c6030",
      "metadata": {
        "id": "181c6030"
      },
      "source": [
        "## Preprocessing"
      ]
    },
    {
      "cell_type": "code",
      "execution_count": null,
      "id": "e49bbefb",
      "metadata": {
        "id": "e49bbefb"
      },
      "outputs": [],
      "source": [
        "def prepro1_resize(img, new_width=100, new_height=100):\n",
        "    old_height, old_width = img.shape[:2]\n",
        "    resized = np.zeros((new_height, new_width, 3), dtype=np.uint8)\n",
        "\n",
        "    for i in range(new_height):\n",
        "        for j in range(new_width):\n",
        "            x = int(i * old_height / new_height)\n",
        "            y = int(j * old_width / new_width)\n",
        "            resized[i, j] = img[x, y]\n",
        "    return resized\n",
        "def prepro2_grayscale(img):\n",
        "    height, width = img.shape[:2]\n",
        "    gray = np.zeros((height, width), dtype=np.uint8)\n",
        "\n",
        "    for i in range(height):\n",
        "        for j in range(width):\n",
        "            r, g, b = img[i, j]\n",
        "            gray[i, j] = int(0.2989 * r + 0.5870 * g + 0.1140 * b)  # Luminosity formula\n",
        "    return gray\n",
        "def prepro3_normalization(img):\n",
        "    height, width = img.shape\n",
        "    norm = np.zeros((height, width), dtype=np.float32)\n",
        "\n",
        "    for i in range(height):\n",
        "        for j in range(width):\n",
        "            norm[i, j] = img[i, j] / 255.0\n",
        "    return norm\n",
        "def prepro4_thresholding(image, threshold):\n",
        "    res = np.zeros_like(image, dtype=np.uint8)\n",
        "    res[image > threshold] = 255\n",
        "    return res\n",
        "def prepro5_median(image,windowHeight,windowWidth):\n",
        "    pad = np.pad(image,(windowHeight,windowWidth),mode='edge')\n",
        "    median = np.zeros(image.shape, dtype=np.uint8)\n",
        "    for i in range(windowHeight,len(pad)-windowHeight):\n",
        "        for j in range(windowWidth,len(pad)-windowWidth):\n",
        "            window = flatArray(pad[i-windowHeight:i,j-windowWidth:j])\n",
        "            window = sorting(window)\n",
        "            median[i-windowHeight,j-windowWidth] = window[ceil(len(window)/2)]\n",
        "    return median"
      ]
    },
    {
      "cell_type": "markdown",
      "source": [
        "Kode ini digunakan untuk melakukan serangkaian tahapan preprocessing pada citra sebelum digunakan dalam proses analisis atau pemrosesan lebih lanjut. Tahapan pertama dilakukan oleh fungsi prepro1_resize(img, new_width=100, new_height=100) yang berfungsi untuk mengubah ukuran gambar menjadi dimensi baru (default 100x100 piksel). Proses ini dilakukan secara manual dengan menghitung rasio posisi piksel dari gambar lama ke gambar baru, dan mengisi array resized menggunakan indeks yang disesuaikan. Selanjutnya, fungsi prepro2_grayscale(img) mengubah gambar berwarna menjadi gambar grayscale menggunakan rumus luminositas, yaitu 0.2989 * R + 0.5870 * G + 0.1140 * B, untuk mempertahankan persepsi kecerahan manusia.\n",
        "\n",
        "Kemudian, fungsi prepro3_normalization(img) melakukan normalisasi dengan mengubah skala nilai piksel dari rentang 0–255 menjadi 0–1 dengan cara membagi setiap nilai piksel dengan 255.0. Setelah itu, fungsi prepro4_thresholding(image, threshold) menerapkan thresholding, yaitu mengubah piksel yang nilainya lebih besar dari ambang (threshold) menjadi 255 (putih), sedangkan sisanya tetap 0 (hitam), sehingga menghasilkan citra biner. Terakhir, fungsi prepro5_median(image, windowHeight, windowWidth) melakukan penyaringan median (median filtering) untuk mereduksi noise. Fungsi ini menambahkan padding pada citra dan menggunakan jendela berukuran tertentu untuk mengambil nilai tengah dari piksel-piksel dalam jendela tersebut. Proses pengambilan nilai tengah dilakukan dengan terlebih dahulu mengubah jendela menjadi array satu dimensi menggunakan flatArray(), kemudian mengurutkannya dengan sorting(). Nilai median dari jendela kemudian disisipkan ke posisi piksel yang sesuai pada gambar hasil. Dengan demikian, seluruh rangkaian fungsi ini dapat digunakan untuk membersihkan dan mempersiapkan gambar agar siap digunakan dalam tahap pengenalan pola, klasifikasi, atau pelatihan model."
      ],
      "metadata": {
        "id": "rLgNoS7nefwj"
      },
      "id": "rLgNoS7nefwj"
    },
    {
      "cell_type": "code",
      "execution_count": null,
      "id": "5f59946e",
      "metadata": {
        "id": "5f59946e"
      },
      "outputs": [],
      "source": [
        "output_folder = 'preprocessed_output2'\n",
        "os.makedirs(output_folder, exist_ok=True)\n",
        "dataPreprocessed = []\n",
        "\n",
        "for i in range(len(data)):\n",
        "    img = data[i]\n",
        "\n",
        "    # === Tahapan Preprocessing Manual ===\n",
        "    img_resized = prepro1_resize(img)            # Resize manual ke 100x100\n",
        "    img_grayscale = prepro2_grayscale(img_resized)  # Konversi manual ke grayscale\n",
        "    img_thresholded = prepro4_thresholding(img_grayscale, 118)  # Thresholding manual\n",
        "    # img_normalized = prepro3_normalization(img_thresholded)  # Normalisasi manual\n",
        "    img_median = prepro5_median(img_thresholded, 3, 3)\n",
        "    img_normalized = prepro3_normalization(img_median)  # Normalisasi manual\n",
        "    img_uint8 = (img_normalized * 255).astype(np.uint8) # ubah tipe data ke int untuk ekstraksi fitur\n",
        "    dataPreprocessed.append(img_uint8)\n",
        "    filename = file_name[i]\n",
        "    save_path = os.path.join(output_folder, filename)\n",
        "    cv.imwrite(save_path, img_uint8)"
      ]
    },
    {
      "cell_type": "markdown",
      "source": [
        "Kode ini digunakan untuk melakukan proses preprocessing secara manual pada setiap gambar dalam dataset, kemudian menyimpannya ke dalam folder output. Pertama, folder tujuan bernama 'preprocessed_output2' dibuat menggunakan os.makedirs() dengan opsi exist_ok=True agar tidak terjadi error jika folder sudah ada. Seluruh hasil preprocessing disimpan dalam list dataPreprocessed. Dalam loop utama, setiap gambar diakses dari list data, lalu diproses melalui beberapa tahapan preprocessing.\n",
        "\n",
        "Tahap pertama adalah prepro1_resize(img), yang melakukan resize gambar ke ukuran 100x100 piksel secara manual. Selanjutnya, gambar diubah menjadi grayscale menggunakan prepro2_grayscale(). Setelah itu, gambar hasil grayscale diproses dengan thresholding menggunakan prepro4_thresholding(), di mana nilai ambang (threshold) ditetapkan sebesar 118 untuk mengubah gambar menjadi biner (hitam-putih). Gambar biner ini kemudian diproses dengan prepro5_median() menggunakan jendela 3x3 untuk mereduksi noise melalui filtering median. Hasilnya dinormalisasi dengan prepro3_normalization() agar nilai piksel berada dalam rentang 0 hingga 1. Karena ekstraksi fitur memerlukan data dengan tipe uint8, nilai piksel hasil normalisasi dikalikan 255 dan diubah kembali ke tipe data uint8.\n",
        "\n",
        "Setelah seluruh tahap selesai, gambar hasil akhir ditambahkan ke dalam list dataPreprocessed dan disimpan ke disk menggunakan OpenCV (cv.imwrite()) dengan nama file yang sesuai berdasarkan variabel file_name[i]. Proses ini dilakukan untuk seluruh gambar dalam dataset sehingga menghasilkan kumpulan gambar yang telah diproses dan siap digunakan untuk pelatihan model atau analisis lanjutan."
      ],
      "metadata": {
        "id": "vHavj736exIp"
      },
      "id": "vHavj736exIp"
    },
    {
      "cell_type": "markdown",
      "id": "987287aa",
      "metadata": {
        "id": "987287aa"
      },
      "source": [
        "# Feature Extraction"
      ]
    },
    {
      "cell_type": "code",
      "execution_count": null,
      "id": "dd4b1e90",
      "metadata": {
        "id": "dd4b1e90"
      },
      "outputs": [],
      "source": [
        "def glcm(image, derajat):\n",
        "    if derajat == 0:\n",
        "        angles = [0]\n",
        "    elif derajat == 45:\n",
        "        angles = [np.pi / 4]\n",
        "    elif derajat == 90:\n",
        "        angles = [np.pi / 2]\n",
        "    elif derajat == 135:\n",
        "        angles = [3 * np.pi / 4]\n",
        "    else:\n",
        "        raise ValueError(\"Invalid angle. It should be one of the following: 0, 45, 90, 135.\")\n",
        "\n",
        "    # mengembalikan matrix glcm dari image\n",
        "    glcm = graycomatrix(image, [1], angles, 256, symmetric=True, normed=True)\n",
        "    return glcm"
      ]
    },
    {
      "cell_type": "markdown",
      "source": [
        "Kode ini digunakan untuk menghitung matriks Gray Level Co-occurrence Matrix (GLCM) dari citra grayscale berdasarkan arah tertentu. Fungsi glcm(image, derajat) menerima dua parameter, yaitu image sebagai citra input dalam skala keabuan (grayscale), dan derajat yang menentukan arah perhitungan GLCM, yaitu 0°, 45°, 90°, atau 135°. Pertama, nilai derajat dikonversi menjadi sudut dalam radian yang dibutuhkan oleh fungsi graycomatrix() dari pustaka skimage.feature. Jika derajat yang diberikan tidak termasuk dalam pilihan yang valid, maka fungsi akan menghentikan eksekusi dan menampilkan pesan error melalui raise ValueError().\n",
        "\n",
        "Setelah sudut dikonversi, fungsi graycomatrix() digunakan untuk menghasilkan matriks GLCM dengan jarak antar piksel sebesar 1. Parameter 256 menunjukkan jumlah level keabuan (untuk gambar 8-bit), symmetric=True digunakan agar matriks hasil bersifat simetris, dan normed=True agar nilai-nilainya ternormalisasi ke dalam rentang [0, 1]. Hasil akhir fungsi ini adalah sebuah array empat dimensi yang merepresentasikan hubungan tekstural antar piksel pada arah tertentu dalam citra, yang dapat digunakan untuk ekstraksi fitur tekstur seperti contrast, energy, correlation, dan homogeneity dalam analisis citra digital."
      ],
      "metadata": {
        "id": "HXQPrrRcfRav"
      },
      "id": "HXQPrrRcfRav"
    },
    {
      "cell_type": "code",
      "execution_count": null,
      "id": "c9450fbf",
      "metadata": {
        "id": "c9450fbf"
      },
      "outputs": [],
      "source": [
        "def correlation(matriks):\n",
        "\treturn graycoprops(matriks, 'correlation')[0, 0]\n",
        "def dissimilarity(matriks):\n",
        "    return graycoprops(matriks, 'dissimilarity')[0, 0]\n",
        "def homogenity(matriks):\n",
        "    return graycoprops(matriks, 'homogeneity')[0, 0]\n",
        "def contrast(matriks):\n",
        "    return graycoprops(matriks, 'contrast')[0, 0]\n",
        "def ASM(matriks):\n",
        "    return graycoprops(matriks, 'ASM')[0, 0]\n",
        "def energy(matriks):\n",
        "    return graycoprops(matriks, 'energy')[0, 0]\n",
        "def entropyGlcm(matriks):\n",
        "    return entropy(matriks.ravel())"
      ]
    },
    {
      "cell_type": "markdown",
      "source": [
        "Kode ini digunakan untuk menghitung berbagai fitur tekstur dari matriks *Gray Level Co-occurrence Matrix* (GLCM) yang sebelumnya telah dihitung dari citra grayscale. Fungsi-fungsi ini masing-masing memanfaatkan pustaka `skimage.feature.graycoprops` untuk mengekstrak nilai properti tekstur tertentu dari GLCM.\n",
        "\n",
        "Fungsi `correlation(matriks)` menghitung sejauh mana piksel-piksel saling berkorelasi satu sama lain dalam suatu arah. `dissimilarity(matriks)` mengukur seberapa besar perbedaan antara pasangan nilai piksel, sedangkan `homogenity(matriks)` menunjukkan seberapa seragam citra tersebut (semakin besar nilai homogenitas, semakin seragam citranya). Fungsi `contrast(matriks)` menghitung tingkat kontras lokal dalam citra berdasarkan perbedaan nilai piksel yang berdekatan.\n",
        "\n",
        "Selanjutnya, `ASM(matriks)` (Angular Second Moment) mengukur tingkat keteraturan tekstur atau homogenitas, dan nilainya tinggi jika citra sangat seragam. Fungsi `energy(matriks)` adalah akar kuadrat dari ASM dan juga menunjukkan tekstur yang teratur dan seragam. Terakhir, `entropyGlcm(matriks)` menggunakan fungsi `entropy()` dari `scipy.stats` untuk menghitung entropi dari matriks GLCM, yaitu ukuran kompleksitas atau ketidakteraturan dalam distribusi tekstur. Semua fungsi ini mengembalikan satu nilai numerik dari elemen \\[0,0] karena output `graycoprops()` berupa array dua dimensi, meskipun hanya satu nilai yang digunakan dalam konteks ini. Fitur-fitur ini sangat berguna dalam analisis tekstur untuk keperluan klasifikasi, segmentasi, atau pengenalan pola dalam citra digital."
      ],
      "metadata": {
        "id": "wyMsUPz5fgHE"
      },
      "id": "wyMsUPz5fgHE"
    },
    {
      "cell_type": "code",
      "execution_count": null,
      "id": "bf71abae",
      "metadata": {
        "id": "bf71abae"
      },
      "outputs": [],
      "source": [
        "Derajat0 = []\n",
        "Derajat45 = []\n",
        "Derajat90 = []\n",
        "Derajat135 = []\n",
        "for i in range(len(dataPreprocessed)):\n",
        "    D0 = glcm(dataPreprocessed[i], 0)\n",
        "    D45 = glcm(dataPreprocessed[i], 45)\n",
        "    D90 = glcm(dataPreprocessed[i], 90)\n",
        "    D135 = glcm(dataPreprocessed[i], 135)\n",
        "    Derajat0.append(D0)\n",
        "    Derajat45.append(D45)\n",
        "    Derajat90.append(D90)\n",
        "    Derajat135.append(D135)"
      ]
    },
    {
      "cell_type": "markdown",
      "source": [
        "Kode ini digunakan untuk menghitung *Gray Level Co-occurrence Matrix* (GLCM) dari setiap citra yang telah dipreproses dalam empat arah berbeda: 0°, 45°, 90°, dan 135°, lalu menyimpannya ke dalam empat list yang berbeda. Pertama, empat list kosong (`Derajat0`, `Derajat45`, `Derajat90`, `Derajat135`) didefinisikan untuk menampung hasil perhitungan GLCM dari masing-masing arah.\n",
        "\n",
        "Kemudian, dilakukan iterasi melalui seluruh gambar dalam `dataPreprocessed`. Untuk setiap gambar, fungsi `glcm()` dipanggil empat kali dengan sudut berbeda (0, 45, 90, dan 135 derajat), menghasilkan empat matriks GLCM. Masing-masing matriks ini kemudian dimasukkan ke dalam list yang sesuai berdasarkan arah derajatnya menggunakan `append()`. Dengan demikian, setelah seluruh proses selesai, setiap list akan berisi GLCM dari seluruh gambar untuk arah tertentu. Hasil ini menjadi dasar untuk ekstraksi fitur tekstur seperti *contrast*, *correlation*, *energy*, dan lainnya yang spesifik terhadap arah tekstur dalam citra.\n"
      ],
      "metadata": {
        "id": "ZlSMFaO9fqyh"
      },
      "id": "ZlSMFaO9fqyh"
    },
    {
      "cell_type": "code",
      "execution_count": null,
      "id": "d25ea795",
      "metadata": {
        "id": "d25ea795"
      },
      "outputs": [],
      "source": [
        "Kontras0, Kontras45, Kontras90, Kontras135 = [], [], [], []\n",
        "dissimilarity0, dissimilarity45, dissimilarity90, dissimilarity135 =  [], [], [], []\n",
        "homogenity0, homogenity45, homogenity90, homogenity135 = [], [], [], []\n",
        "entropy0, entropy45, entropy90, entropy135 =  [], [], [], []\n",
        "ASM0, ASM45, ASM90, ASM135 =  [], [], [], []\n",
        "energy0, energy45, energy90, energy135 =  [], [], [], []\n",
        "correlation0, correlation45, correlation90, correlation135 = [], [], [], []"
      ]
    },
    {
      "cell_type": "markdown",
      "source": [
        "Kode ini digunakan untuk mendeklarasikan variabel-variabel berbentuk list kosong yang akan menyimpan hasil ekstraksi fitur tekstur dari matriks GLCM berdasarkan arah tertentu. Masing-masing fitur dihitung dari GLCM yang telah diperoleh sebelumnya dalam empat arah: 0°, 45°, 90°, dan 135°.\n",
        "\n",
        "Beberapa fitur tekstur yang disiapkan untuk disimpan yakni,\n",
        "`Kontras` mengukur tingkat perbedaan intensitas piksel dalam citra, sehingga semakin tinggi nilai kontras, semakin besar variasi antara piksel terang dan gelap. `Dissimilarity` serupa dengan kontras, namun menggunakan perbedaan absolut antar nilai piksel, memberikan indikasi seberapa berbeda piksel-piksel tersebut secara langsung. `Homogenity` mencerminkan keseragaman atau keteraturan nilai piksel, di mana nilai yang lebih tinggi menunjukkan tekstur yang lebih seragam dan kurang bervariasi. `Entropy` mengukur kompleksitas atau ketidakteraturan distribusi tekstur, sehingga semakin tinggi entropi, citra memiliki pola yang lebih acak dan tidak teratur. `Angular Second Moment (ASM)` mengindikasikan tingkat keteraturan dan keseragaman tekstur, dengan nilai tinggi menandakan pola yang sangat teratur. `Energy`, merupakan akar kuadrat dari ASM, juga menggambarkan tingkat keteraturan tersebut secara lebih halus. Sedangkan, `correlation` mengukur hubungan linier antara pasangan nilai piksel dalam citra, memberikan informasi tentang sejauh mana piksel-piksel tersebut saling terkait secara statistik.\n",
        "\n",
        "Setiap fitur memiliki empat list sesuai arah GLCM-nya, seperti `Kontras0`, `Kontras45`, `Kontras90`, dan `Kontras135` untuk menyimpan nilai kontras dari arah 0°, 45°, 90°, dan 135°. Struktur ini memudahkan proses ekstraksi fitur berikutnya secara sistematis, serta memungkinkan analisis perbandingan tekstur citra berdasarkan arah orientasi.\n"
      ],
      "metadata": {
        "id": "_cbhkl_BfwUe"
      },
      "id": "_cbhkl_BfwUe"
    },
    {
      "cell_type": "code",
      "execution_count": null,
      "id": "b42ff5dc",
      "metadata": {
        "id": "b42ff5dc"
      },
      "outputs": [],
      "source": [
        "for i in range(len(dataPreprocessed)):\n",
        "    C0 = correlation(Derajat0[i])\n",
        "    correlation0.append(C0)\n",
        "    C45 = correlation(Derajat45[i])\n",
        "    correlation45.append(C45)\n",
        "    C90 = correlation(Derajat90[i])\n",
        "    correlation90.append(C90)\n",
        "    C135 = correlation(Derajat135[i])\n",
        "    correlation135.append(C135)\n",
        "for i in range(len(dataPreprocessed)):\n",
        "    K0 = contrast(Derajat0[i])\n",
        "    K45 = contrast(Derajat45[i])\n",
        "    K90 = contrast(Derajat90[i])\n",
        "    K135 = contrast(Derajat135[i])\n",
        "    Kontras0.append(K0)\n",
        "    Kontras45.append(K45)\n",
        "    Kontras90.append(K90)\n",
        "    Kontras135.append(K135)\n",
        "for i in range(len(dataPreprocessed)):\n",
        "    Dis0 = dissimilarity(Derajat0[i])\n",
        "    Dis45 = dissimilarity(Derajat45[i])\n",
        "    Dis90 = dissimilarity(Derajat90[i])\n",
        "    Dis135 = dissimilarity(Derajat135[i])\n",
        "    dissimilarity0.append(Dis0)\n",
        "    dissimilarity45.append(Dis45)\n",
        "    dissimilarity90.append(Dis90)\n",
        "    dissimilarity135.append(Dis135)\n",
        "for i in range(len(dataPreprocessed)):\n",
        "    H0 = homogenity(Derajat0[i])\n",
        "    H45 = homogenity(Derajat45[i])\n",
        "    H90 = homogenity(Derajat90[i])\n",
        "    H135 = homogenity(Derajat135[i])\n",
        "    homogenity0.append(H0)\n",
        "    homogenity45.append(H45)\n",
        "    homogenity90.append(H90)\n",
        "    homogenity135.append(H135)\n",
        "for i in range(len(dataPreprocessed)):\n",
        "    E0 = entropyGlcm(Derajat0[i])\n",
        "    E45 = entropyGlcm(Derajat45[i])\n",
        "    E90 = entropyGlcm(Derajat90[i])\n",
        "    E135 = entropyGlcm(Derajat135[i])\n",
        "    entropy0.append(E0)\n",
        "    entropy45.append(E45)\n",
        "    entropy90.append(E90)\n",
        "    entropy135.append(E135)\n",
        "for i in range(len(dataPreprocessed)):\n",
        "    A0 = ASM(Derajat0[i])\n",
        "    A45 = ASM(Derajat45[i])\n",
        "    A90 = ASM(Derajat90[i])\n",
        "    A135 = ASM(Derajat135[i])\n",
        "    ASM0.append(A0)\n",
        "    ASM45.append(A45)\n",
        "    ASM90.append(A90)\n",
        "    ASM135.append(A135)\n",
        "for i in range(len(dataPreprocessed)):\n",
        "    ER0 = energy(Derajat0[i])\n",
        "    ER45 = energy(Derajat45[i])\n",
        "    ER90 = energy(Derajat90[i])\n",
        "    ER135 = energy(Derajat135[i])\n",
        "    energy0.append(ER0)\n",
        "    energy45.append(ER45)\n",
        "    energy90.append(ER90)\n",
        "    energy135.append(ER135)"
      ]
    },
    {
      "cell_type": "markdown",
      "source": [
        "Kode ini melakukan ekstraksi fitur tekstur dari matriks GLCM (Gray Level Co-occurrence Matrix) untuk setiap gambar yang sudah dipreproses, dengan memperhatikan empat arah berbeda: 0°, 45°, 90°, dan 135°. Proses ini dilakukan dengan mengiterasi seluruh gambar dalam `dataPreprocessed` dan menghitung nilai fitur tekstur untuk setiap arah GLCM yang sudah disimpan sebelumnya dalam list `Derajat0`, `Derajat45`, `Derajat90`, dan `Derajat135`.\n",
        "\n",
        "Setiap blok `for` mengambil matriks GLCM dari satu arah dan memanggil fungsi ekstraksi fitur yang sesuai, seperti `correlation()`, `contrast()`, `dissimilarity()`, `homogenity()`, `entropyGlcm()`, `ASM()`, dan `energy()`. Hasil dari setiap fitur kemudian disimpan ke dalam list yang sesuai berdasarkan arah dan jenis fitur, misalnya hasil korelasi untuk arah 0° disimpan ke `correlation0`, sedangkan kontras untuk arah 45° disimpan ke `Kontras45`, dan seterusnya.\n",
        "\n",
        "Hasil akhirnya adalah kumpulan fitur tekstur yang lengkap dan terstruktur, yang dapat digunakan untuk analisis lebih lanjut, seperti pelatihan model klasifikasi atau segmentasi citra berdasarkan karakteristik tekstur.\n"
      ],
      "metadata": {
        "id": "JIb2AF-Yg7lr"
      },
      "id": "JIb2AF-Yg7lr"
    },
    {
      "cell_type": "code",
      "execution_count": null,
      "id": "8d5dc56a",
      "metadata": {
        "id": "8d5dc56a",
        "outputId": "5662de83-044b-4435-d700-cb091a55737b"
      },
      "outputs": [
        {
          "data": {
            "text/html": [
              "<div>\n",
              "<style scoped>\n",
              "    .dataframe tbody tr th:only-of-type {\n",
              "        vertical-align: middle;\n",
              "    }\n",
              "\n",
              "    .dataframe tbody tr th {\n",
              "        vertical-align: top;\n",
              "    }\n",
              "\n",
              "    .dataframe thead th {\n",
              "        text-align: right;\n",
              "    }\n",
              "</style>\n",
              "<table border=\"1\" class=\"dataframe\">\n",
              "  <thead>\n",
              "    <tr style=\"text-align: right;\">\n",
              "      <th></th>\n",
              "      <th>Filename</th>\n",
              "      <th>Label</th>\n",
              "      <th>Contrast0</th>\n",
              "      <th>Contrast45</th>\n",
              "      <th>Contrast90</th>\n",
              "      <th>Contrast135</th>\n",
              "      <th>Homogeneity0</th>\n",
              "      <th>Homogeneity45</th>\n",
              "      <th>Homogeneity90</th>\n",
              "      <th>Homogeneity135</th>\n",
              "      <th>...</th>\n",
              "      <th>ASM90</th>\n",
              "      <th>ASM135</th>\n",
              "      <th>Energy0</th>\n",
              "      <th>Energy45</th>\n",
              "      <th>Energy90</th>\n",
              "      <th>Energy135</th>\n",
              "      <th>Correlation0</th>\n",
              "      <th>Correlation45</th>\n",
              "      <th>Correlation90</th>\n",
              "      <th>Correlation135</th>\n",
              "    </tr>\n",
              "  </thead>\n",
              "  <tbody>\n",
              "    <tr>\n",
              "      <th>0</th>\n",
              "      <td>C33P1thinF_IMG_20150619_114756a_cell_179.png</td>\n",
              "      <td>Parasitized</td>\n",
              "      <td>1379.318182</td>\n",
              "      <td>1943.916437</td>\n",
              "      <td>1346.477273</td>\n",
              "      <td>1851.033058</td>\n",
              "      <td>0.978788</td>\n",
              "      <td>0.970106</td>\n",
              "      <td>0.979293</td>\n",
              "      <td>0.971534</td>\n",
              "      <td>...</td>\n",
              "      <td>0.573742</td>\n",
              "      <td>0.571836</td>\n",
              "      <td>0.757573</td>\n",
              "      <td>0.755309</td>\n",
              "      <td>0.757458</td>\n",
              "      <td>0.756199</td>\n",
              "      <td>0.947666</td>\n",
              "      <td>0.925357</td>\n",
              "      <td>0.948995</td>\n",
              "      <td>0.928924</td>\n",
              "    </tr>\n",
              "    <tr>\n",
              "      <th>1</th>\n",
              "      <td>C33P1thinF_IMG_20150619_114756a_cell_180.png</td>\n",
              "      <td>Parasitized</td>\n",
              "      <td>1142.863636</td>\n",
              "      <td>1711.707989</td>\n",
              "      <td>1287.363636</td>\n",
              "      <td>1552.479339</td>\n",
              "      <td>0.982425</td>\n",
              "      <td>0.973677</td>\n",
              "      <td>0.980202</td>\n",
              "      <td>0.976125</td>\n",
              "      <td>...</td>\n",
              "      <td>0.586487</td>\n",
              "      <td>0.587554</td>\n",
              "      <td>0.767038</td>\n",
              "      <td>0.765002</td>\n",
              "      <td>0.765824</td>\n",
              "      <td>0.766521</td>\n",
              "      <td>0.955435</td>\n",
              "      <td>0.932354</td>\n",
              "      <td>0.949765</td>\n",
              "      <td>0.938647</td>\n",
              "    </tr>\n",
              "    <tr>\n",
              "      <th>2</th>\n",
              "      <td>C33P1thinF_IMG_20150619_114756a_cell_181.png</td>\n",
              "      <td>Parasitized</td>\n",
              "      <td>1123.159091</td>\n",
              "      <td>1724.977043</td>\n",
              "      <td>1372.750000</td>\n",
              "      <td>1844.398531</td>\n",
              "      <td>0.982728</td>\n",
              "      <td>0.973473</td>\n",
              "      <td>0.978889</td>\n",
              "      <td>0.971636</td>\n",
              "      <td>...</td>\n",
              "      <td>0.617651</td>\n",
              "      <td>0.616289</td>\n",
              "      <td>0.787580</td>\n",
              "      <td>0.786145</td>\n",
              "      <td>0.785908</td>\n",
              "      <td>0.785040</td>\n",
              "      <td>0.952383</td>\n",
              "      <td>0.925515</td>\n",
              "      <td>0.941631</td>\n",
              "      <td>0.920358</td>\n",
              "    </tr>\n",
              "    <tr>\n",
              "      <th>3</th>\n",
              "      <td>C33P1thinF_IMG_20150619_114756a_cell_182.png</td>\n",
              "      <td>Parasitized</td>\n",
              "      <td>1070.613636</td>\n",
              "      <td>1333.539945</td>\n",
              "      <td>1221.681818</td>\n",
              "      <td>1744.880624</td>\n",
              "      <td>0.983536</td>\n",
              "      <td>0.979492</td>\n",
              "      <td>0.981212</td>\n",
              "      <td>0.973166</td>\n",
              "      <td>...</td>\n",
              "      <td>0.538135</td>\n",
              "      <td>0.533986</td>\n",
              "      <td>0.734849</td>\n",
              "      <td>0.734856</td>\n",
              "      <td>0.733577</td>\n",
              "      <td>0.730744</td>\n",
              "      <td>0.962901</td>\n",
              "      <td>0.953380</td>\n",
              "      <td>0.957631</td>\n",
              "      <td>0.939000</td>\n",
              "    </tr>\n",
              "    <tr>\n",
              "      <th>4</th>\n",
              "      <td>C33P1thinF_IMG_20150619_115740a_cell_161.png</td>\n",
              "      <td>Parasitized</td>\n",
              "      <td>1471.272727</td>\n",
              "      <td>1970.454545</td>\n",
              "      <td>1162.568182</td>\n",
              "      <td>1744.880624</td>\n",
              "      <td>0.977374</td>\n",
              "      <td>0.969697</td>\n",
              "      <td>0.982121</td>\n",
              "      <td>0.973166</td>\n",
              "      <td>...</td>\n",
              "      <td>0.572132</td>\n",
              "      <td>0.569324</td>\n",
              "      <td>0.754431</td>\n",
              "      <td>0.752365</td>\n",
              "      <td>0.756394</td>\n",
              "      <td>0.754536</td>\n",
              "      <td>0.944641</td>\n",
              "      <td>0.925097</td>\n",
              "      <td>0.956426</td>\n",
              "      <td>0.933671</td>\n",
              "    </tr>\n",
              "    <tr>\n",
              "      <th>...</th>\n",
              "      <td>...</td>\n",
              "      <td>...</td>\n",
              "      <td>...</td>\n",
              "      <td>...</td>\n",
              "      <td>...</td>\n",
              "      <td>...</td>\n",
              "      <td>...</td>\n",
              "      <td>...</td>\n",
              "      <td>...</td>\n",
              "      <td>...</td>\n",
              "      <td>...</td>\n",
              "      <td>...</td>\n",
              "      <td>...</td>\n",
              "      <td>...</td>\n",
              "      <td>...</td>\n",
              "      <td>...</td>\n",
              "      <td>...</td>\n",
              "      <td>...</td>\n",
              "      <td>...</td>\n",
              "      <td>...</td>\n",
              "      <td>...</td>\n",
              "    </tr>\n",
              "    <tr>\n",
              "      <th>195</th>\n",
              "      <td>C2NThinF_IMG_20150604_114730_cell_72.png</td>\n",
              "      <td>Uninfected</td>\n",
              "      <td>1156.000000</td>\n",
              "      <td>1837.764004</td>\n",
              "      <td>1333.340909</td>\n",
              "      <td>1651.997245</td>\n",
              "      <td>0.982222</td>\n",
              "      <td>0.971738</td>\n",
              "      <td>0.979495</td>\n",
              "      <td>0.974595</td>\n",
              "      <td>...</td>\n",
              "      <td>0.557311</td>\n",
              "      <td>0.557112</td>\n",
              "      <td>0.748154</td>\n",
              "      <td>0.744586</td>\n",
              "      <td>0.746532</td>\n",
              "      <td>0.746399</td>\n",
              "      <td>0.957953</td>\n",
              "      <td>0.932407</td>\n",
              "      <td>0.951479</td>\n",
              "      <td>0.939240</td>\n",
              "    </tr>\n",
              "    <tr>\n",
              "      <th>196</th>\n",
              "      <td>C2NThinF_IMG_20150604_114730_cell_98.png</td>\n",
              "      <td>Uninfected</td>\n",
              "      <td>1208.545455</td>\n",
              "      <td>1512.672176</td>\n",
              "      <td>1156.000000</td>\n",
              "      <td>1751.515152</td>\n",
              "      <td>0.981414</td>\n",
              "      <td>0.976737</td>\n",
              "      <td>0.982222</td>\n",
              "      <td>0.973064</td>\n",
              "      <td>...</td>\n",
              "      <td>0.539653</td>\n",
              "      <td>0.534991</td>\n",
              "      <td>0.734407</td>\n",
              "      <td>0.733812</td>\n",
              "      <td>0.734611</td>\n",
              "      <td>0.731431</td>\n",
              "      <td>0.957989</td>\n",
              "      <td>0.946985</td>\n",
              "      <td>0.959859</td>\n",
              "      <td>0.938614</td>\n",
              "    </tr>\n",
              "    <tr>\n",
              "      <th>197</th>\n",
              "      <td>C2NThinF_IMG_20150604_114751_cell_38.png</td>\n",
              "      <td>Uninfected</td>\n",
              "      <td>1044.340909</td>\n",
              "      <td>1479.499541</td>\n",
              "      <td>1077.181818</td>\n",
              "      <td>1360.078053</td>\n",
              "      <td>0.983940</td>\n",
              "      <td>0.977248</td>\n",
              "      <td>0.983435</td>\n",
              "      <td>0.979084</td>\n",
              "      <td>...</td>\n",
              "      <td>0.604205</td>\n",
              "      <td>0.605416</td>\n",
              "      <td>0.777588</td>\n",
              "      <td>0.776955</td>\n",
              "      <td>0.777306</td>\n",
              "      <td>0.778085</td>\n",
              "      <td>0.957686</td>\n",
              "      <td>0.939181</td>\n",
              "      <td>0.956349</td>\n",
              "      <td>0.944090</td>\n",
              "    </tr>\n",
              "    <tr>\n",
              "      <th>198</th>\n",
              "      <td>C2NThinF_IMG_20150604_114751_cell_69.png</td>\n",
              "      <td>Uninfected</td>\n",
              "      <td>932.681818</td>\n",
              "      <td>1214.118457</td>\n",
              "      <td>1070.613636</td>\n",
              "      <td>1399.885216</td>\n",
              "      <td>0.985657</td>\n",
              "      <td>0.981329</td>\n",
              "      <td>0.983536</td>\n",
              "      <td>0.978472</td>\n",
              "      <td>...</td>\n",
              "      <td>0.625652</td>\n",
              "      <td>0.625920</td>\n",
              "      <td>0.791907</td>\n",
              "      <td>0.792882</td>\n",
              "      <td>0.790982</td>\n",
              "      <td>0.791151</td>\n",
              "      <td>0.960018</td>\n",
              "      <td>0.947108</td>\n",
              "      <td>0.954029</td>\n",
              "      <td>0.939016</td>\n",
              "    </tr>\n",
              "    <tr>\n",
              "      <th>199</th>\n",
              "      <td>C2NThinF_IMG_20150604_114751_cell_92.png</td>\n",
              "      <td>Uninfected</td>\n",
              "      <td>1182.272727</td>\n",
              "      <td>1605.555556</td>\n",
              "      <td>1050.909091</td>\n",
              "      <td>1632.093664</td>\n",
              "      <td>0.981818</td>\n",
              "      <td>0.975309</td>\n",
              "      <td>0.983839</td>\n",
              "      <td>0.974901</td>\n",
              "      <td>...</td>\n",
              "      <td>0.618251</td>\n",
              "      <td>0.616114</td>\n",
              "      <td>0.785381</td>\n",
              "      <td>0.785176</td>\n",
              "      <td>0.786289</td>\n",
              "      <td>0.784929</td>\n",
              "      <td>0.950231</td>\n",
              "      <td>0.931302</td>\n",
              "      <td>0.955824</td>\n",
              "      <td>0.930166</td>\n",
              "    </tr>\n",
              "  </tbody>\n",
              "</table>\n",
              "<p>200 rows × 30 columns</p>\n",
              "</div>"
            ],
            "text/plain": [
              "                                         Filename        Label    Contrast0  \\\n",
              "0    C33P1thinF_IMG_20150619_114756a_cell_179.png  Parasitized  1379.318182   \n",
              "1    C33P1thinF_IMG_20150619_114756a_cell_180.png  Parasitized  1142.863636   \n",
              "2    C33P1thinF_IMG_20150619_114756a_cell_181.png  Parasitized  1123.159091   \n",
              "3    C33P1thinF_IMG_20150619_114756a_cell_182.png  Parasitized  1070.613636   \n",
              "4    C33P1thinF_IMG_20150619_115740a_cell_161.png  Parasitized  1471.272727   \n",
              "..                                            ...          ...          ...   \n",
              "195      C2NThinF_IMG_20150604_114730_cell_72.png   Uninfected  1156.000000   \n",
              "196      C2NThinF_IMG_20150604_114730_cell_98.png   Uninfected  1208.545455   \n",
              "197      C2NThinF_IMG_20150604_114751_cell_38.png   Uninfected  1044.340909   \n",
              "198      C2NThinF_IMG_20150604_114751_cell_69.png   Uninfected   932.681818   \n",
              "199      C2NThinF_IMG_20150604_114751_cell_92.png   Uninfected  1182.272727   \n",
              "\n",
              "      Contrast45   Contrast90  Contrast135  Homogeneity0  Homogeneity45  \\\n",
              "0    1943.916437  1346.477273  1851.033058      0.978788       0.970106   \n",
              "1    1711.707989  1287.363636  1552.479339      0.982425       0.973677   \n",
              "2    1724.977043  1372.750000  1844.398531      0.982728       0.973473   \n",
              "3    1333.539945  1221.681818  1744.880624      0.983536       0.979492   \n",
              "4    1970.454545  1162.568182  1744.880624      0.977374       0.969697   \n",
              "..           ...          ...          ...           ...            ...   \n",
              "195  1837.764004  1333.340909  1651.997245      0.982222       0.971738   \n",
              "196  1512.672176  1156.000000  1751.515152      0.981414       0.976737   \n",
              "197  1479.499541  1077.181818  1360.078053      0.983940       0.977248   \n",
              "198  1214.118457  1070.613636  1399.885216      0.985657       0.981329   \n",
              "199  1605.555556  1050.909091  1632.093664      0.981818       0.975309   \n",
              "\n",
              "     Homogeneity90  Homogeneity135  ...     ASM90    ASM135   Energy0  \\\n",
              "0         0.979293        0.971534  ...  0.573742  0.571836  0.757573   \n",
              "1         0.980202        0.976125  ...  0.586487  0.587554  0.767038   \n",
              "2         0.978889        0.971636  ...  0.617651  0.616289  0.787580   \n",
              "3         0.981212        0.973166  ...  0.538135  0.533986  0.734849   \n",
              "4         0.982121        0.973166  ...  0.572132  0.569324  0.754431   \n",
              "..             ...             ...  ...       ...       ...       ...   \n",
              "195       0.979495        0.974595  ...  0.557311  0.557112  0.748154   \n",
              "196       0.982222        0.973064  ...  0.539653  0.534991  0.734407   \n",
              "197       0.983435        0.979084  ...  0.604205  0.605416  0.777588   \n",
              "198       0.983536        0.978472  ...  0.625652  0.625920  0.791907   \n",
              "199       0.983839        0.974901  ...  0.618251  0.616114  0.785381   \n",
              "\n",
              "     Energy45  Energy90  Energy135  Correlation0  Correlation45  \\\n",
              "0    0.755309  0.757458   0.756199      0.947666       0.925357   \n",
              "1    0.765002  0.765824   0.766521      0.955435       0.932354   \n",
              "2    0.786145  0.785908   0.785040      0.952383       0.925515   \n",
              "3    0.734856  0.733577   0.730744      0.962901       0.953380   \n",
              "4    0.752365  0.756394   0.754536      0.944641       0.925097   \n",
              "..        ...       ...        ...           ...            ...   \n",
              "195  0.744586  0.746532   0.746399      0.957953       0.932407   \n",
              "196  0.733812  0.734611   0.731431      0.957989       0.946985   \n",
              "197  0.776955  0.777306   0.778085      0.957686       0.939181   \n",
              "198  0.792882  0.790982   0.791151      0.960018       0.947108   \n",
              "199  0.785176  0.786289   0.784929      0.950231       0.931302   \n",
              "\n",
              "     Correlation90  Correlation135  \n",
              "0         0.948995        0.928924  \n",
              "1         0.949765        0.938647  \n",
              "2         0.941631        0.920358  \n",
              "3         0.957631        0.939000  \n",
              "4         0.956426        0.933671  \n",
              "..             ...             ...  \n",
              "195       0.951479        0.939240  \n",
              "196       0.959859        0.938614  \n",
              "197       0.956349        0.944090  \n",
              "198       0.954029        0.939016  \n",
              "199       0.955824        0.930166  \n",
              "\n",
              "[200 rows x 30 columns]"
            ]
          },
          "execution_count": 12,
          "metadata": {},
          "output_type": "execute_result"
        }
      ],
      "source": [
        "dataTable = {'Filename': file_name, 'Label': labels,\n",
        "        'Contrast0': Kontras0, 'Contrast45': Kontras45, 'Contrast90': Kontras90, 'Contrast135': Kontras135,\n",
        "        'Homogeneity0': homogenity0, 'Homogeneity45': homogenity45, 'Homogeneity90': homogenity90, 'Homogeneity135': homogenity135,\n",
        "        'Dissimilarity0': dissimilarity0, 'Dissimilarity45': dissimilarity45, 'Dissimilarity90': dissimilarity90, 'Dissimilarity135': dissimilarity135,\n",
        "        'Entropy0': entropy0, 'Entropy45': entropy45, 'Entropy90': entropy90, 'Entropy135': entropy135,\n",
        "        'ASM0': ASM0, 'ASM45': ASM45, 'ASM90': ASM90, 'ASM135': ASM135,\n",
        "        'Energy0': energy0, 'Energy45': energy45, 'Energy90': energy90, 'Energy135': energy135,\n",
        "        'Correlation0': correlation0, 'Correlation45': correlation45, 'Correlation90': correlation90, 'Correlation135': correlation135,\n",
        "        }\n",
        "df = pd.DataFrame(dataTable)\n",
        "df.to_csv('hasil_ekstraksi_2.csv', index=False)\n",
        "\n",
        "hasilEkstrak = pd.read_csv('hasil_ekstraksi_2.csv')\n",
        "hasilEkstrak"
      ]
    },
    {
      "cell_type": "markdown",
      "source": [
        "Kode ini berfungsi untuk menyusun dan menyimpan data hasil ekstraksi fitur tekstur ke dalam format tabel yang mudah diolah dan dianalisis. Pertama, sebuah dictionary bernama `dataTable` dibuat, yang berisi berbagai kolom berupa informasi nama file (`Filename`), label kelas (`Label`), dan fitur tekstur yang telah diekstraksi dari citra untuk masing-masing arah (0°, 45°, 90°, dan 135°). Setiap fitur seperti `Contrast`, `Homogeneity`, `Dissimilarity`, `Entropy`, `ASM`, `Energy`, dan `Correlation` memiliki empat kolom yang merepresentasikan hasil perhitungan pada masing-masing arah tersebut.\n",
        "\n",
        "Selanjutnya, dictionary ini dikonversi menjadi sebuah objek DataFrame menggunakan `pd.DataFrame(dataTable)`, yang merupakan struktur data tabular dari pustaka pandas, sehingga data menjadi lebih terstruktur dan mudah dimanipulasi. DataFrame ini kemudian disimpan ke file CSV dengan nama `'hasil_ekstraksi_2.csv'` menggunakan fungsi `to_csv()`, tanpa menyimpan indeks baris (`index=False`).\n",
        "\n",
        "Terakhir, file CSV yang telah disimpan dibaca kembali ke dalam DataFrame bernama `hasilEkstrak` menggunakan `pd.read_csv()`, dan DataFrame ini ditampilkan untuk melihat isi data hasil ekstraksi fitur tekstur tersebut. Dengan demikian, proses ini menggabungkan semua fitur tekstur dan informasi terkait dalam satu file yang siap digunakan untuk analisis lebih lanjut atau pelatihan model machine learning.\n"
      ],
      "metadata": {
        "id": "W2I1dbsLhS9l"
      },
      "id": "W2I1dbsLhS9l"
    },
    {
      "cell_type": "markdown",
      "id": "099ed148",
      "metadata": {
        "id": "099ed148"
      },
      "source": [
        "# Feature Selection"
      ]
    },
    {
      "cell_type": "code",
      "execution_count": null,
      "id": "a2881a1d",
      "metadata": {
        "id": "a2881a1d",
        "outputId": "b1b512e0-904a-490c-fe8e-de6b346ecbca"
      },
      "outputs": [
        {
          "name": "stdout",
          "output_type": "stream",
          "text": [
            "Explained Variance Ratio: [0.73925437 0.21696513]\n",
            "Number of Components: 2\n"
          ]
        },
        {
          "data": {
            "text/html": [
              "<div>\n",
              "<style scoped>\n",
              "    .dataframe tbody tr th:only-of-type {\n",
              "        vertical-align: middle;\n",
              "    }\n",
              "\n",
              "    .dataframe tbody tr th {\n",
              "        vertical-align: top;\n",
              "    }\n",
              "\n",
              "    .dataframe thead th {\n",
              "        text-align: right;\n",
              "    }\n",
              "</style>\n",
              "<table border=\"1\" class=\"dataframe\">\n",
              "  <thead>\n",
              "    <tr style=\"text-align: right;\">\n",
              "      <th></th>\n",
              "      <th>PC1</th>\n",
              "      <th>PC2</th>\n",
              "      <th>Label</th>\n",
              "    </tr>\n",
              "  </thead>\n",
              "  <tbody>\n",
              "    <tr>\n",
              "      <th>0</th>\n",
              "      <td>0.539182</td>\n",
              "      <td>-0.673813</td>\n",
              "      <td>Parasitized</td>\n",
              "    </tr>\n",
              "    <tr>\n",
              "      <th>1</th>\n",
              "      <td>-1.696731</td>\n",
              "      <td>-0.029983</td>\n",
              "      <td>Parasitized</td>\n",
              "    </tr>\n",
              "    <tr>\n",
              "      <th>2</th>\n",
              "      <td>-2.049527</td>\n",
              "      <td>-2.524000</td>\n",
              "      <td>Parasitized</td>\n",
              "    </tr>\n",
              "    <tr>\n",
              "      <th>3</th>\n",
              "      <td>-0.643933</td>\n",
              "      <td>3.453744</td>\n",
              "      <td>Parasitized</td>\n",
              "    </tr>\n",
              "    <tr>\n",
              "      <th>4</th>\n",
              "      <td>0.278095</td>\n",
              "      <td>-0.199195</td>\n",
              "      <td>Parasitized</td>\n",
              "    </tr>\n",
              "  </tbody>\n",
              "</table>\n",
              "</div>"
            ],
            "text/plain": [
              "        PC1       PC2        Label\n",
              "0  0.539182 -0.673813  Parasitized\n",
              "1 -1.696731 -0.029983  Parasitized\n",
              "2 -2.049527 -2.524000  Parasitized\n",
              "3 -0.643933  3.453744  Parasitized\n",
              "4  0.278095 -0.199195  Parasitized"
            ]
          },
          "execution_count": 13,
          "metadata": {},
          "output_type": "execute_result"
        }
      ],
      "source": [
        "# Standardize the features\n",
        "x_new = hasilEkstrak.drop(columns=['Label', 'Filename'])\n",
        "y = hasilEkstrak['Label']\n",
        "scaler = StandardScaler()\n",
        "x_scaled = scaler.fit_transform(x_new)\n",
        "\n",
        "# Apply PCA\n",
        "pca = PCA(n_components=0.95)  # Retain 95% of the variance\n",
        "x_pca = pca.fit_transform(x_scaled)\n",
        "\n",
        "# Display the explained variance ratio\n",
        "print(\"Explained Variance Ratio:\", pca.explained_variance_ratio_)\n",
        "print(\"Number of Components:\", pca.n_components_)\n",
        "\n",
        "# Create a DataFrame for the PCA-transformed features\n",
        "pca_features = pd.DataFrame(x_pca, columns=[f'PC{i+1}' for i in range(pca.n_components_)])\n",
        "pca_features['Label'] = y\n",
        "pca_features.head()"
      ]
    },
    {
      "cell_type": "markdown",
      "source": [
        "Kode ini melakukan pengolahan data fitur tekstur menggunakan dua langkah penting: standarisasi fitur dan reduksi dimensi dengan PCA (Principal Component Analysis).\n",
        "\n",
        "Pertama, variabel `x_new` berisi semua kolom fitur dari `hasilEkstrak` kecuali kolom `Label` dan `Filename`, yang tidak digunakan sebagai fitur. Label kelas disimpan terpisah dalam variabel `y`. Kemudian, `StandardScaler()` digunakan untuk melakukan standarisasi fitur agar setiap fitur memiliki rata-rata 0 dan standar deviasi 1. Hal ini penting agar semua fitur memiliki skala yang sama sebelum diterapkan PCA.\n",
        "\n",
        "Setelah data distandarisasi, PCA diterapkan dengan tujuan mempertahankan 95% variansi asli data (`n_components=0.95`). PCA akan mengubah fitur asli menjadi sejumlah komponen utama (principal components) yang lebih sedikit, sambil tetap mempertahankan sebagian besar informasi dari data asli.\n",
        "\n",
        "Kode mencetak rasio variansi yang dijelaskan oleh masing-masing komponen utama (`explained_variance_ratio_`) dan jumlah komponen yang terpilih (`n_components_`). Selanjutnya, hasil transformasi PCA disimpan dalam sebuah DataFrame baru `pca_features` dengan kolom dinamai `PC1`, `PC2`, dan seterusnya, serta menambahkan kembali kolom `Label` untuk referensi kelas. DataFrame ini kemudian ditampilkan dengan `head()` untuk melihat beberapa baris pertama hasil transformasi.\n"
      ],
      "metadata": {
        "id": "-xeNAjtDhofC"
      },
      "id": "-xeNAjtDhofC"
    },
    {
      "cell_type": "code",
      "execution_count": null,
      "id": "384004c3",
      "metadata": {
        "id": "384004c3",
        "outputId": "5a1e7dad-26f3-4f24-db8a-e4ce1391129b"
      },
      "outputs": [
        {
          "name": "stdout",
          "output_type": "stream",
          "text": [
            "(160, 28)\n",
            "(40, 28)\n"
          ]
        }
      ],
      "source": [
        "# 0.3 = 30% data untuk testing (train/test 70/30)\n",
        "# 0.2 = 20% data untuk testing (train/test 80/20)\n",
        "X_train, X_test, y_train, y_test = train_test_split(x_new, y, test_size=0.2, random_state=42)\n",
        "print(X_train.shape)\n",
        "print(X_test.shape)"
      ]
    },
    {
      "cell_type": "markdown",
      "source": [
        "Kode ini digunakan untuk membagi dataset fitur dan label menjadi dua bagian utama: data pelatihan (training) dan data pengujian (testing). Dengan menggunakan fungsi train_test_split dari pustaka scikit-learn, data fitur x_new dan label y dibagi secara acak berdasarkan proporsi tertentu.\n",
        "\n",
        "Parameter `test_size=0.2` berarti 20% dari seluruh data akan dipisahkan sebagai data pengujian, sementara sisanya 80% digunakan sebagai data pelatihan. `random_state=42` berfungsi untuk memastikan pembagian data ini konsisten dan dapat direproduksi setiap kali kode dijalankan.\n",
        "\n",
        "Setelah pembagian, ukuran (jumlah baris dan kolom) dari data pelatihan dan pengujian ditampilkan menggunakan print(), agar dapat diketahui berapa banyak sampel yang tersedia untuk masing-masing tahap. Misalnya, output (x, y) pada X_train.shape menunjukkan jumlah sampel dan fitur dalam data pelatihan, sementara X_test.shape menunjukkan ukuran data pengujian."
      ],
      "metadata": {
        "id": "UY_TXu05h0ag"
      },
      "id": "UY_TXu05h0ag"
    },
    {
      "cell_type": "code",
      "execution_count": null,
      "id": "57802c82",
      "metadata": {
        "id": "57802c82"
      },
      "outputs": [],
      "source": [
        "mean_train = X_train.mean(axis=0)\n",
        "std_train = X_train.std(axis=0)\n",
        "\n",
        "# Normalisasi data train dan test dengan Z-score\n",
        "X_train = (X_train - mean_train) / std_train\n",
        "X_test = (X_test - mean_train) / std_train"
      ]
    },
    {
      "cell_type": "markdown",
      "source": [
        "Kode ini melakukan normalisasi fitur pada data pelatihan (X_train) dan data pengujian (X_test) menggunakan metode Z-score standar. Pertama, dihitung nilai rata-rata (mean_train) dan standar deviasi (std_train) dari setiap fitur pada data pelatihan secara kolom (axis=0).\n",
        "\n",
        "Setelah itu, setiap nilai fitur pada data pelatihan dinormalisasi dengan cara mengurangi nilai rata-rata dan dibagi dengan standar deviasi yang sudah dihitung. Proses yang sama juga diterapkan pada data pengujian, menggunakan rata-rata dan standar deviasi dari data pelatihan, bukan dari data pengujian. Ini penting agar skala data pelatihan dan pengujian konsisten dan model tidak \"melihat\" informasi dari data uji selama pelatihan.\n",
        "\n",
        "Normalisasi Z-score ini membantu model machine learning agar fitur-fitur dengan skala berbeda menjadi sejajar, mempercepat proses pelatihan, dan sering meningkatkan performa model."
      ],
      "metadata": {
        "id": "PTXfeVMDiFWU"
      },
      "id": "PTXfeVMDiFWU"
    },
    {
      "cell_type": "code",
      "execution_count": null,
      "id": "6244f0bf",
      "metadata": {
        "id": "6244f0bf"
      },
      "outputs": [],
      "source": [
        "def generateClassificationReport(y_true, y_pred):\n",
        "\tprint(classification_report(y_true, y_pred))\n",
        "\tprint(confusion_matrix(y_true, y_pred))\n",
        "\tprint('Accuracy:', accuracy_score(y_true, y_pred))\n",
        "\n",
        "# Define classifiers\n",
        "rf = RandomForestClassifier(n_estimators=5, random_state=42)\n",
        "svm = SVC(kernel='rbf', random_state=42)\n",
        "knn = KNeighborsClassifier(n_neighbors=5)"
      ]
    },
    {
      "cell_type": "markdown",
      "source": [
        "Kode ini terdiri dari dua bagian utama. Pertama, dibuat sebuah fungsi bernama `generateClassificationReport` yang berfungsi untuk mengevaluasi performa model klasifikasi. Fungsi ini menerima input berupa label asli (`y_true`) dan label prediksi dari model (`y_pred`), lalu mencetak laporan klasifikasi yang meliputi metrik seperti precision, recall, dan f1-score untuk masing-masing kelas. Selain itu, fungsi ini juga menampilkan confusion matrix yang menggambarkan jumlah prediksi benar dan salah, serta menghitung dan menampilkan akurasi keseluruhan dari model.\n",
        "\n",
        "Fungsi `generateClassificationReport` digunakan untuk mengevaluasi performa model klasifikasi dengan menampilkan beberapa metrik penting. Pertama, `classification_report` memberikan ringkasan metrik evaluasi seperti precision, recall, dan f1-score untuk setiap kelas, yang menggambarkan bagaimana model memprediksi tiap kategori secara detail. Selain itu, fungsi ini juga menampilkan `confusion_matrix`, yaitu sebuah matriks yang memperlihatkan jumlah prediksi yang benar dan salah untuk tiap kelas, sehingga memudahkan analisis kesalahan model. Terakhir, `accuracy_score` dihitung dan ditampilkan sebagai persentase keseluruhan prediksi yang benar, memberikan gambaran umum seberapa baik model dalam memetakan data.\n",
        "\n",
        "Bagian kedua kode mendefinisikan tiga model klasifikasi yang akan digunakan untuk melatih dan menguji data. Model pertama adalah `RandomForestClassifier` dengan 5 pohon keputusan, yang diinisialisasi dengan `random_state=42` agar hasil pelatihan dapat direproduksi. Model kedua adalah `SVC` atau Support Vector Classifier dengan kernel RBF, yang sangat efektif untuk memisahkan data yang tidak linier. Model ketiga adalah `KNeighborsClassifier` dengan 5 tetangga terdekat, yang menggunakan pendekatan berbasis jarak untuk mengklasifikasikan data. Ketiga model ini kemudian dapat digunakan dalam pipeline pelatihan dan evaluasi, dengan hasilnya dianalisis menggunakan fungsi `generateClassificationReport`.\n"
      ],
      "metadata": {
        "id": "aoGUWmD4iZaT"
      },
      "id": "aoGUWmD4iZaT"
    },
    {
      "cell_type": "code",
      "execution_count": null,
      "id": "394f658c",
      "metadata": {
        "id": "394f658c",
        "outputId": "58ea6b93-046e-4fe1-e98e-6359b8b3e95f"
      },
      "outputs": [
        {
          "name": "stdout",
          "output_type": "stream",
          "text": [
            "------Training Set------\n",
            "              precision    recall  f1-score   support\n",
            "\n",
            " Parasitized       0.95      0.97      0.96        79\n",
            "  Uninfected       0.97      0.95      0.96        81\n",
            "\n",
            "    accuracy                           0.96       160\n",
            "   macro avg       0.96      0.96      0.96       160\n",
            "weighted avg       0.96      0.96      0.96       160\n",
            "\n",
            "[[77  2]\n",
            " [ 4 77]]\n",
            "Accuracy: 0.9625\n",
            "\n",
            "------Testing Set------\n",
            "              precision    recall  f1-score   support\n",
            "\n",
            " Parasitized       0.83      0.48      0.61        21\n",
            "  Uninfected       0.61      0.89      0.72        19\n",
            "\n",
            "    accuracy                           0.68        40\n",
            "   macro avg       0.72      0.69      0.66        40\n",
            "weighted avg       0.73      0.68      0.66        40\n",
            "\n",
            "[[10 11]\n",
            " [ 2 17]]\n",
            "Accuracy: 0.675\n"
          ]
        }
      ],
      "source": [
        "# Train Random Forest Classifier\n",
        "rf.fit(X_train, y_train)\n",
        "\n",
        "# Make predictions and evaluate the model with the training set\n",
        "print(\"------Training Set------\")\n",
        "y_pred = rf.predict(X_train)\n",
        "generateClassificationReport( y_train, y_pred)\n",
        "\n",
        "# Make predictions and evaluate the model with the testing set\n",
        "print(\"\\n------Testing Set------\")\n",
        "y_pred = rf.predict(X_test)\n",
        "generateClassificationReport( y_test, y_pred)"
      ]
    },
    {
      "cell_type": "markdown",
      "source": [
        "Kode ini menjalankan proses pelatihan dan evaluasi model Random Forest Classifier. Pertama, model `rf` dilatih menggunakan data pelatihan `X_train` dan labelnya `y_train` melalui metode `.fit()`. Setelah pelatihan selesai, model digunakan untuk memprediksi label pada data pelatihan yang sama, lalu hasil prediksi tersebut dievaluasi dengan memanggil fungsi `generateClassificationReport` yang membandingkan prediksi dengan label asli. Ini bertujuan untuk melihat seberapa baik model mengenali data yang sudah dipelajarinya.\n",
        "\n",
        "Selanjutnya, model yang sudah dilatih diuji pada data pengujian `X_test` yang belum pernah dilihat oleh model sebelumnya. Prediksi pada data pengujian ini kemudian juga dievaluasi menggunakan fungsi yang sama, untuk mengetahui kemampuan model dalam menggeneralisasi atau memprediksi data baru. Dengan membandingkan hasil evaluasi pada data pelatihan dan pengujian, kita dapat menilai apakah model sudah belajar dengan baik atau mungkin mengalami overfitting."
      ],
      "metadata": {
        "id": "0vVlqGZZjN_Q"
      },
      "id": "0vVlqGZZjN_Q"
    },
    {
      "cell_type": "code",
      "execution_count": null,
      "id": "a11f211b",
      "metadata": {
        "id": "a11f211b",
        "outputId": "b8bd2b59-3517-45e4-b1d4-39c439657bff"
      },
      "outputs": [
        {
          "name": "stdout",
          "output_type": "stream",
          "text": [
            "\n",
            "------Training Set------\n",
            "              precision    recall  f1-score   support\n",
            "\n",
            " Parasitized       0.84      0.80      0.82        79\n",
            "  Uninfected       0.81      0.85      0.83        81\n",
            "\n",
            "    accuracy                           0.82       160\n",
            "   macro avg       0.83      0.82      0.82       160\n",
            "weighted avg       0.83      0.82      0.82       160\n",
            "\n",
            "[[63 16]\n",
            " [12 69]]\n",
            "Accuracy: 0.825\n",
            "\n",
            "------Testing Set------\n",
            "              precision    recall  f1-score   support\n",
            "\n",
            " Parasitized       0.83      0.48      0.61        21\n",
            "  Uninfected       0.61      0.89      0.72        19\n",
            "\n",
            "    accuracy                           0.68        40\n",
            "   macro avg       0.72      0.69      0.66        40\n",
            "weighted avg       0.73      0.68      0.66        40\n",
            "\n",
            "[[10 11]\n",
            " [ 2 17]]\n",
            "Accuracy: 0.675\n"
          ]
        }
      ],
      "source": [
        "# Train SVM Classifier\n",
        "svm.fit(X_train, y_train)\n",
        "\n",
        "# Make predictions and evaluate the model with the training set\n",
        "print(\"\\n------Training Set------\")\n",
        "y_pred = svm.predict(X_train)\n",
        "generateClassificationReport( y_train, y_pred)\n",
        "\n",
        "# Make predictions and evaluate the model with the testing set\n",
        "print(\"\\n------Testing Set------\")\n",
        "y_pred = svm.predict(X_test)\n",
        "generateClassificationReport( y_test, y_pred)"
      ]
    },
    {
      "cell_type": "markdown",
      "source": [
        "Kode ini melakukan pelatihan dan evaluasi model Support Vector Machine (SVM) dengan cara yang sama seperti pada Random Forest sebelumnya. Pertama, model SVM dilatih menggunakan data pelatihan `X_train` dan labelnya `y_train` melalui fungsi `.fit()`. Setelah itu, model digunakan untuk memprediksi label pada data pelatihan yang sama, lalu hasil prediksi dievaluasi dengan memanggil fungsi `generateClassificationReport` untuk melihat seberapa baik model mengenali data yang sudah dipelajari.\n",
        "\n",
        "Kemudian, model yang sudah dilatih diuji pada data pengujian `X_test`, yang belum pernah digunakan selama pelatihan. Prediksi dari data pengujian ini juga dievaluasi menggunakan fungsi yang sama untuk mengukur kemampuan model dalam memprediksi data baru. Dengan demikian, kita dapat membandingkan performa model SVM pada data pelatihan dan pengujian, sehingga bisa mengetahui apakah model mampu menggeneralisasi dengan baik atau mengalami overfitting.\n"
      ],
      "metadata": {
        "id": "cP9gDpCija0A"
      },
      "id": "cP9gDpCija0A"
    },
    {
      "cell_type": "code",
      "execution_count": null,
      "id": "66e5342a",
      "metadata": {
        "id": "66e5342a",
        "outputId": "7ec7c637-4a17-46a3-c6ce-bfa948d80a92"
      },
      "outputs": [
        {
          "name": "stdout",
          "output_type": "stream",
          "text": [
            "\n",
            "------Training Set------\n",
            "              precision    recall  f1-score   support\n",
            "\n",
            " Parasitized       0.81      0.80      0.80        79\n",
            "  Uninfected       0.80      0.81      0.81        81\n",
            "\n",
            "    accuracy                           0.81       160\n",
            "   macro avg       0.81      0.81      0.81       160\n",
            "weighted avg       0.81      0.81      0.81       160\n",
            "\n",
            "[[63 16]\n",
            " [15 66]]\n",
            "Accuracy: 0.80625\n",
            "\n",
            "------Testing Set------\n",
            "              precision    recall  f1-score   support\n",
            "\n",
            " Parasitized       0.85      0.52      0.65        21\n",
            "  Uninfected       0.63      0.89      0.74        19\n",
            "\n",
            "    accuracy                           0.70        40\n",
            "   macro avg       0.74      0.71      0.69        40\n",
            "weighted avg       0.74      0.70      0.69        40\n",
            "\n",
            "[[11 10]\n",
            " [ 2 17]]\n",
            "Accuracy: 0.7\n"
          ]
        }
      ],
      "source": [
        "# Train KNN Classifier\n",
        "knn.fit(X_train, y_train)\n",
        "\n",
        "# Make predictions and evaluate the model with the training set\n",
        "print(\"\\n------Training Set------\")\n",
        "y_pred = knn.predict(X_train)\n",
        "generateClassificationReport( y_train, y_pred)\n",
        "\n",
        "# Make predictions and evaluate the model with the testing set\n",
        "print(\"\\n------Testing Set------\")\n",
        "y_pred = knn.predict(X_test)\n",
        "generateClassificationReport( y_test, y_pred)"
      ]
    },
    {
      "cell_type": "markdown",
      "source": [
        "Kode ini menjalankan proses pelatihan dan evaluasi model K-Nearest Neighbors (KNN). Pertama, model `knn` dilatih menggunakan data pelatihan `X_train` beserta labelnya `y_train` dengan memanggil metode `.fit()`. Setelah model selesai dilatih, dilakukan prediksi pada data pelatihan itu sendiri, dan hasil prediksi tersebut dievaluasi menggunakan fungsi `generateClassificationReport` untuk mengetahui seberapa baik model mengenali pola dalam data yang sudah dipelajari.\n",
        "\n",
        "Selanjutnya, model yang telah dilatih digunakan untuk memprediksi label pada data pengujian `X_test`, yang merupakan data baru bagi model. Hasil prediksi pada data pengujian tersebut kemudian dievaluasi lagi dengan fungsi yang sama untuk mengukur kemampuan model dalam menggeneralisasi dan memprediksi data yang belum pernah dilihat sebelumnya. Dengan membandingkan performa pada data pelatihan dan pengujian, kita dapat menilai apakah model KNN bekerja dengan baik atau mengalami masalah seperti overfitting."
      ],
      "metadata": {
        "id": "vH4PAgEOjoAX"
      },
      "id": "vH4PAgEOjoAX"
    },
    {
      "cell_type": "markdown",
      "source": [
        "Kode ini berfungsi untuk memvisualisasikan matriks kebingungan (confusion matrix) dari hasil prediksi beberapa model klasifikasi, yaitu Random Forest, SVM, dan KNN. Fungsi `plot_confusion_matrix` menerima data label asli (`y_true`), hasil prediksi model (`y_pred`), dan judul grafik (`title`). Di dalam fungsi, matriks kebingungan dihitung menggunakan `confusion_matrix`, lalu ditampilkan secara visual dengan `ConfusionMatrixDisplay` menggunakan warna biru sebagai skema warna. Setiap plot diberikan judul sesuai dengan model yang diuji.\n",
        "\n",
        "Setelah fungsi didefinisikan, kode kemudian memanggil fungsi ini untuk masing-masing model dengan data pengujian `y_test` dan prediksi dari model pada `X_test`. Visualisasi ini membantu untuk melihat secara langsung berapa banyak prediksi yang benar dan salah pada tiap kelas, sehingga memudahkan analisis performa model secara visual dan komprehensif.\n"
      ],
      "metadata": {
        "id": "hI7KCvQxjtjI"
      },
      "id": "hI7KCvQxjtjI"
    },
    {
      "cell_type": "code",
      "execution_count": null,
      "id": "c91e13eb",
      "metadata": {
        "id": "c91e13eb",
        "outputId": "dd48810e-31bf-4d0c-ab26-778e4e8e08e5"
      },
      "outputs": [
        {
          "data": {
            "image/png": "[encoded data removed]",
            "text/plain": [
              "<Figure size 640x480 with 2 Axes>"
            ]
          },
          "metadata": {},
          "output_type": "display_data"
        },
        {
          "data": {
            "image/png": "[encoded data removed]",
            "text/plain": [
              "<Figure size 640x480 with 2 Axes>"
            ]
          },
          "metadata": {},
          "output_type": "display_data"
        },
        {
          "data": {
            "image/png": "[encoded data removed]",
            "text/plain": [
              "<Figure size 640x480 with 2 Axes>"
            ]
          },
          "metadata": {},
          "output_type": "display_data"
        }
      ],
      "source": [
        "def plot_confusion_matrix(y_true, y_pred, title):\n",
        "    cm = confusion_matrix(y_true, y_pred)\n",
        "    disp = ConfusionMatrixDisplay(confusion_matrix=cm)\n",
        "    disp.plot(cmap=plt.cm.Blues)\n",
        "    plt.title(title)\n",
        "    plt.show()\n",
        "\n",
        "# Plot confusion matrix for Random Forest\n",
        "plot_confusion_matrix(y_test, rf.predict(X_test), \"Random Forest Confusion Matrix\")\n",
        "# Plot confusion matrix for SVM\n",
        "plot_confusion_matrix(y_test, svm.predict(X_test), \"SVM Confusion Matrix\")\n",
        "# Plot confusion matrix for KNN\n",
        "plot_confusion_matrix(y_test, knn.predict(X_test), \"KNN Confusion Matrix\")"
      ]
    }
  ],
  "metadata": {
    "kernelspec": {
      "display_name": "Python 3",
      "language": "python",
      "name": "python3"
    },
    "language_info": {
      "codemirror_mode": {
        "name": "ipython",
        "version": 3
      },
      "file_extension": ".py",
      "mimetype": "text/x-python",
      "name": "python",
      "nbconvert_exporter": "python",
      "pygments_lexer": "ipython3",
      "version": "3.12.4"
    },
    "colab": {
      "provenance": []
    }
  },
  "nbformat": 4,
  "nbformat_minor": 5
}