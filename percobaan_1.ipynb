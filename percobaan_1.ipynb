{
  "cells": [
    {
      "cell_type": "markdown",
      "id": "ce169b68",
      "metadata": {
        "id": "ce169b68"
      },
      "source": [
        "<div style=\"font-family: 'Times New Roman', Times, serif; font-size: 30px; font-weight: bold;\">\n",
        "  PROJECT PENGOLAHAN CITRA DIGITAL\n",
        "</div>\n",
        "Analisis Infeksi Malaria Berdasarkan Perbedaan Tekstur Citra Sek Darah Menggunakan Segmentasi Thresholding\n",
        "\n",
        "================================= PERCOBAAN 1 ==================================="
      ]
    },
    {
      "cell_type": "code",
      "execution_count": null,
      "id": "b842d573",
      "metadata": {
        "id": "b842d573"
      },
      "outputs": [],
      "source": [
        "import os\n",
        "import cv2 as cv\n",
        "import matplotlib.pyplot as plt\n",
        "import numpy as np\n",
        "import pandas as pd\n",
        "from math import ceil\n",
        "from collections import Counter\n",
        "from sklearn.preprocessing import StandardScaler\n",
        "from sklearn.decomposition import PCA\n",
        "from sklearn.model_selection import train_test_split\n",
        "from sklearn.metrics import accuracy_score, classification_report\n",
        "from skimage.feature import graycomatrix, graycoprops\n",
        "from scipy.stats import entropy\n",
        "from sklearn.ensemble import RandomForestClassifier\n",
        "from sklearn.svm import SVC\n",
        "from sklearn.neighbors import KNeighborsClassifier\n",
        "from sklearn.metrics import accuracy_score, confusion_matrix, classification_report\n",
        "from sklearn.metrics import ConfusionMatrixDisplay"
      ]
    },
    {
      "cell_type": "markdown",
      "id": "1c321562",
      "metadata": {
        "id": "1c321562"
      },
      "source": [
        "Dalam proyek ini, kode di atas merupakan berbagai library yang diimpor untuk menunjang proses pengolahan citra, ekstraksi fitur, dan klasifikasi menggunakan machine learning. Library os digunakan untuk mengelola file dan folder, seperti membaca nama-nama file gambar yang akan diproses menggunakan fungsi seperti `os.listdir()` dan `os.path.join()`. Untuk pengolahan citra digital, digunakan `cv2` (diimpor sebagai `cv`) yang menyediakan fungsi-fungsi seperti `cv.imread()`, `cv.cvtColor()`, dan `cv.resize()` untuk membaca, mengubah warna, dan mengubah ukuran gambar. Visualisasi hasil seperti tampilan gambar atau grafik dilakukan menggunakan `matplotlib.pyplot` melalui fungsi `plt.imshow()`, `plt.title()`, dan `plt.show()`.\n",
        "\n",
        "Library numpy (`np`) digunakan untuk operasi numerik seperti membuat array (`np.array()`), menghitung rata-rata (`np.mean()`), atau matriks korelasi. Fungsi `ceil()` dari math digunakan untuk membulatkan angka ke atas, sedangkan Counter dari collections digunakan untuk menghitung frekuensi label menggunakan `Counter()`.\n",
        "\n",
        "Untuk pengelolaan data tabular, digunakan pandas (`pd`) yang memudahkan manipulasi data menggunakan struktur DataFrame, dengan fungsi seperti `pd.DataFrame()` dan `df.to_csv()`. Normalisasi fitur dilakukan dengan StandardScaler dari `sklearn`.preprocessing menggunakan fungsi `fit_transform()`, yang penting agar setiap fitur memiliki skala yang seragam. Untuk mengurangi dimensi data dan menghindari redundansi, digunakan PCA dari sklearn.decomposition dengan fungsi seperti `PCA()`.`fit_transform()`. Dataset kemudian dibagi menggunakan `train_test_split()` dari `sklearn.model_selection` menjadi data latih dan data uji.\n",
        "\n",
        "Evaluasi performa model dilakukan menggunakan beberapa metrik dari `sklearn.metrics`, seperti `accuracy_score()`, `classification_report()`, `confusion_matrix()`, dan visualisasi dengan `ConfusionMatrixDisplay`. `from_predictions()`. Untuk ekstraksi fitur tekstur, digunakan metode GLCM (Gray-Level Co-occurrence Matrix) dari skimage.feature melalui fungsi `graycomatrix()` untuk membuat matriks ko-occurrence dan `graycoprops()` untuk menghitung properti tekstur seperti contrast, homogeneity, dan ASM. Selain itu, nilai entropi dihitung dari histogram citra menggunakan fungsi `entropy()` dari scipy.stats.\n",
        "\n",
        "Terakhir, klasifikasi dilakukan menggunakan beberapa algoritma dari scikit-learn, yaitu RandomForestClassifier dari sklearn.ensemble dengan fungsi seperti `fit()` dan `predict()`, SVC (Support Vector Classifier) dari `sklearn.svm`, serta `KNeighborsClassifier` dari sklearn.neighbors. Ketiga model ini dilatih menggunakan data hasil ekstraksi fitur dan diuji untuk melihat akurasinya dalam membedakan kelas citra."
      ]
    },
    {
      "cell_type": "markdown",
      "id": "a2f90430",
      "metadata": {
        "id": "a2f90430"
      },
      "source": [
        "# DATA LOADING"
      ]
    },
    {
      "cell_type": "code",
      "execution_count": null,
      "id": "8323df7f",
      "metadata": {
        "id": "8323df7f"
      },
      "outputs": [],
      "source": [
        "data = []\n",
        "labels = []\n",
        "file_name = []\n",
        "for label_folder in ['Parasitized', 'Uninfected']:\n",
        "    folder_path = os.path.join('dataset\\\\', label_folder)\n",
        "    for filename in os.listdir(folder_path):\n",
        "        img_path = os.path.join(folder_path, filename)\n",
        "        img = cv.imread(img_path)\n",
        "        img = cv.resize(img, (100, 100))  # Resize ke ukuran tetap\n",
        "        data.append(img)\n",
        "        labels.append(label_folder)\n",
        "        file_name.append(filename)"
      ]
    },
    {
      "cell_type": "markdown",
      "id": "37461651",
      "metadata": {
        "id": "37461651"
      },
      "source": [
        "Kode di atas digunakan untuk membaca dan memproses gambar dari dua folder berbeda, yaitu `'Parasitized'` dan `'Uninfected'`, yang masing-masing merepresentasikan label dalam klasifikasi citra (misalnya gambar sel darah yang terinfeksi malaria dan yang sehat). Pertama, dua list yaitu `data` dan `labels` disiapkan untuk menyimpan citra dan labelnya, serta `file_name` untuk menyimpan nama file gambar. Dengan menggunakan perulangan `for`, kode menelusuri setiap folder label menggunakan `os.path.join()` untuk membentuk path lengkap ke folder, lalu mengambil semua nama file gambar dalam folder tersebut menggunakan `os.listdir()`. Setiap gambar kemudian dibaca menggunakan `cv.imread()` dan diubah ukurannya menjadi `100x100` piksel menggunakan `cv.resize()` agar memiliki ukuran seragam. Gambar hasil resize disimpan dalam list `data`, label (berdasarkan nama folder) disimpan dalam `labels`, dan nama file disimpan dalam `file_name`. Proses ini membentuk dataset yang siap digunakan.\n"
      ]
    },
    {
      "cell_type": "markdown",
      "id": "37605aaa",
      "metadata": {
        "id": "37605aaa"
      },
      "source": [
        "Kode ini digunakan untuk menampilkan distribusi jumlah gambar berdasarkan kelas serta menampilkan contoh gambar dari masing-masing kelas dalam dataset. Pertama, `Counter(labels)` digunakan untuk menghitung jumlah gambar untuk setiap label (kelas), kemudian nama kelas `(classes)` dan jumlahnya `(counts)` diekstrak. Data ini divisualisasikan menggunakan `plt.bar()` dalam bentuk diagram batang, dengan judul, label sumbu, dan garis bantu (grid) pada sumbu-y untuk memperjelas tampilan. Setelah itu, program mencetak label \"Output: Contoh Sample Data:\" dan menampilkan satu contoh gambar dari setiap kelas. Ini dilakukan dengan menelusuri seluruh data, mengecek label, dan hanya menampilkan satu gambar per kelas menggunakan `plt.subplot()` dan `plt.imshow()` untuk menampilkan gambar. Gambar ditampilkan dalam satu baris menggunakan `plt.figure(figsize=(15, 3))`, dan loop dihentikan setelah semua kelas ditampilkan. Fungsi `plt.tight_layout()` digunakan untuk merapikan tata letak agar subplot tidak saling tumpang tindih."
      ]
    },
    {
      "cell_type": "code",
      "execution_count": null,
      "id": "a1b7ab93",
      "metadata": {
        "id": "a1b7ab93",
        "outputId": "665ce03a-158b-460a-b9b6-0280d9443daa"
      },
      "outputs": [
        {
          "data": {
            "image/png": "[encoded data removed]",
            "text/plain": [
              "<Figure size 800x600 with 1 Axes>"
            ]
          },
          "metadata": {},
          "output_type": "display_data"
        },
        {
          "name": "stdout",
          "output_type": "stream",
          "text": [
            "Output: Contoh Sample Data:\n"
          ]
        },
        {
          "data": {
            "image/png": "[encoded data removed]",
            "text/plain": [
              "<Figure size 1500x300 with 2 Axes>"
            ]
          },
          "metadata": {},
          "output_type": "display_data"
        }
      ],
      "source": [
        "label_counts = Counter(labels)\n",
        "classes = list(label_counts.keys())\n",
        "counts = list(label_counts.values())\n",
        "\n",
        "plt.figure(figsize=(8, 6))\n",
        "plt.bar(classes, counts, color='dodgerblue')\n",
        "plt.title(\"Distribusi Jumlah Gambar per Kelas\")\n",
        "plt.xlabel(\"Kelas\")\n",
        "plt.ylabel(\"Jumlah Gambar\")\n",
        "plt.grid(axis='y', linestyle='--', alpha=0.7)\n",
        "plt.show()\n",
        "\n",
        "print(\"Output: Contoh Sample Data:\")\n",
        "\n",
        "plt.figure(figsize=(15, 3))\n",
        "shown_labels = set()\n",
        "shown = 0\n",
        "\n",
        "for i in range(len(data)):\n",
        "    label = labels[i]\n",
        "    if label in shown_labels:\n",
        "        continue\n",
        "    plt.subplot(1, len(classes), shown + 1)\n",
        "    plt.imshow(data[i], cmap='gray')\n",
        "    plt.title(f\"{label}\")\n",
        "    plt.axis('off')\n",
        "    shown_labels.add(label)\n",
        "    shown += 1\n",
        "    if shown >= len(classes):\n",
        "        break\n",
        "\n",
        "plt.tight_layout()\n",
        "plt.show()"
      ]
    },
    {
      "cell_type": "code",
      "execution_count": null,
      "id": "e49bbefb",
      "metadata": {
        "id": "e49bbefb"
      },
      "outputs": [],
      "source": [
        "def prepro1_resize(img, new_width=100, new_height=100):\n",
        "    old_height, old_width = img.shape[:2]\n",
        "    resized = np.zeros((new_height, new_width, 3), dtype=np.uint8)\n",
        "\n",
        "    for i in range(new_height):\n",
        "        for j in range(new_width):\n",
        "            x = int(i * old_height / new_height)\n",
        "            y = int(j * old_width / new_width)\n",
        "            resized[i, j] = img[x, y]\n",
        "    return resized\n",
        "def prepro2_grayscale(img):\n",
        "    height, width = img.shape[:2]\n",
        "    gray = np.zeros((height, width), dtype=np.uint8)\n",
        "\n",
        "    for i in range(height):\n",
        "        for j in range(width):\n",
        "            r, g, b = img[i, j]\n",
        "            gray[i, j] = int(0.2989 * r + 0.5870 * g + 0.1140 * b)  # Luminosity formula\n",
        "    return gray\n",
        "def prepro3_normalization(img):\n",
        "    height, width = img.shape\n",
        "    norm = np.zeros((height, width), dtype=np.float32)\n",
        "\n",
        "    for i in range(height):\n",
        "        for j in range(width):\n",
        "            norm[i, j] = img[i, j] / 255.0\n",
        "    return norm\n"
      ]
    },
    {
      "cell_type": "markdown",
      "id": "9945271b",
      "metadata": {
        "id": "9945271b"
      },
      "source": [
        "Kode di atas memiliki tiga fungsi yang merupakan tahapan *preprocessing* (pra-pemrosesan) citra yang dilakukan secara manual tanpa menggunakan fungsi bawaan dari library seperti OpenCV. Fungsi `prepro1_resize()` berfungsi untuk mengubah ukuran gambar ke dimensi baru (default: 100×100 piksel) dengan cara menghitung posisi piksel asal dari dimensi lama dan menyalin warnanya ke posisi baru, sehingga menghasilkan citra yang telah di-*resize*. Selanjutnya, fungsi `prepro2_grayscale()` mengubah gambar berwarna (RGB) menjadi gambar keabuan (grayscale) menggunakan rumus luminositas (`0.2989 * R + 0.5870 * G + 0.1140 * B`) yang mempertimbangkan sensitivitas mata manusia terhadap warna, dan hasilnya disimpan sebagai citra satu kanal (1-channel). Terakhir, fungsi `prepro3_normalization()` melakukan normalisasi terhadap setiap piksel citra keabuan dengan membagi nilai pikselnya (0–255) menjadi rentang 0 hingga 1 (`/255.0`), sehingga memperbaiki skala data untuk keperluan model machine learning."
      ]
    },
    {
      "cell_type": "code",
      "execution_count": null,
      "id": "567f88a0",
      "metadata": {},
      "outputs": [],
      "source": [
        "output_folder = 'preprocessed_output1'\n",
        "os.makedirs(output_folder, exist_ok=True)\n",
        "dataPreprocessed = []\n",
        "\n",
        "for i in range(len(data)):\n",
        "    img = data[i]\n",
        "\n",
        "    # === Tahapan Preprocessing Manual ===\n",
        "    img_resized = prepro1_resize(img)            # Resize manual ke 100x100\n",
        "    img_grayscale = prepro2_grayscale(img_resized)  # Konversi manual ke grayscale\n",
        "    img_normalized = prepro3_normalization(img_grayscale)  # Normalisasi manual\n",
        "    img_uint8 = (img_normalized * 255).astype(np.uint8) # ubah tipe data ke int untuk ekstraksi fitur\n",
        "    dataPreprocessed.append(img_uint8)\n",
        "    filename = file_name[i]\n",
        "    save_path = os.path.join(output_folder, filename)\n",
        "    cv.imwrite(save_path, img_uint8)"
      ]
    },
    {
      "cell_type": "markdown",
      "id": "987287aa",
      "metadata": {
        "id": "987287aa"
      },
      "source": [
        "# Feature Extraction"
      ]
    },
    {
      "cell_type": "code",
      "execution_count": null,
      "id": "dd4b1e90",
      "metadata": {
        "id": "dd4b1e90"
      },
      "outputs": [],
      "source": [
        "def glcm(image, derajat):\n",
        "    if derajat == 0:\n",
        "        angles = [0]\n",
        "    elif derajat == 45:\n",
        "        angles = [np.pi / 4]\n",
        "    elif derajat == 90:\n",
        "        angles = [np.pi / 2]\n",
        "    elif derajat == 135:\n",
        "        angles = [3 * np.pi / 4]\n",
        "    else:\n",
        "        raise ValueError(\"Invalid angle. It should be one of the following: 0, 45, 90, 135.\")\n",
        "\n",
        "    # mengembalikan matrix glcm dari image\n",
        "    glcm = graycomatrix(image, [1], angles, 256, symmetric=True, normed=True)\n",
        "    return glcm"
      ]
    },
    {
      "cell_type": "markdown",
      "id": "b5428f42",
      "metadata": {
        "id": "b5428f42"
      },
      "source": [
        "Pada kode di atas terdapat fungsi `glcm()` digunakan untuk menghitung matriks *Gray-Level Co-Occurrence Matrix* (GLCM), yaitu representasi statistik tekstur dari citra berdasarkan frekuensi kemunculan pasangan nilai piksel dengan jarak dan arah tertentu. Fungsi menerima dua parameter: `image` (citra dalam bentuk grayscale) dan `derajat` (sudut arah tekstur yang ingin dianalisis: 0, 45, 90, atau 135 derajat). Berdasarkan nilai `derajat`, fungsi akan mengatur nilai sudut `angles` dalam satuan radian menggunakan nilai dari `numpy` (`np.pi`). Jika sudut tidak valid, maka akan menghasilkan error melalui `raise ValueError`. Setelah sudut ditentukan, fungsi memanggil `graycomatrix()` dari pustaka `skimage.feature` untuk menghitung matriks GLCM pada jarak 1 piksel dengan opsi simetris (`symmetric=True`) dan ternormalisasi (`normed=True`). Hasilnya adalah sebuah matriks 4 dimensi yang menggambarkan sebaran tekstur dalam citra dan dapat digunakan untuk mengekstraksi fitur seperti kontras, homogenitas, energi, dan korelasi.\n"
      ]
    },
    {
      "cell_type": "code",
      "execution_count": null,
      "id": "c9450fbf",
      "metadata": {
        "id": "c9450fbf"
      },
      "outputs": [],
      "source": [
        "def correlation(matriks):\n",
        "\treturn graycoprops(matriks, 'correlation')[0, 0]\n",
        "def dissimilarity(matriks):\n",
        "    return graycoprops(matriks, 'dissimilarity')[0, 0]\n",
        "def homogenity(matriks):\n",
        "    return graycoprops(matriks, 'homogeneity')[0, 0]\n",
        "def contrast(matriks):\n",
        "    return graycoprops(matriks, 'contrast')[0, 0]\n",
        "def ASM(matriks):\n",
        "    return graycoprops(matriks, 'ASM')[0, 0]\n",
        "def energy(matriks):\n",
        "    return graycoprops(matriks, 'energy')[0, 0]\n",
        "def entropyGlcm(matriks):\n",
        "    return entropy(matriks.ravel())"
      ]
    },
    {
      "cell_type": "markdown",
      "id": "8422334f",
      "metadata": {
        "id": "8422334f"
      },
      "source": [
        "Pada kode di atas terdapat kumpulan fungsi ini digunakan untuk mengekstraksi berbagai fitur tekstur dari matriks GLCM (Gray-Level Co-Occurrence Matrix) yang dihasilkan sebelumnya. Fungsi-fungsi seperti `correlation()`, `dissimilarity()`, `homogenity()`, `contrast()`, `ASM()` (Angular Second Moment), dan `energy()` memanfaatkan fungsi `graycoprops()` dari pustaka `skimage.feature` untuk menghitung masing-masing properti tekstur tersebut dari matriks GLCM, kemudian mengembalikan nilai skalar yang merepresentasikan karakteristik tekstur citra. Nilai-nilai ini membantu dalam mendeskripsikan pola tekstur seperti keteraturan, variasi, dan kontras antar piksel. Sedangkan fungsi `entropyGlcm()` menggunakan fungsi `entropy()` dari pustaka `scipy.stats` untuk menghitung entropi dari matriks GLCM yang sudah diratakan (`ravel()`), yang mengukur tingkat ketidakteraturan atau kompleksitas tekstur citra."
      ]
    },
    {
      "cell_type": "code",
      "execution_count": null,
      "id": "bf71abae",
      "metadata": {
        "id": "bf71abae"
      },
      "outputs": [],
      "source": [
        "Derajat0 = []\n",
        "Derajat45 = []\n",
        "Derajat90 = []\n",
        "Derajat135 = []\n",
        "for i in range(len(dataPreprocessed)):\n",
        "    D0 = glcm(dataPreprocessed[i], 0)\n",
        "    D45 = glcm(dataPreprocessed[i], 45)\n",
        "    D90 = glcm(dataPreprocessed[i], 90)\n",
        "    D135 = glcm(dataPreprocessed[i], 135)\n",
        "    Derajat0.append(D0)\n",
        "    Derajat45.append(D45)\n",
        "    Derajat90.append(D90)\n",
        "    Derajat135.append(D135)"
      ]
    },
    {
      "cell_type": "markdown",
      "id": "236201d6",
      "metadata": {
        "id": "236201d6"
      },
      "source": [
        "Kode di atas digunakan untuk menghitung dan menyimpan matriks GLCM (Gray-Level Co-Occurrence Matrix) dari setiap citra yang telah dipra-proses dalam list `dataPreprocessed` pada empat arah sudut berbeda: 0°, 45°, 90°, dan 135°. Dengan menggunakan loop `for` yang berjalan sepanjang jumlah citra, fungsi `glcm()` dipanggil untuk masing-masing sudut tersebut pada setiap citra. Hasil matriks GLCM dari setiap sudut disimpan secara terpisah dalam empat list berbeda, yaitu `Derajat0`, `Derajat45`, `Derajat90`, dan `Derajat135`. Pendekatan ini memungkinkan analisis tekstur citra dilakukan pada berbagai orientasi, sehingga fitur tekstur yang diperoleh lebih komprehensif dan dapat meningkatkan performa model klasifikasi.\n"
      ]
    },
    {
      "cell_type": "code",
      "execution_count": null,
      "id": "d25ea795",
      "metadata": {
        "id": "d25ea795"
      },
      "outputs": [],
      "source": [
        "Kontras0, Kontras45, Kontras90, Kontras135 = [], [], [], []\n",
        "dissimilarity0, dissimilarity45, dissimilarity90, dissimilarity135 =  [], [], [], []\n",
        "homogenity0, homogenity45, homogenity90, homogenity135 = [], [], [], []\n",
        "entropy0, entropy45, entropy90, entropy135 =  [], [], [], []\n",
        "ASM0, ASM45, ASM90, ASM135 =  [], [], [], []\n",
        "energy0, energy45, energy90, energy135 =  [], [], [], []\n",
        "correlation0, correlation45, correlation90, correlation135 = [], [], [], []"
      ]
    },
    {
      "cell_type": "markdown",
      "id": "30b4b6a6",
      "metadata": {
        "id": "30b4b6a6"
      },
      "source": [
        "Kode di atas mendefinisikan beberapa list kosong yang akan digunakan untuk menyimpan nilai fitur tekstur yang diekstraksi dari matriks GLCM pada empat arah sudut berbeda: 0°, 45°, 90°, dan 135°. Setiap fitur tekstur, seperti kontras (`Kontras`), dissimilaritas (`dissimilarity`), homogenitas (`homogenity`), entropi (`entropy`), Angular Second Moment (`ASM`), energi (`energy`), dan korelasi (`correlation`), memiliki empat list yang terpisah, masing-masing untuk menyimpan hasil perhitungan pada setiap sudut tersebut. Dengan struktur ini, fitur tekstur dari seluruh citra dan setiap arah sudut akan diorganisir secara terpisah sehingga memudahkan analisis lebih lanjut dan penggabungan fitur dalam proses klasifikasi atau pengolahan citra berikutnya.\n"
      ]
    },
    {
      "cell_type": "code",
      "execution_count": null,
      "id": "b42ff5dc",
      "metadata": {
        "id": "b42ff5dc"
      },
      "outputs": [],
      "source": [
        "for i in range(len(dataPreprocessed)):\n",
        "    C0 = correlation(Derajat0[i])\n",
        "    correlation0.append(C0)\n",
        "    C45 = correlation(Derajat45[i])\n",
        "    correlation45.append(C45)\n",
        "    C90 = correlation(Derajat90[i])\n",
        "    correlation90.append(C90)\n",
        "    C135 = correlation(Derajat135[i])\n",
        "    correlation135.append(C135)\n",
        "for i in range(len(dataPreprocessed)):\n",
        "    K0 = contrast(Derajat0[i])\n",
        "    K45 = contrast(Derajat45[i])\n",
        "    K90 = contrast(Derajat90[i])\n",
        "    K135 = contrast(Derajat135[i])\n",
        "    Kontras0.append(K0)\n",
        "    Kontras45.append(K45)\n",
        "    Kontras90.append(K90)\n",
        "    Kontras135.append(K135)\n",
        "for i in range(len(dataPreprocessed)):\n",
        "    Dis0 = dissimilarity(Derajat0[i])\n",
        "    Dis45 = dissimilarity(Derajat45[i])\n",
        "    Dis90 = dissimilarity(Derajat90[i])\n",
        "    Dis135 = dissimilarity(Derajat135[i])\n",
        "    dissimilarity0.append(Dis0)\n",
        "    dissimilarity45.append(Dis45)\n",
        "    dissimilarity90.append(Dis90)\n",
        "    dissimilarity135.append(Dis135)\n",
        "for i in range(len(dataPreprocessed)):\n",
        "    H0 = homogenity(Derajat0[i])\n",
        "    H45 = homogenity(Derajat45[i])\n",
        "    H90 = homogenity(Derajat90[i])\n",
        "    H135 = homogenity(Derajat135[i])\n",
        "    homogenity0.append(H0)\n",
        "    homogenity45.append(H45)\n",
        "    homogenity90.append(H90)\n",
        "    homogenity135.append(H135)\n",
        "for i in range(len(dataPreprocessed)):\n",
        "    E0 = entropyGlcm(Derajat0[i])\n",
        "    E45 = entropyGlcm(Derajat45[i])\n",
        "    E90 = entropyGlcm(Derajat90[i])\n",
        "    E135 = entropyGlcm(Derajat135[i])\n",
        "    entropy0.append(E0)\n",
        "    entropy45.append(E45)\n",
        "    entropy90.append(E90)\n",
        "    entropy135.append(E135)\n",
        "for i in range(len(dataPreprocessed)):\n",
        "    A0 = ASM(Derajat0[i])\n",
        "    A45 = ASM(Derajat45[i])\n",
        "    A90 = ASM(Derajat90[i])\n",
        "    A135 = ASM(Derajat135[i])\n",
        "    ASM0.append(A0)\n",
        "    ASM45.append(A45)\n",
        "    ASM90.append(A90)\n",
        "    ASM135.append(A135)\n",
        "for i in range(len(dataPreprocessed)):\n",
        "    ER0 = energy(Derajat0[i])\n",
        "    ER45 = energy(Derajat45[i])\n",
        "    ER90 = energy(Derajat90[i])\n",
        "    ER135 = energy(Derajat135[i])\n",
        "    energy0.append(ER0)\n",
        "    energy45.append(ER45)\n",
        "    energy90.append(ER90)\n",
        "    energy135.append(ER135)"
      ]
    },
    {
      "cell_type": "markdown",
      "id": "4456dfc1",
      "metadata": {
        "id": "4456dfc1"
      },
      "source": [
        "Kode di atas melakukan ekstraksi fitur tekstur dari setiap matriks GLCM yang telah dihitung pada empat sudut berbeda (0°, 45°, 90°, dan 135°) untuk seluruh citra yang telah dipra-proses. Dengan menggunakan fungsi-fungsi seperti `correlation()`, `contrast()`, `dissimilarity()`, `homogenity()`, `entropyGlcm()`, `ASM()`, dan `energy()`, kode ini menghitung nilai masing-masing fitur tekstur dari matriks GLCM pada setiap sudut. Hasil ekstraksi fitur kemudian disimpan secara terpisah dalam list yang sesuai berdasarkan sudutnya, seperti `correlation0`, `Kontras45`, `dissimilarity90`, dan seterusnya. Proses ini mengorganisasi fitur tekstur untuk setiap citra dan setiap arah, yang nantinya dapat digunakan sebagai input fitur pada tahap pelatihan model machine learning atau analisis citra lebih lanjut.\n"
      ]
    },
    {
      "cell_type": "code",
      "execution_count": null,
      "id": "8d5dc56a",
      "metadata": {
        "id": "8d5dc56a",
        "outputId": "869104e1-86c4-427d-9705-d15730f041ea"
      },
      "outputs": [
        {
          "data": {
            "text/html": [
              "<div>\n",
              "<style scoped>\n",
              "    .dataframe tbody tr th:only-of-type {\n",
              "        vertical-align: middle;\n",
              "    }\n",
              "\n",
              "    .dataframe tbody tr th {\n",
              "        vertical-align: top;\n",
              "    }\n",
              "\n",
              "    .dataframe thead th {\n",
              "        text-align: right;\n",
              "    }\n",
              "</style>\n",
              "<table border=\"1\" class=\"dataframe\">\n",
              "  <thead>\n",
              "    <tr style=\"text-align: right;\">\n",
              "      <th></th>\n",
              "      <th>Filename</th>\n",
              "      <th>Label</th>\n",
              "      <th>Contrast0</th>\n",
              "      <th>Contrast45</th>\n",
              "      <th>Contrast90</th>\n",
              "      <th>Contrast135</th>\n",
              "      <th>Homogeneity0</th>\n",
              "      <th>Homogeneity45</th>\n",
              "      <th>Homogeneity90</th>\n",
              "      <th>Homogeneity135</th>\n",
              "      <th>...</th>\n",
              "      <th>ASM90</th>\n",
              "      <th>ASM135</th>\n",
              "      <th>Energy0</th>\n",
              "      <th>Energy45</th>\n",
              "      <th>Energy90</th>\n",
              "      <th>Energy135</th>\n",
              "      <th>Correlation0</th>\n",
              "      <th>Correlation45</th>\n",
              "      <th>Correlation90</th>\n",
              "      <th>Correlation135</th>\n",
              "    </tr>\n",
              "  </thead>\n",
              "  <tbody>\n",
              "    <tr>\n",
              "      <th>0</th>\n",
              "      <td>C33P1thinF_IMG_20150619_114756a_cell_179.png</td>\n",
              "      <td>Parasitized</td>\n",
              "      <td>567.011111</td>\n",
              "      <td>981.059178</td>\n",
              "      <td>552.255051</td>\n",
              "      <td>969.461177</td>\n",
              "      <td>0.534023</td>\n",
              "      <td>0.468131</td>\n",
              "      <td>0.528367</td>\n",
              "      <td>0.479464</td>\n",
              "      <td>...</td>\n",
              "      <td>0.070277</td>\n",
              "      <td>0.063047</td>\n",
              "      <td>0.264675</td>\n",
              "      <td>0.250963</td>\n",
              "      <td>0.265099</td>\n",
              "      <td>0.251091</td>\n",
              "      <td>0.949980</td>\n",
              "      <td>0.912238</td>\n",
              "      <td>0.951339</td>\n",
              "      <td>0.913275</td>\n",
              "    </tr>\n",
              "    <tr>\n",
              "      <th>1</th>\n",
              "      <td>C33P1thinF_IMG_20150619_114756a_cell_180.png</td>\n",
              "      <td>Parasitized</td>\n",
              "      <td>482.829495</td>\n",
              "      <td>999.626977</td>\n",
              "      <td>623.916566</td>\n",
              "      <td>939.817570</td>\n",
              "      <td>0.541985</td>\n",
              "      <td>0.479550</td>\n",
              "      <td>0.540982</td>\n",
              "      <td>0.482658</td>\n",
              "      <td>...</td>\n",
              "      <td>0.063445</td>\n",
              "      <td>0.057315</td>\n",
              "      <td>0.254326</td>\n",
              "      <td>0.238493</td>\n",
              "      <td>0.251884</td>\n",
              "      <td>0.239407</td>\n",
              "      <td>0.960143</td>\n",
              "      <td>0.916028</td>\n",
              "      <td>0.948392</td>\n",
              "      <td>0.921052</td>\n",
              "    </tr>\n",
              "    <tr>\n",
              "      <th>2</th>\n",
              "      <td>C33P1thinF_IMG_20150619_114756a_cell_181.png</td>\n",
              "      <td>Parasitized</td>\n",
              "      <td>513.236061</td>\n",
              "      <td>891.597898</td>\n",
              "      <td>500.379798</td>\n",
              "      <td>916.151107</td>\n",
              "      <td>0.488824</td>\n",
              "      <td>0.431694</td>\n",
              "      <td>0.494364</td>\n",
              "      <td>0.438714</td>\n",
              "      <td>...</td>\n",
              "      <td>0.046585</td>\n",
              "      <td>0.040369</td>\n",
              "      <td>0.215186</td>\n",
              "      <td>0.201094</td>\n",
              "      <td>0.215834</td>\n",
              "      <td>0.200919</td>\n",
              "      <td>0.943850</td>\n",
              "      <td>0.900317</td>\n",
              "      <td>0.945266</td>\n",
              "      <td>0.897572</td>\n",
              "    </tr>\n",
              "    <tr>\n",
              "      <th>3</th>\n",
              "      <td>C33P1thinF_IMG_20150619_114756a_cell_182.png</td>\n",
              "      <td>Parasitized</td>\n",
              "      <td>563.081818</td>\n",
              "      <td>966.057239</td>\n",
              "      <td>642.204545</td>\n",
              "      <td>1095.892358</td>\n",
              "      <td>0.559300</td>\n",
              "      <td>0.513458</td>\n",
              "      <td>0.559587</td>\n",
              "      <td>0.504776</td>\n",
              "      <td>...</td>\n",
              "      <td>0.098408</td>\n",
              "      <td>0.090285</td>\n",
              "      <td>0.314350</td>\n",
              "      <td>0.302430</td>\n",
              "      <td>0.313700</td>\n",
              "      <td>0.300475</td>\n",
              "      <td>0.961647</td>\n",
              "      <td>0.933552</td>\n",
              "      <td>0.956242</td>\n",
              "      <td>0.924621</td>\n",
              "    </tr>\n",
              "    <tr>\n",
              "      <th>4</th>\n",
              "      <td>C33P1thinF_IMG_20150619_115740a_cell_161.png</td>\n",
              "      <td>Parasitized</td>\n",
              "      <td>475.507172</td>\n",
              "      <td>828.910927</td>\n",
              "      <td>416.303333</td>\n",
              "      <td>749.968779</td>\n",
              "      <td>0.535679</td>\n",
              "      <td>0.464340</td>\n",
              "      <td>0.544090</td>\n",
              "      <td>0.479750</td>\n",
              "      <td>...</td>\n",
              "      <td>0.067272</td>\n",
              "      <td>0.059704</td>\n",
              "      <td>0.256105</td>\n",
              "      <td>0.243283</td>\n",
              "      <td>0.259368</td>\n",
              "      <td>0.244345</td>\n",
              "      <td>0.954252</td>\n",
              "      <td>0.919163</td>\n",
              "      <td>0.960057</td>\n",
              "      <td>0.926862</td>\n",
              "    </tr>\n",
              "    <tr>\n",
              "      <th>...</th>\n",
              "      <td>...</td>\n",
              "      <td>...</td>\n",
              "      <td>...</td>\n",
              "      <td>...</td>\n",
              "      <td>...</td>\n",
              "      <td>...</td>\n",
              "      <td>...</td>\n",
              "      <td>...</td>\n",
              "      <td>...</td>\n",
              "      <td>...</td>\n",
              "      <td>...</td>\n",
              "      <td>...</td>\n",
              "      <td>...</td>\n",
              "      <td>...</td>\n",
              "      <td>...</td>\n",
              "      <td>...</td>\n",
              "      <td>...</td>\n",
              "      <td>...</td>\n",
              "      <td>...</td>\n",
              "      <td>...</td>\n",
              "      <td>...</td>\n",
              "    </tr>\n",
              "    <tr>\n",
              "      <th>195</th>\n",
              "      <td>C2NThinF_IMG_20150604_114730_cell_72.png</td>\n",
              "      <td>Uninfected</td>\n",
              "      <td>394.718788</td>\n",
              "      <td>842.800326</td>\n",
              "      <td>530.776566</td>\n",
              "      <td>797.500459</td>\n",
              "      <td>0.697791</td>\n",
              "      <td>0.621574</td>\n",
              "      <td>0.685162</td>\n",
              "      <td>0.631038</td>\n",
              "      <td>...</td>\n",
              "      <td>0.084731</td>\n",
              "      <td>0.076958</td>\n",
              "      <td>0.294141</td>\n",
              "      <td>0.276255</td>\n",
              "      <td>0.291086</td>\n",
              "      <td>0.277413</td>\n",
              "      <td>0.965783</td>\n",
              "      <td>0.925961</td>\n",
              "      <td>0.953958</td>\n",
              "      <td>0.929940</td>\n",
              "    </tr>\n",
              "    <tr>\n",
              "      <th>196</th>\n",
              "      <td>C2NThinF_IMG_20150604_114730_cell_98.png</td>\n",
              "      <td>Uninfected</td>\n",
              "      <td>478.829394</td>\n",
              "      <td>791.287726</td>\n",
              "      <td>466.864444</td>\n",
              "      <td>853.869299</td>\n",
              "      <td>0.678717</td>\n",
              "      <td>0.613056</td>\n",
              "      <td>0.657718</td>\n",
              "      <td>0.602215</td>\n",
              "      <td>...</td>\n",
              "      <td>0.102515</td>\n",
              "      <td>0.093720</td>\n",
              "      <td>0.319633</td>\n",
              "      <td>0.307146</td>\n",
              "      <td>0.320180</td>\n",
              "      <td>0.306136</td>\n",
              "      <td>0.958830</td>\n",
              "      <td>0.931347</td>\n",
              "      <td>0.959901</td>\n",
              "      <td>0.925918</td>\n",
              "    </tr>\n",
              "    <tr>\n",
              "      <th>197</th>\n",
              "      <td>C2NThinF_IMG_20150604_114751_cell_38.png</td>\n",
              "      <td>Uninfected</td>\n",
              "      <td>401.668182</td>\n",
              "      <td>698.697378</td>\n",
              "      <td>382.034747</td>\n",
              "      <td>665.819508</td>\n",
              "      <td>0.658870</td>\n",
              "      <td>0.576827</td>\n",
              "      <td>0.645972</td>\n",
              "      <td>0.589385</td>\n",
              "      <td>...</td>\n",
              "      <td>0.062527</td>\n",
              "      <td>0.056047</td>\n",
              "      <td>0.251230</td>\n",
              "      <td>0.235841</td>\n",
              "      <td>0.250053</td>\n",
              "      <td>0.236742</td>\n",
              "      <td>0.960785</td>\n",
              "      <td>0.930606</td>\n",
              "      <td>0.962711</td>\n",
              "      <td>0.933872</td>\n",
              "    </tr>\n",
              "    <tr>\n",
              "      <th>198</th>\n",
              "      <td>C2NThinF_IMG_20150604_114751_cell_69.png</td>\n",
              "      <td>Uninfected</td>\n",
              "      <td>380.830808</td>\n",
              "      <td>647.748393</td>\n",
              "      <td>403.102121</td>\n",
              "      <td>692.100194</td>\n",
              "      <td>0.676672</td>\n",
              "      <td>0.610119</td>\n",
              "      <td>0.675194</td>\n",
              "      <td>0.596021</td>\n",
              "      <td>...</td>\n",
              "      <td>0.056798</td>\n",
              "      <td>0.050158</td>\n",
              "      <td>0.239709</td>\n",
              "      <td>0.224912</td>\n",
              "      <td>0.238323</td>\n",
              "      <td>0.223960</td>\n",
              "      <td>0.962814</td>\n",
              "      <td>0.935562</td>\n",
              "      <td>0.960628</td>\n",
              "      <td>0.931150</td>\n",
              "    </tr>\n",
              "    <tr>\n",
              "      <th>199</th>\n",
              "      <td>C2NThinF_IMG_20150604_114751_cell_92.png</td>\n",
              "      <td>Uninfected</td>\n",
              "      <td>384.369798</td>\n",
              "      <td>666.274564</td>\n",
              "      <td>363.912929</td>\n",
              "      <td>669.720335</td>\n",
              "      <td>0.668850</td>\n",
              "      <td>0.581518</td>\n",
              "      <td>0.669311</td>\n",
              "      <td>0.586893</td>\n",
              "      <td>...</td>\n",
              "      <td>0.052668</td>\n",
              "      <td>0.046052</td>\n",
              "      <td>0.229613</td>\n",
              "      <td>0.214629</td>\n",
              "      <td>0.229496</td>\n",
              "      <td>0.214598</td>\n",
              "      <td>0.961673</td>\n",
              "      <td>0.932245</td>\n",
              "      <td>0.963698</td>\n",
              "      <td>0.931894</td>\n",
              "    </tr>\n",
              "  </tbody>\n",
              "</table>\n",
              "<p>200 rows × 30 columns</p>\n",
              "</div>"
            ],
            "text/plain": [
              "                                         Filename        Label   Contrast0  \\\n",
              "0    C33P1thinF_IMG_20150619_114756a_cell_179.png  Parasitized  567.011111   \n",
              "1    C33P1thinF_IMG_20150619_114756a_cell_180.png  Parasitized  482.829495   \n",
              "2    C33P1thinF_IMG_20150619_114756a_cell_181.png  Parasitized  513.236061   \n",
              "3    C33P1thinF_IMG_20150619_114756a_cell_182.png  Parasitized  563.081818   \n",
              "4    C33P1thinF_IMG_20150619_115740a_cell_161.png  Parasitized  475.507172   \n",
              "..                                            ...          ...         ...   \n",
              "195      C2NThinF_IMG_20150604_114730_cell_72.png   Uninfected  394.718788   \n",
              "196      C2NThinF_IMG_20150604_114730_cell_98.png   Uninfected  478.829394   \n",
              "197      C2NThinF_IMG_20150604_114751_cell_38.png   Uninfected  401.668182   \n",
              "198      C2NThinF_IMG_20150604_114751_cell_69.png   Uninfected  380.830808   \n",
              "199      C2NThinF_IMG_20150604_114751_cell_92.png   Uninfected  384.369798   \n",
              "\n",
              "     Contrast45  Contrast90  Contrast135  Homogeneity0  Homogeneity45  \\\n",
              "0    981.059178  552.255051   969.461177      0.534023       0.468131   \n",
              "1    999.626977  623.916566   939.817570      0.541985       0.479550   \n",
              "2    891.597898  500.379798   916.151107      0.488824       0.431694   \n",
              "3    966.057239  642.204545  1095.892358      0.559300       0.513458   \n",
              "4    828.910927  416.303333   749.968779      0.535679       0.464340   \n",
              "..          ...         ...          ...           ...            ...   \n",
              "195  842.800326  530.776566   797.500459      0.697791       0.621574   \n",
              "196  791.287726  466.864444   853.869299      0.678717       0.613056   \n",
              "197  698.697378  382.034747   665.819508      0.658870       0.576827   \n",
              "198  647.748393  403.102121   692.100194      0.676672       0.610119   \n",
              "199  666.274564  363.912929   669.720335      0.668850       0.581518   \n",
              "\n",
              "     Homogeneity90  Homogeneity135  ...     ASM90    ASM135   Energy0  \\\n",
              "0         0.528367        0.479464  ...  0.070277  0.063047  0.264675   \n",
              "1         0.540982        0.482658  ...  0.063445  0.057315  0.254326   \n",
              "2         0.494364        0.438714  ...  0.046585  0.040369  0.215186   \n",
              "3         0.559587        0.504776  ...  0.098408  0.090285  0.314350   \n",
              "4         0.544090        0.479750  ...  0.067272  0.059704  0.256105   \n",
              "..             ...             ...  ...       ...       ...       ...   \n",
              "195       0.685162        0.631038  ...  0.084731  0.076958  0.294141   \n",
              "196       0.657718        0.602215  ...  0.102515  0.093720  0.319633   \n",
              "197       0.645972        0.589385  ...  0.062527  0.056047  0.251230   \n",
              "198       0.675194        0.596021  ...  0.056798  0.050158  0.239709   \n",
              "199       0.669311        0.586893  ...  0.052668  0.046052  0.229613   \n",
              "\n",
              "     Energy45  Energy90  Energy135  Correlation0  Correlation45  \\\n",
              "0    0.250963  0.265099   0.251091      0.949980       0.912238   \n",
              "1    0.238493  0.251884   0.239407      0.960143       0.916028   \n",
              "2    0.201094  0.215834   0.200919      0.943850       0.900317   \n",
              "3    0.302430  0.313700   0.300475      0.961647       0.933552   \n",
              "4    0.243283  0.259368   0.244345      0.954252       0.919163   \n",
              "..        ...       ...        ...           ...            ...   \n",
              "195  0.276255  0.291086   0.277413      0.965783       0.925961   \n",
              "196  0.307146  0.320180   0.306136      0.958830       0.931347   \n",
              "197  0.235841  0.250053   0.236742      0.960785       0.930606   \n",
              "198  0.224912  0.238323   0.223960      0.962814       0.935562   \n",
              "199  0.214629  0.229496   0.214598      0.961673       0.932245   \n",
              "\n",
              "     Correlation90  Correlation135  \n",
              "0         0.951339        0.913275  \n",
              "1         0.948392        0.921052  \n",
              "2         0.945266        0.897572  \n",
              "3         0.956242        0.924621  \n",
              "4         0.960057        0.926862  \n",
              "..             ...             ...  \n",
              "195       0.953958        0.929940  \n",
              "196       0.959901        0.925918  \n",
              "197       0.962711        0.933872  \n",
              "198       0.960628        0.931150  \n",
              "199       0.963698        0.931894  \n",
              "\n",
              "[200 rows x 30 columns]"
            ]
          },
          "execution_count": 11,
          "metadata": {},
          "output_type": "execute_result"
        }
      ],
      "source": [
        "dataTable = {'Filename': file_name, 'Label': labels,\n",
        "        'Contrast0': Kontras0, 'Contrast45': Kontras45, 'Contrast90': Kontras90, 'Contrast135': Kontras135,\n",
        "        'Homogeneity0': homogenity0, 'Homogeneity45': homogenity45, 'Homogeneity90': homogenity90, 'Homogeneity135': homogenity135,\n",
        "        'Dissimilarity0': dissimilarity0, 'Dissimilarity45': dissimilarity45, 'Dissimilarity90': dissimilarity90, 'Dissimilarity135': dissimilarity135,\n",
        "        'Entropy0': entropy0, 'Entropy45': entropy45, 'Entropy90': entropy90, 'Entropy135': entropy135,\n",
        "        'ASM0': ASM0, 'ASM45': ASM45, 'ASM90': ASM90, 'ASM135': ASM135,\n",
        "        'Energy0': energy0, 'Energy45': energy45, 'Energy90': energy90, 'Energy135': energy135,\n",
        "        'Correlation0': correlation0, 'Correlation45': correlation45, 'Correlation90': correlation90, 'Correlation135': correlation135,\n",
        "        }\n",
        "df = pd.DataFrame(dataTable)\n",
        "df.to_csv('hasil_ekstraksi_1.csv', index=False)\n",
        "\n",
        "hasilEkstrak = pd.read_csv('hasil_ekstraksi_1.csv')\n",
        "hasilEkstrak"
      ]
    },
    {
      "cell_type": "markdown",
      "id": "aad3a96d",
      "metadata": {
        "id": "aad3a96d"
      },
      "source": [
        "Kode di atas membuat sebuah dictionary bernama `dataTable` yang berisi berbagai data penting hasil ekstraksi fitur tekstur dari citra, termasuk nama file (`Filename`), label kelas (`Label`), dan nilai-nilai fitur GLCM seperti kontras, homogenitas, dissimilaritas, entropi, ASM, energi, dan korelasi untuk keempat sudut (0°, 45°, 90°, dan 135°). Dictionary ini kemudian diubah menjadi sebuah DataFrame menggunakan `pd.DataFrame()`, yang memudahkan pengelolaan data dalam format tabel. Selanjutnya, DataFrame ini disimpan ke dalam file CSV bernama `'hasil_ekstraksi_1.csv'` tanpa menyertakan indeks baris (`index=False`). Terakhir, file CSV tersebut dibaca kembali ke dalam variabel `hasilEkstrak` menggunakan `pd.read_csv()` untuk memastikan data sudah tersimpan dengan benar dan siap digunakan pada tahap analisis atau pelatihan model selanjutnya.\n"
      ]
    },
    {
      "cell_type": "markdown",
      "id": "0992f542",
      "metadata": {
        "id": "0992f542"
      },
      "source": [
        "# Feature Selection"
      ]
    },
    {
      "cell_type": "code",
      "execution_count": null,
      "id": "a2881a1d",
      "metadata": {
        "id": "a2881a1d",
        "outputId": "4329d7fb-e9d4-41a4-9006-b87dd6b33239"
      },
      "outputs": [
        {
          "name": "stdout",
          "output_type": "stream",
          "text": [
            "Explained Variance Ratio: [0.50175576 0.30685553 0.10276079 0.03538285 0.02790406]\n",
            "Number of Components: 5\n"
          ]
        },
        {
          "data": {
            "text/html": [
              "<div>\n",
              "<style scoped>\n",
              "    .dataframe tbody tr th:only-of-type {\n",
              "        vertical-align: middle;\n",
              "    }\n",
              "\n",
              "    .dataframe tbody tr th {\n",
              "        vertical-align: top;\n",
              "    }\n",
              "\n",
              "    .dataframe thead th {\n",
              "        text-align: right;\n",
              "    }\n",
              "</style>\n",
              "<table border=\"1\" class=\"dataframe\">\n",
              "  <thead>\n",
              "    <tr style=\"text-align: right;\">\n",
              "      <th></th>\n",
              "      <th>PC1</th>\n",
              "      <th>PC2</th>\n",
              "      <th>PC3</th>\n",
              "      <th>PC4</th>\n",
              "      <th>PC5</th>\n",
              "      <th>Label</th>\n",
              "    </tr>\n",
              "  </thead>\n",
              "  <tbody>\n",
              "    <tr>\n",
              "      <th>0</th>\n",
              "      <td>-4.862000</td>\n",
              "      <td>6.065060</td>\n",
              "      <td>-0.268912</td>\n",
              "      <td>0.191285</td>\n",
              "      <td>1.600135</td>\n",
              "      <td>Parasitized</td>\n",
              "    </tr>\n",
              "    <tr>\n",
              "      <th>1</th>\n",
              "      <td>-3.636370</td>\n",
              "      <td>5.175361</td>\n",
              "      <td>-1.165399</td>\n",
              "      <td>-1.693403</td>\n",
              "      <td>2.272675</td>\n",
              "      <td>Parasitized</td>\n",
              "    </tr>\n",
              "    <tr>\n",
              "      <th>2</th>\n",
              "      <td>-7.707283</td>\n",
              "      <td>5.061549</td>\n",
              "      <td>-0.239925</td>\n",
              "      <td>-0.155913</td>\n",
              "      <td>-0.014772</td>\n",
              "      <td>Parasitized</td>\n",
              "    </tr>\n",
              "    <tr>\n",
              "      <th>3</th>\n",
              "      <td>-1.215309</td>\n",
              "      <td>6.258140</td>\n",
              "      <td>-0.260185</td>\n",
              "      <td>-0.536809</td>\n",
              "      <td>3.134470</td>\n",
              "      <td>Parasitized</td>\n",
              "    </tr>\n",
              "    <tr>\n",
              "      <th>4</th>\n",
              "      <td>-3.864496</td>\n",
              "      <td>2.725578</td>\n",
              "      <td>0.867307</td>\n",
              "      <td>1.178735</td>\n",
              "      <td>1.224903</td>\n",
              "      <td>Parasitized</td>\n",
              "    </tr>\n",
              "  </tbody>\n",
              "</table>\n",
              "</div>"
            ],
            "text/plain": [
              "        PC1       PC2       PC3       PC4       PC5        Label\n",
              "0 -4.862000  6.065060 -0.268912  0.191285  1.600135  Parasitized\n",
              "1 -3.636370  5.175361 -1.165399 -1.693403  2.272675  Parasitized\n",
              "2 -7.707283  5.061549 -0.239925 -0.155913 -0.014772  Parasitized\n",
              "3 -1.215309  6.258140 -0.260185 -0.536809  3.134470  Parasitized\n",
              "4 -3.864496  2.725578  0.867307  1.178735  1.224903  Parasitized"
            ]
          },
          "execution_count": 12,
          "metadata": {},
          "output_type": "execute_result"
        }
      ],
      "source": [
        "# Standardize the features\n",
        "x_new = hasilEkstrak.drop(columns=['Label', 'Filename'])\n",
        "y = hasilEkstrak['Label']\n",
        "scaler = StandardScaler()\n",
        "x_scaled = scaler.fit_transform(x_new)\n",
        "\n",
        "# Apply PCA\n",
        "pca = PCA(n_components=0.95)  # Retain 95% of the variance\n",
        "x_pca = pca.fit_transform(x_scaled)\n",
        "\n",
        "# Display the explained variance ratio\n",
        "print(\"Explained Variance Ratio:\", pca.explained_variance_ratio_)\n",
        "print(\"Number of Components:\", pca.n_components_)\n",
        "\n",
        "# Create a DataFrame for the PCA-transformed features\n",
        "pca_features = pd.DataFrame(x_pca, columns=[f'PC{i+1}' for i in range(pca.n_components_)])\n",
        "pca_features['Label'] = y\n",
        "pca_features.head()"
      ]
    },
    {
      "cell_type": "markdown",
      "id": "fd222f55",
      "metadata": {
        "id": "fd222f55"
      },
      "source": [
        "Kode di atas melakukan standarisasi fitur numerik pada dataset `hasilEkstrak` dengan menghilangkan kolom `Label` dan `Filename`, kemudian menggunakan `StandardScaler()` untuk mengubah data agar memiliki mean 0 dan standar deviasi 1, sehingga fitur menjadi lebih seimbang dan siap untuk analisis lebih lanjut. Setelah itu, diterapkan PCA (Principal Component Analysis) dengan parameter `n_components=0.95`, yang berarti PCA akan memilih jumlah komponen utama yang mampu mempertahankan 95% variansi dari data asli, sehingga mengurangi dimensi fitur secara signifikan tanpa kehilangan informasi penting. Hasil transformasi PCA disimpan dalam `x_pca`, dan informasi proporsi variansi yang dijelaskan oleh masing-masing komponen serta jumlah komponennya ditampilkan menggunakan `explained_variance_ratio_` dan `n_components_`. Selanjutnya, data hasil PCA ini dibuat dalam bentuk DataFrame baru yang diberi label kolom PC1, PC2, dan seterusnya sesuai jumlah komponen yang terpilih, dan kolom `Label` ditambahkan kembali agar data siap untuk tahap analisis atau pelatihan model selanjutnya, dengan tampilan awal data ditampilkan menggunakan `head()`.\n"
      ]
    },
    {
      "cell_type": "code",
      "execution_count": null,
      "id": "384004c3",
      "metadata": {
        "id": "384004c3",
        "outputId": "001c0d8d-92f6-4c71-af31-1eb526b1577c"
      },
      "outputs": [
        {
          "name": "stdout",
          "output_type": "stream",
          "text": [
            "(160, 28)\n",
            "(40, 28)\n"
          ]
        }
      ],
      "source": [
        "# 0.3 = 30% data untuk testing (train/test 70/30)\n",
        "# 0.2 = 20% data untuk testing (train/test 80/20)\n",
        "X_train, X_test, y_train, y_test = train_test_split(x_new, y, test_size=0.2, random_state=42)\n",
        "print(X_train.shape)\n",
        "print(X_test.shape)"
      ]
    },
    {
      "cell_type": "markdown",
      "id": "4868aca3",
      "metadata": {
        "id": "4868aca3"
      },
      "source": [
        "Kode di atas membagi dataset fitur `x_new` dan label `y` menjadi dua bagian yaitu data latih (`X_train`, `y_train`) dan data uji (`X_test`, `y_test`) menggunakan fungsi `train_test_split` dari `sklearn.model_selection`. Parameter `test_size=0.2` berarti 20% data digunakan sebagai data uji, sedangkan 80% sisanya menjadi data latih, dan `random_state=42` memastikan pembagian data yang konsisten setiap kali kode dijalankan agar hasilnya dapat direproduksi. Setelah pembagian, bentuk (jumlah baris dan kolom) dari data latih dan data uji dicetak menggunakan `print()` untuk memastikan ukuran data sudah sesuai dengan proporsi yang diinginkan. Komentar di atas menunjukkan bahwa jika `test_size=0.3`, maka pembagian data adalah 70% untuk latih dan 30% untuk uji, sedangkan dengan `test_size=0.2`, pembagian menjadi 80% latih dan 20% uji.\n"
      ]
    },
    {
      "cell_type": "code",
      "execution_count": null,
      "id": "57802c82",
      "metadata": {
        "id": "57802c82"
      },
      "outputs": [],
      "source": [
        "mean_train = X_train.mean(axis=0)\n",
        "std_train = X_train.std(axis=0)\n",
        "\n",
        "# Normalisasi data train dan test dengan Z-score\n",
        "X_train = (X_train - mean_train) / std_train\n",
        "X_test = (X_test - mean_train) / std_train"
      ]
    },
    {
      "cell_type": "markdown",
      "id": "35abcfcb",
      "metadata": {
        "id": "35abcfcb"
      },
      "source": [
        "Kode di atas melakukan normalisasi data fitur untuk set pelatihan (`X_train`) dan pengujian (`X_test`) menggunakan metode Z-score. Pertama, dihitung nilai rata-rata (`mean_train`) dan standar deviasi (`std_train`) dari setiap fitur pada data pelatihan sepanjang axis 0 (kolom). Kemudian, normalisasi dilakukan dengan cara mengurangi setiap nilai fitur dengan rata-rata tersebut dan membaginya dengan standar deviasi, sehingga fitur menjadi memiliki distribusi dengan rata-rata 0 dan standar deviasi 1."
      ]
    },
    {
      "cell_type": "code",
      "execution_count": null,
      "id": "6244f0bf",
      "metadata": {
        "id": "6244f0bf"
      },
      "outputs": [],
      "source": [
        "def generateClassificationReport(y_true, y_pred):\n",
        "\tprint(classification_report(y_true, y_pred))\n",
        "\tprint(confusion_matrix(y_true, y_pred))\n",
        "\tprint('Accuracy:', accuracy_score(y_true, y_pred))\n",
        "\n",
        "# Define classifiers\n",
        "rf = RandomForestClassifier(n_estimators=5, random_state=42)\n",
        "svm = SVC(kernel='rbf', random_state=42)\n",
        "knn = KNeighborsClassifier(n_neighbors=5)"
      ]
    },
    {
      "cell_type": "markdown",
      "id": "18537366",
      "metadata": {
        "id": "18537366"
      },
      "source": [
        "Kode ini mendefinisikan sebuah fungsi `generateClassificationReport` yang menerima dua parameter, yaitu `y_true` (label asli) dan `y_pred` (label hasil prediksi), kemudian mencetak tiga hal penting untuk evaluasi performa model klasifikasi: laporan klasifikasi (`classification_report`) yang menampilkan metrik seperti precision, recall, dan F1-score, matriks kebingungan (`confusion_matrix`) yang memperlihatkan jumlah prediksi benar dan salah untuk tiap kelas, serta akurasi (`accuracy_score`) yang mengukur proporsi prediksi benar secara keseluruhan. Selain itu, kode ini juga mendefinisikan tiga model klasifikasi berbeda: `rf` yaitu Random Forest dengan 5 pohon keputusan dan pengacakan tetap (`random_state=42`), `svm` yaitu Support Vector Machine dengan kernel radial basis function (`rbf`), dan `knn` yaitu K-Nearest Neighbors dengan tetangga terdekat sebanyak 5.\n"
      ]
    },
    {
      "cell_type": "code",
      "execution_count": null,
      "id": "394f658c",
      "metadata": {
        "id": "394f658c",
        "outputId": "e3e8812a-ea75-4a4f-da86-3ef437315098"
      },
      "outputs": [
        {
          "name": "stdout",
          "output_type": "stream",
          "text": [
            "------Training Set------\n",
            "              precision    recall  f1-score   support\n",
            "\n",
            " Parasitized       0.99      0.96      0.97        79\n",
            "  Uninfected       0.96      0.99      0.98        81\n",
            "\n",
            "    accuracy                           0.97       160\n",
            "   macro avg       0.98      0.97      0.97       160\n",
            "weighted avg       0.98      0.97      0.97       160\n",
            "\n",
            "[[76  3]\n",
            " [ 1 80]]\n",
            "Accuracy: 0.975\n",
            "\n",
            "------Testing Set------\n",
            "              precision    recall  f1-score   support\n",
            "\n",
            " Parasitized       0.88      0.67      0.76        21\n",
            "  Uninfected       0.71      0.89      0.79        19\n",
            "\n",
            "    accuracy                           0.78        40\n",
            "   macro avg       0.79      0.78      0.77        40\n",
            "weighted avg       0.80      0.78      0.77        40\n",
            "\n",
            "[[14  7]\n",
            " [ 2 17]]\n",
            "Accuracy: 0.775\n"
          ]
        }
      ],
      "source": [
        "# Train Random Forest Classifier\n",
        "rf.fit(X_train, y_train)\n",
        "\n",
        "# Make predictions and evaluate the model with the training set\n",
        "print(\"------Training Set------\")\n",
        "y_pred = rf.predict(X_train)\n",
        "generateClassificationReport( y_train, y_pred)\n",
        "\n",
        "# Make predictions and evaluate the model with the testing set\n",
        "print(\"\\n------Testing Set------\")\n",
        "y_pred = rf.predict(X_test)\n",
        "generateClassificationReport( y_test, y_pred)"
      ]
    },
    {
      "cell_type": "markdown",
      "id": "00358fe3",
      "metadata": {
        "id": "00358fe3"
      },
      "source": [
        "Kode di atas melakukan pelatihan model Random Forest (`rf`) menggunakan data pelatihan (`X_train` dan `y_train`), kemudian melakukan prediksi dan evaluasi model pada dua tahap. Pertama, model diuji pada data pelatihan itu sendiri, di mana prediksi hasil (`y_pred`) dibandingkan dengan label asli (`y_train`) untuk mengevaluasi seberapa baik model belajar dari data yang diberikan, lalu mencetak laporan klasifikasi dan metrik evaluasi menggunakan fungsi `generateClassificationReport`. Kedua, model diuji pada data pengujian (`X_test`), dimana prediksi dibandingkan dengan label asli pengujian (`y_test`) untuk mengukur performa model pada data baru yang belum pernah dilihat, juga menghasilkan laporan evaluasi yang dicetak.\n"
      ]
    },
    {
      "cell_type": "code",
      "execution_count": null,
      "id": "a11f211b",
      "metadata": {
        "id": "a11f211b",
        "outputId": "22e27104-d3ce-455f-ef65-603e008fddca"
      },
      "outputs": [
        {
          "name": "stdout",
          "output_type": "stream",
          "text": [
            "\n",
            "------Training Set------\n",
            "              precision    recall  f1-score   support\n",
            "\n",
            " Parasitized       0.99      0.94      0.96        79\n",
            "  Uninfected       0.94      0.99      0.96        81\n",
            "\n",
            "    accuracy                           0.96       160\n",
            "   macro avg       0.96      0.96      0.96       160\n",
            "weighted avg       0.96      0.96      0.96       160\n",
            "\n",
            "[[74  5]\n",
            " [ 1 80]]\n",
            "Accuracy: 0.9625\n",
            "\n",
            "------Testing Set------\n",
            "              precision    recall  f1-score   support\n",
            "\n",
            " Parasitized       0.90      0.90      0.90        21\n",
            "  Uninfected       0.89      0.89      0.89        19\n",
            "\n",
            "    accuracy                           0.90        40\n",
            "   macro avg       0.90      0.90      0.90        40\n",
            "weighted avg       0.90      0.90      0.90        40\n",
            "\n",
            "[[19  2]\n",
            " [ 2 17]]\n",
            "Accuracy: 0.9\n"
          ]
        }
      ],
      "source": [
        "# Train SVM Classifier\n",
        "svm.fit(X_train, y_train)\n",
        "\n",
        "# Make predictions and evaluate the model with the training set\n",
        "print(\"\\n------Training Set------\")\n",
        "y_pred = svm.predict(X_train)\n",
        "generateClassificationReport( y_train, y_pred)\n",
        "\n",
        "# Make predictions and evaluate the model with the testing set\n",
        "print(\"\\n------Testing Set------\")\n",
        "y_pred = svm.predict(X_test)\n",
        "generateClassificationReport( y_test, y_pred)"
      ]
    },
    {
      "cell_type": "markdown",
      "id": "820c98b7",
      "metadata": {
        "id": "820c98b7"
      },
      "source": [
        "Kode di atas melatih model Support Vector Machine (SVM) dengan kernel RBF menggunakan data pelatihan (`X_train`, `y_train`), lalu melakukan prediksi dan evaluasi performa model di dua tahap. Pertama, model diuji pada data pelatihan untuk melihat seberapa baik model bisa menyesuaikan diri dengan data yang dipelajari, dengan mencetak laporan klasifikasi dan matriks kebingungan melalui fungsi `generateClassificationReport`. Kedua, model diuji pada data pengujian (`X_test`), untuk mengukur kemampuan generalisasi model terhadap data baru yang belum pernah dilihat, dan hasil evaluasi yang sama juga dicetak.\n"
      ]
    },
    {
      "cell_type": "code",
      "execution_count": null,
      "id": "66e5342a",
      "metadata": {
        "id": "66e5342a",
        "outputId": "b86ec981-d6c2-43cc-9c73-1aae574e7887"
      },
      "outputs": [
        {
          "name": "stdout",
          "output_type": "stream",
          "text": [
            "\n",
            "------Training Set------\n",
            "              precision    recall  f1-score   support\n",
            "\n",
            " Parasitized       0.96      0.91      0.94        79\n",
            "  Uninfected       0.92      0.96      0.94        81\n",
            "\n",
            "    accuracy                           0.94       160\n",
            "   macro avg       0.94      0.94      0.94       160\n",
            "weighted avg       0.94      0.94      0.94       160\n",
            "\n",
            "[[72  7]\n",
            " [ 3 78]]\n",
            "Accuracy: 0.9375\n",
            "\n",
            "------Testing Set------\n",
            "              precision    recall  f1-score   support\n",
            "\n",
            " Parasitized       0.89      0.76      0.82        21\n",
            "  Uninfected       0.77      0.89      0.83        19\n",
            "\n",
            "    accuracy                           0.82        40\n",
            "   macro avg       0.83      0.83      0.82        40\n",
            "weighted avg       0.83      0.82      0.82        40\n",
            "\n",
            "[[16  5]\n",
            " [ 2 17]]\n",
            "Accuracy: 0.825\n"
          ]
        }
      ],
      "source": [
        "# Train KNN Classifier\n",
        "knn.fit(X_train, y_train)\n",
        "\n",
        "# Make predictions and evaluate the model with the training set\n",
        "print(\"\\n------Training Set------\")\n",
        "y_pred = knn.predict(X_train)\n",
        "generateClassificationReport( y_train, y_pred)\n",
        "\n",
        "# Make predictions and evaluate the model with the testing set\n",
        "print(\"\\n------Testing Set------\")\n",
        "y_pred = knn.predict(X_test)\n",
        "generateClassificationReport( y_test, y_pred)"
      ]
    },
    {
      "cell_type": "markdown",
      "id": "1e0259e1",
      "metadata": {
        "id": "1e0259e1"
      },
      "source": [
        "Kode di atas melatih model K-Nearest Neighbors (KNN) dengan `k=5` menggunakan data pelatihan (`X_train`, `y_train`). Setelah model selesai dilatih, dilakukan prediksi dan evaluasi performa pada dua set data. Pertama, model diuji pada data pelatihan untuk melihat seberapa baik model dapat mengingat dan menyesuaikan diri dengan data yang digunakan selama pelatihan. Kedua, model diuji pada data pengujian (`X_test`) untuk mengukur kemampuan generalisasi model terhadap data baru yang belum pernah dilihat. Pada kedua tahap, hasil evaluasi seperti laporan klasifikasi, matriks kebingungan, dan akurasi dicetak menggunakan fungsi `generateClassificationReport` untuk memberikan gambaran performa KNN secara lengkap.\n"
      ]
    },
    {
      "cell_type": "code",
      "execution_count": null,
      "id": "c91e13eb",
      "metadata": {
        "id": "c91e13eb",
        "outputId": "b5ffa77c-4870-4a16-9369-038bc9b65ac7"
      },
      "outputs": [
        {
          "data": {
            "image/png": "[encoded data removed]",
            "text/plain": [
              "<Figure size 640x480 with 2 Axes>"
            ]
          },
          "metadata": {},
          "output_type": "display_data"
        },
        {
          "data": {
            "image/png": "[encoded data removed]",
            "text/plain": [
              "<Figure size 640x480 with 2 Axes>"
            ]
          },
          "metadata": {},
          "output_type": "display_data"
        },
        {
          "data": {
            "image/png": "[encoded data removed]",
            "text/plain": [
              "<Figure size 640x480 with 2 Axes>"
            ]
          },
          "metadata": {},
          "output_type": "display_data"
        }
      ],
      "source": [
        "def plot_confusion_matrix(y_true, y_pred, title):\n",
        "    cm = confusion_matrix(y_true, y_pred)\n",
        "    disp = ConfusionMatrixDisplay(confusion_matrix=cm)\n",
        "    disp.plot(cmap=plt.cm.Blues)\n",
        "    plt.title(title)\n",
        "    plt.show()\n",
        "\n",
        "# Plot confusion matrix for Random Forest\n",
        "plot_confusion_matrix(y_test, rf.predict(X_test), \"Random Forest Confusion Matrix\")\n",
        "# Plot confusion matrix for SVM\n",
        "plot_confusion_matrix(y_test, svm.predict(X_test), \"SVM Confusion Matrix\")\n",
        "# Plot confusion matrix for KNN\n",
        "plot_confusion_matrix(y_test, knn.predict(X_test), \"KNN Confusion Matrix\")"
      ]
    },
    {
      "cell_type": "markdown",
      "id": "912fc3d6",
      "metadata": {
        "id": "912fc3d6"
      },
      "source": [
        "Kode di atas membuat fungsi `plot_confusion_matrix` yang berfungsi untuk menampilkan matriks kebingungan dari hasil prediksi model klasifikasi. Fungsi menerima data label asli (`y_true`), hasil prediksi model (`y_pred`), dan judul grafik (`title`). Matriks kebingungan dihitung menggunakan `confusion_matrix`, lalu divisualisasikan dengan `ConfusionMatrixDisplay` dari sklearn dengan warna biru untuk membedakan tingkat kesalahan dan keberhasilan prediksi. Fungsi ini kemudian dipanggil tiga kali untuk masing-masing model: Random Forest, SVM, dan KNN, menampilkan matriks kebingungan dari prediksi data testing pada masing-masing model secara terpisah dengan judul yang sesuai.\n"
      ]
    }
  ],
  "metadata": {
    "colab": {
      "provenance": []
    },
    "kernelspec": {
      "display_name": "Python 3",
      "language": "python",
      "name": "python3"
    },
    "language_info": {
      "codemirror_mode": {
        "name": "ipython",
        "version": 3
      },
      "file_extension": ".py",
      "mimetype": "text/x-python",
      "name": "python",
      "nbconvert_exporter": "python",
      "pygments_lexer": "ipython3",
      "version": "3.13.3"
    }
  },
  "nbformat": 4,
  "nbformat_minor": 5
}
