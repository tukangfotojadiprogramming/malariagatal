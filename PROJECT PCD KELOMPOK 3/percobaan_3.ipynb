{
  "cells": [
    {
      "cell_type": "markdown",
      "id": "UQ-HhQaak5R8",
      "metadata": {
        "id": "UQ-HhQaak5R8"
      },
      "source": [
        "<div style=\"font-family: 'Times New Roman', Times, serif; font-size: 30px; font-weight: bold;\">\n",
        "  PROJECT PENGOLAHAN CITRA DIGITAL\n",
        "</div>\n",
        "Analisis Infeksi Malaria Berdasarkan Perbedaan Tekstur Citra Sek Darah Menggunakan Segmentasi Thresholding\n",
        "\n",
        "================================= PERCOBAAN 3 ==================================="
      ]
    },
    {
      "cell_type": "code",
      "execution_count": 2,
      "id": "b842d573",
      "metadata": {
        "id": "b842d573"
      },
      "outputs": [],
      "source": [
        "import os\n",
        "import cv2 as cv\n",
        "import matplotlib.pyplot as plt\n",
        "import numpy as np\n",
        "import pandas as pd\n",
        "from math import ceil\n",
        "from collections import Counter\n",
        "from sklearn.preprocessing import StandardScaler\n",
        "from sklearn.decomposition import PCA\n",
        "from sklearn.model_selection import train_test_split\n",
        "from sklearn.metrics import accuracy_score, classification_report\n",
        "from skimage.feature import graycomatrix, graycoprops\n",
        "from scipy.stats import entropy\n",
        "from sklearn.ensemble import RandomForestClassifier\n",
        "from sklearn.svm import SVC\n",
        "from sklearn.neighbors import KNeighborsClassifier\n",
        "from sklearn.metrics import accuracy_score, confusion_matrix, classification_report\n",
        "from sklearn.metrics import ConfusionMatrixDisplay"
      ]
    },
    {
      "cell_type": "markdown",
      "id": "5DoWlH21laa4",
      "metadata": {
        "id": "5DoWlH21laa4"
      },
      "source": [
        "Dalam proyek ini, kode di atas merupakan berbagai library yang diimpor untuk menunjang proses pengolahan citra, ekstraksi fitur, dan klasifikasi menggunakan machine learning. Library os digunakan untuk mengelola file dan folder, seperti membaca nama-nama file gambar yang akan diproses menggunakan fungsi seperti `os.listdir()` dan `os.path.join()`. Untuk pengolahan citra digital, digunakan `cv2` (diimpor sebagai `cv`) yang menyediakan fungsi-fungsi seperti `cv.imread()`, `cv.cvtColor()`, dan `cv.resize()` untuk membaca, mengubah warna, dan mengubah ukuran gambar. Visualisasi hasil seperti tampilan gambar atau grafik dilakukan menggunakan `matplotlib.pyplot` melalui fungsi `plt.imshow()`, `plt.title()`, dan `plt.show()`.\n",
        "\n",
        "Library numpy (`np`) digunakan untuk operasi numerik seperti membuat array (`np.array()`), menghitung rata-rata (`np.mean()`), atau matriks korelasi. Fungsi `ceil()` dari math digunakan untuk membulatkan angka ke atas, sedangkan Counter dari collections digunakan untuk menghitung frekuensi label menggunakan `Counter()`.\n",
        "\n",
        "Untuk pengelolaan data tabular, digunakan pandas (`pd`) yang memudahkan manipulasi data menggunakan struktur DataFrame, dengan fungsi seperti `pd.DataFrame()` dan `df.to_csv()`. Normalisasi fitur dilakukan dengan StandardScaler dari `sklearn`.preprocessing menggunakan fungsi `fit_transform()`, yang penting agar setiap fitur memiliki skala yang seragam. Untuk mengurangi dimensi data dan menghindari redundansi, digunakan PCA dari sklearn.decomposition dengan fungsi seperti `PCA()`.`fit_transform()`. Dataset kemudian dibagi menggunakan `train_test_split()` dari `sklearn.model_selection` menjadi data latih dan data uji.\n",
        "\n",
        "Evaluasi performa model dilakukan menggunakan beberapa metrik dari `sklearn.metrics`, seperti `accuracy_score()`, `classification_report()`, `confusion_matrix()`, dan visualisasi dengan `ConfusionMatrixDisplay`. `from_predictions()`. Untuk ekstraksi fitur tekstur, digunakan metode GLCM (Gray-Level Co-occurrence Matrix) dari skimage.feature melalui fungsi `graycomatrix()` untuk membuat matriks ko-occurrence dan `graycoprops()` untuk menghitung properti tekstur seperti contrast, homogeneity, dan ASM. Selain itu, nilai entropi dihitung dari histogram citra menggunakan fungsi `entropy()` dari scipy.stats.\n",
        "\n",
        "Terakhir, klasifikasi dilakukan menggunakan beberapa algoritma dari scikit-learn, yaitu RandomForestClassifier dari sklearn.ensemble dengan fungsi seperti `fit()` dan `predict()`, SVC (Support Vector Classifier) dari `sklearn.svm`, serta `KNeighborsClassifier` dari sklearn.neighbors. Ketiga model ini dilatih menggunakan data hasil ekstraksi fitur dan diuji untuk melihat akurasinya dalam membedakan kelas citra."
      ]
    },
    {
      "cell_type": "markdown",
      "id": "a2f90430",
      "metadata": {
        "id": "a2f90430"
      },
      "source": [
        "# DATA LOADING"
      ]
    },
    {
      "cell_type": "code",
      "execution_count": 3,
      "id": "8323df7f",
      "metadata": {
        "id": "8323df7f"
      },
      "outputs": [],
      "source": [
        "data = []\n",
        "labels = []\n",
        "file_name = []\n",
        "for label_folder in ['Parasitized', 'Uninfected']:\n",
        "    folder_path = os.path.join('dataset\\\\', label_folder)\n",
        "    for filename in os.listdir(folder_path):\n",
        "        img_path = os.path.join(folder_path, filename)\n",
        "        img = cv.imread(img_path)\n",
        "        img = cv.resize(img, (100, 100))  # Resize ke ukuran tetap\n",
        "        data.append(img)\n",
        "        labels.append(label_folder)\n",
        "        file_name.append(filename)"
      ]
    },
    {
      "cell_type": "markdown",
      "id": "Hj_IyWZillTM",
      "metadata": {
        "id": "Hj_IyWZillTM"
      },
      "source": [
        "Kode di atas digunakan untuk membaca dan memproses gambar dari dua folder berbeda, yaitu `'Parasitized'` dan `'Uninfected'`, yang masing-masing merepresentasikan label dalam klasifikasi citra (misalnya gambar sel darah yang terinfeksi malaria dan yang sehat). Pertama, dua list yaitu `data` dan `labels` disiapkan untuk menyimpan citra dan labelnya, serta `file_name` untuk menyimpan nama file gambar. Dengan menggunakan perulangan `for`, kode menelusuri setiap folder label menggunakan `os.path.join()` untuk membentuk path lengkap ke folder, lalu mengambil semua nama file gambar dalam folder tersebut menggunakan `os.listdir()`. Setiap gambar kemudian dibaca menggunakan `cv.imread()` dan diubah ukurannya menjadi `100x100` piksel menggunakan `cv.resize()` agar memiliki ukuran seragam. Gambar hasil resize disimpan dalam list `data`, label (berdasarkan nama folder) disimpan dalam `labels`, dan nama file disimpan dalam `file_name`. Proses ini membentuk dataset yang siap digunakan."
      ]
    },
    {
      "cell_type": "markdown",
      "id": "UJScpcjKlpEV",
      "metadata": {
        "id": "UJScpcjKlpEV"
      },
      "source": [
        "Kode ini digunakan untuk menampilkan distribusi jumlah gambar berdasarkan kelas serta menampilkan contoh gambar dari masing-masing kelas dalam dataset. Pertama, `Counter(labels)` digunakan untuk menghitung jumlah gambar untuk setiap label (kelas), kemudian nama kelas `(classes)` dan jumlahnya `(counts)` diekstrak. Data ini divisualisasikan menggunakan `plt.bar()` dalam bentuk diagram batang, dengan judul, label sumbu, dan garis bantu (grid) pada sumbu-y untuk memperjelas tampilan. Setelah itu, program mencetak label \"Output: Contoh Sample Data:\" dan menampilkan satu contoh gambar dari setiap kelas. Ini dilakukan dengan menelusuri seluruh data, mengecek label, dan hanya menampilkan satu gambar per kelas menggunakan `plt.subplot()` dan `plt.imshow()` untuk menampilkan gambar. Gambar ditampilkan dalam satu baris menggunakan `plt.figure(figsize=(15, 3))`, dan loop dihentikan setelah semua kelas ditampilkan. Fungsi `plt.tight_layout()` digunakan untuk merapikan tata letak agar subplot tidak saling tumpang tindih."
      ]
    },
    {
      "cell_type": "code",
      "execution_count": 5,
      "id": "a1b7ab93",
      "metadata": {
        "id": "a1b7ab93",
        "outputId": "6ff5192d-ca45-4bb5-c7df-84baf2a2fe17"
      },
      "outputs": [
        {
          "data": {
            "image/png": "[encoded data removed]",
            "text/plain": [
              "<Figure size 800x600 with 1 Axes>"
            ]
          },
          "metadata": {},
          "output_type": "display_data"
        },
        {
          "name": "stdout",
          "output_type": "stream",
          "text": [
            "Output: Contoh Sample Data:\n"
          ]
        },
        {
          "data": {
            "image/png": "[encoded data removed]",
            "text/plain": [
              "<Figure size 1500x300 with 2 Axes>"
            ]
          },
          "metadata": {},
          "output_type": "display_data"
        }
      ],
      "source": [
        "label_counts = Counter(labels)\n",
        "classes = list(label_counts.keys())\n",
        "counts = list(label_counts.values())\n",
        "\n",
        "plt.figure(figsize=(8, 6))\n",
        "plt.bar(classes, counts, color='dodgerblue')\n",
        "plt.title(\"Distribusi Jumlah Gambar per Kelas\")\n",
        "plt.xlabel(\"Kelas\")\n",
        "plt.ylabel(\"Jumlah Gambar\")\n",
        "plt.grid(axis='y', linestyle='--', alpha=0.7)\n",
        "plt.show()\n",
        "\n",
        "print(\"Output: Contoh Sample Data:\")\n",
        "\n",
        "plt.figure(figsize=(15, 3))\n",
        "shown_labels = set()\n",
        "shown = 0\n",
        "\n",
        "for i in range(len(data)):\n",
        "    label = labels[i]\n",
        "    if label in shown_labels:\n",
        "        continue\n",
        "    plt.subplot(1, len(classes), shown + 1)\n",
        "    plt.imshow(data[i], cmap='gray')\n",
        "    plt.title(f\"{label}\")\n",
        "    plt.axis('off')\n",
        "    shown_labels.add(label)\n",
        "    shown += 1\n",
        "    if shown >= len(classes):\n",
        "        break\n",
        "\n",
        "plt.tight_layout()\n",
        "plt.show()"
      ]
    },
    {
      "cell_type": "markdown",
      "id": "1548d03c",
      "metadata": {
        "id": "1548d03c"
      },
      "source": [
        "# PREPROCESSING"
      ]
    },
    {
      "cell_type": "markdown",
      "id": "5e7cb50c",
      "metadata": {
        "id": "5e7cb50c"
      },
      "source": [
        "## Support"
      ]
    },
    {
      "cell_type": "code",
      "execution_count": 6,
      "id": "b265aea3",
      "metadata": {
        "id": "b265aea3"
      },
      "outputs": [],
      "source": [
        "def sorting(arr): #di sort ini harus jd 1 array\n",
        "    for i in range(len(arr)):\n",
        "        swap = i + np.argmin(arr[i:])\n",
        "        (arr[i], arr[swap]) = (arr[swap], arr[i])\n",
        "    return arr\n",
        "def flatArray(arr): #buat jadiin array 1 dimensi\n",
        "    row, col = arr.shape\n",
        "    flat=[]\n",
        "    for i in range (row):\n",
        "        for j in range (col):\n",
        "            flat.append(arr[i][j]) #buat nambahin nilai ke list\n",
        "    return flat\n",
        "def fit(window,SE):\n",
        "    for i in range(len(SE)):\n",
        "      for j in range(len(SE)):\n",
        "        if(SE[i][j]==1 and window[i][j]==0):\n",
        "          return 0\n",
        "    return 1\n",
        "def getParasite(image):\n",
        "    ret, parasit = cv.threshold(image, 118, 255, cv.THRESH_BINARY)\n",
        "    parasit = 255 - parasit\n",
        "    return parasit\n",
        "SE = [[1, 1, 1, 1, 1],\n",
        "       [1, 1, 1, 1, 1],\n",
        "       [1, 1, 1, 1, 1],\n",
        "       [1, 1, 1, 1, 1],\n",
        "       [1, 1, 1, 1, 1]]"
      ]
    },
    {
      "cell_type": "markdown",
      "id": "Jx6IKOzImEGL",
      "metadata": {
        "id": "Jx6IKOzImEGL"
      },
      "source": [
        "Kode ini berisi beberapa fungsi yang berperan dalam pemrosesan citra dan operasi matriks, terutama untuk pengolahan biner dan morfologi citra. Fungsi `sorting(arr)` berfungsi mengurutkan elemen dalam sebuah array satu dimensi menggunakan algoritma selection sort dengan bantuan `np.argmin` untuk mencari nilai terkecil dalam subarray yang belum diurutkan. Fungsi `flatArray(arr)` digunakan untuk mengubah array 2 dimensi menjadi array 1 dimensi dengan cara mengambil setiap elemen dari setiap baris dan kolom dan menambahkannya ke dalam list baru.\n",
        "\n",
        "Fungsi `fit(window, SE)` digunakan untuk memeriksa apakah sebuah window (bagian kecil dari citra) cocok dengan struktur elemen (structuring element) `SE`. Fungsi ini mengecek setiap posisi dalam `SE` yang bernilai 1, dan jika pada posisi tersebut window bernilai 0, maka fungsi mengembalikan 0 yang berarti tidak cocok; jika tidak ditemukan ketidaksesuaian, fungsi mengembalikan 1 sebagai tanda kecocokan.\n",
        "\n",
        "Fungsi `getParasite(image)` berfungsi untuk melakukan thresholding pada citra grayscale menggunakan nilai ambang 118, sehingga menghasilkan citra biner di mana piksel yang lebih terang dari 118 menjadi 255 (putih) dan sisanya 0 (hitam). Kemudian hasil threshold ini di-invers sehingga piksel putih dan hitam bertukar posisi. Ini biasanya digunakan untuk mengekstrak objek tertentu dari latar belakang, dalam konteks ini kemungkinan objek parasit.\n",
        "\n",
        "Terakhir, `SE` adalah sebuah matriks 5x5 yang semua elemennya bernilai 1, berfungsi sebagai structuring element (elemen struktur) dalam operasi morfologi citra seperti dilasi atau erosi. Elemen ini digunakan dalam fungsi `fit` untuk memeriksa pola kecocokan dalam sebuah window citra."
      ]
    },
    {
      "cell_type": "markdown",
      "id": "181c6030",
      "metadata": {
        "id": "181c6030"
      },
      "source": [
        "## Preprocessing"
      ]
    },
    {
      "cell_type": "code",
      "execution_count": 7,
      "id": "e49bbefb",
      "metadata": {
        "id": "e49bbefb"
      },
      "outputs": [],
      "source": [
        "def prepro1_resize(img, new_width=100, new_height=100):\n",
        "    old_height, old_width = img.shape[:2]\n",
        "    resized = np.zeros((new_height, new_width, 3), dtype=np.uint8)\n",
        "\n",
        "    for i in range(new_height):\n",
        "        for j in range(new_width):\n",
        "            x = int(i * old_height / new_height)\n",
        "            y = int(j * old_width / new_width)\n",
        "            resized[i, j] = img[x, y]\n",
        "    return resized\n",
        "def prepro2_grayscale(img):\n",
        "    height, width = img.shape[:2]\n",
        "    gray = np.zeros((height, width), dtype=np.uint8)\n",
        "\n",
        "    for i in range(height):\n",
        "        for j in range(width):\n",
        "            r, g, b = img[i, j]\n",
        "            gray[i, j] = int(0.2989 * r + 0.5870 * g + 0.1140 * b)  # Luminosity formula\n",
        "    return gray\n",
        "def prepro3_normalization(img):\n",
        "    height, width = img.shape\n",
        "    norm = np.zeros((height, width), dtype=np.float32)\n",
        "\n",
        "    for i in range(height):\n",
        "        for j in range(width):\n",
        "            norm[i, j] = img[i, j] / 255.0\n",
        "    return norm\n",
        "def prepro4_thresholding(image, threshold):\n",
        "    res = np.zeros_like(image, dtype=np.uint8)\n",
        "    res[image > threshold] = 255\n",
        "    return res\n",
        "def prepro5_median(image,windowHeight,windowWidth):\n",
        "    pad = np.pad(image,(windowHeight,windowWidth),mode='edge')\n",
        "    median = np.zeros(image.shape, dtype=np.uint8)\n",
        "    for i in range(windowHeight,len(pad)-windowHeight):\n",
        "        for j in range(windowWidth,len(pad)-windowWidth):\n",
        "            window = flatArray(pad[i-windowHeight:i,j-windowWidth:j])\n",
        "            window = sorting(window)\n",
        "            median[i-windowHeight,j-windowWidth] = window[ceil(len(window)/2)]\n",
        "    return median\n",
        "def erosi(image,SE):\n",
        "    erosi = np.zeros(image.shape, dtype=np.uint8)\n",
        "    row, col = image.shape\n",
        "    # melakukan perulangan pada window center image\n",
        "    for i in range(row-len(SE)):\n",
        "        for j in range(col-len(SE)):\n",
        "            window = image[i:i+len(SE),j:j+len(SE)]\n",
        "            # mengambil nilai pada fungsi fit, jika fit maka bernilai 1 jika tidak maka 0\n",
        "            erosi[i][j] = fit(window,SE)\n",
        "    return erosi\n",
        "def segmentation(mainImage, grayImage): #buat maskingnya\n",
        "    parasite=getParasite(grayImage)\n",
        "    erode = erosi(parasite, SE)\n",
        "    medParasite = prepro5_median(erode, 4, 4)\n",
        "    maskParasite = cv.bitwise_and(mainImage, mainImage, mask=medParasite) #buat maskingnya\n",
        "    return maskParasite"
      ]
    },
    {
      "cell_type": "markdown",
      "id": "y-rJxB0nmQeu",
      "metadata": {
        "id": "y-rJxB0nmQeu"
      },
      "source": [
        "Kode ini berisi beberapa fungsi preprocessing citra dan segmentasi yang dirancang untuk mengolah gambar, khususnya mendeteksi dan mengekstrak objek tertentu (dalam konteks ini, kemungkinan parasit) dari gambar utama. Berikut penjelasan tiap fungsi secara ringkas:\n",
        "\n",
        "Fungsi `prepro1_resize` bertugas meresize gambar ke ukuran baru (default 100x100 piksel) dengan cara manual: untuk setiap piksel di gambar hasil, dipetakan ke piksel asal di gambar asli sesuai proporsi, lalu diisi dengan nilai piksel tersebut. Ini mirip dengan teknik nearest neighbor.\n",
        "\n",
        "Fungsi `prepro2_grayscale` mengubah gambar berwarna (RGB) menjadi grayscale menggunakan rumus luminosity, yaitu kombinasi tertimbang dari nilai merah (R), hijau (G), dan biru (B) untuk mencerminkan persepsi terang mata manusia.\n",
        "\n",
        "Fungsi `prepro3_normalization` melakukan normalisasi piksel gambar grayscale dengan membagi setiap nilai piksel dengan 255, sehingga hasilnya berupa angka antara 0 dan 1. Ini biasanya digunakan agar data citra konsisten dan lebih mudah diproses oleh algoritma selanjutnya.\n",
        "\n",
        "Fungsi `prepro4_thresholding` melakukan segmentasi sederhana dengan threshold: setiap piksel yang nilainya lebih besar dari ambang (threshold) akan diubah menjadi 255 (putih), sementara sisanya tetap 0 (hitam). Ini menghasilkan citra biner.\n",
        "\n",
        "Fungsi `prepro5_median` menerapkan filter median secara manual untuk menghilangkan noise pada gambar biner. Fungsi ini menggunakan padding untuk menghindari batas citra, kemudian mengambil jendela (window) piksel di sekitar tiap posisi, mengubahnya menjadi array satu dimensi, mengurutkannya, dan memilih nilai tengah sebagai nilai piksel hasil. Filter median efektif menghilangkan noise tanpa merusak tepi objek.\n",
        "\n",
        "Fungsi `erosi` melakukan operasi erosi morfologi menggunakan structuring element (SE). Ia memindai seluruh gambar dengan jendela berukuran SE, kemudian memanggil fungsi `fit` untuk memeriksa apakah jendela cocok dengan SE (artinya SE \"muat\" sepenuhnya di area yang sama pada gambar). Jika cocok, piksel hasil bernilai 1 (putih), jika tidak 0 (hitam). Erosi berguna untuk menghilangkan piksel-piksel kecil di tepi objek.\n",
        "\n",
        "Fungsi `segmentation` melakukan segmentasi objek parasit pada gambar. Pertama, ia memanggil `getParasite` untuk melakukan thresholding dan inversi agar parasit menjadi objek putih di latar belakang hitam. Lalu, hasil ini di-erosi untuk memperhalus objek, kemudian difilter median untuk menghilangkan noise. Akhirnya, fungsi ini melakukan masking pada gambar asli dengan hasil segmentasi sebagai masker, sehingga hanya bagian parasit yang terlihat.\n",
        "\n",
        "Rangkaian fungsi ini memproses gambar dari resize, konversi ke grayscale, thresholding, denoising, hingga segmentasi objek yang diinginkan dengan teknik morfologi dan filtering. Ini adalah tahapan penting sebelum ekstraksi fitur atau analisis lebih lanjut.\n"
      ]
    },
    {
      "cell_type": "code",
      "execution_count": 8,
      "id": "5f59946e",
      "metadata": {
        "id": "5f59946e"
      },
      "outputs": [],
      "source": [
        "# dataPreprocessed = []\n",
        "\n",
        "# for i in range(len(data)):\n",
        "#     img = data[i]\n",
        "\n",
        "#     # === Tahapan Preprocessing Manual ===\n",
        "#     img_resized = prepro1_resize(img)                      # Resize ke 100x100\n",
        "#     img_grayscale = prepro2_grayscale(img_resized)        # Konversi ke grayscale\n",
        "#     img_thresholded = prepro4_thresholding(img_grayscale, 118)  # Thresholding\n",
        "#     img_normalized = prepro3_normalization(img_thresholded)     # Normalisasi\n",
        "#     img_median = prepro5_median(img_normalized, 3, 3)      # Median filter\n",
        "#     img_normalized = prepro3_normalization(img_median)     # Normalisasi ulang\n",
        "#     img_uint8 = (img_normalized * 255).astype(np.uint8)\n",
        "\n",
        "#     # === SEGMENTASI (PAKAI HASIL PREPROCESSING) ===\n",
        "#     segmented_img = segmentation(img_resized, img_uint8)\n",
        "\n",
        "#     # === KONVERSI UNTUK EKSTRAKSI FITUR ===\n",
        "#     segmented_gray = prepro2_grayscale(segmented_img)\n",
        "#     segmented_uint8 = segmented_gray.astype(np.uint8)\n",
        "\n",
        "#     dataPreprocessed.append(segmented_uint8)"
      ]
    },
    {
      "cell_type": "markdown",
      "id": "NCBQnWEkm2vW",
      "metadata": {
        "id": "NCBQnWEkm2vW"
      },
      "source": [
        "Kode ini adalah contoh pipeline preprocessing dan segmentasi gambar secara manual, yang terdiri dari beberapa tahap berurutan untuk menyiapkan data citra agar siap diekstraksi fiturnya.\n",
        "\n",
        "Pertama, setiap gambar (`img`) dari dataset `data` diproses satu per satu. Tahap awal adalah resizing gambar ke ukuran 100x100 piksel menggunakan fungsi `prepro1_resize`. Kemudian, gambar tersebut dikonversi menjadi grayscale dengan `prepro2_grayscale` agar warna menjadi skala abu-abu, yang lebih sederhana untuk diproses.\n",
        "\n",
        "Selanjutnya, grayscale image dikenai thresholding (`prepro4_thresholding`) dengan ambang nilai 118 untuk memisahkan objek dari latar belakang secara kasar, menghasilkan citra biner. Setelah itu, hasil threshold dinormalisasi ke rentang 0-1 (`prepro3_normalization`) agar nilai piksel konsisten untuk pemrosesan berikutnya.\n",
        "\n",
        "Kemudian, filter median diaplikasikan (`prepro5_median`) untuk mengurangi noise pada citra. Filter median ini diterapkan pada citra yang telah dinormalisasi. Setelah filtering, citra dinormalisasi lagi ke rentang 0-1 untuk memastikan konsistensi data.\n",
        "\n",
        "Setelah itu, citra dikonversi kembali ke tipe data uint8 dengan mengalikan nilai piksel dengan 255 agar sesuai format standar citra untuk operasi selanjutnya.\n",
        "\n",
        "Tahap berikutnya adalah segmentasi objek dari gambar yang telah diresize dan diproses thresholding tadi, menggunakan fungsi `segmentation`. Fungsi ini menghasilkan gambar yang hanya berisi bagian objek yang diinginkan (misalnya parasit), memanfaatkan operasi morfologi dan masking.\n",
        "\n",
        "Hasil segmentasi kemudian dikonversi kembali ke grayscale (`prepro2_grayscale`) dan diubah ke tipe uint8 agar siap untuk tahap ekstraksi fitur.\n",
        "\n",
        "Terakhir, hasil segmentasi yang sudah siap ini disimpan ke dalam list `dataPreprocessed` sebagai data yang telah siap diproses lebih lanjut.\n",
        "\n",
        "Kode ini melakukan preprocessing lengkap dari resize, konversi warna, thresholding, filtering noise, segmentasi, hingga konversi data untuk menyiapkan citra sebagai input analisis atau ekstraksi fitur berikutnya."
      ]
    },
    {
      "cell_type": "code",
      "execution_count": 9,
      "id": "b9ecc55c",
      "metadata": {
        "id": "b9ecc55c"
      },
      "outputs": [],
      "source": [
        "output_folder = 'preprocessed_output3'\n",
        "os.makedirs(output_folder, exist_ok=True)  # Membuat folder jika belum ada\n",
        "\n",
        "dataPreprocessed = []\n",
        "\n",
        "for i in range(len(data)):\n",
        "    img = data[i]\n",
        "\n",
        "    # === Tahapan Preprocessing Manual ===\n",
        "    img_resized = prepro1_resize(img)                      # Resize ke 100x100\n",
        "    img_grayscale = prepro2_grayscale(img_resized)        # Konversi ke grayscale\n",
        "    img_thresholded = prepro4_thresholding(img_grayscale, 118)  # Thresholding\n",
        "    img_normalized = prepro3_normalization(img_thresholded)     # Normalisasi\n",
        "    img_median = prepro5_median(img_normalized, 3, 3)      # Median filter\n",
        "    img_normalized = prepro3_normalization(img_median)     # Normalisasi ulang\n",
        "    img_uint8 = (img_normalized * 255).astype(np.uint8)\n",
        "\n",
        "    # === SEGMENTASI (PAKAI HASIL PREPROCESSING) ===\n",
        "    segmented_img = segmentation(img_resized, img_uint8)\n",
        "\n",
        "    # === KONVERSI UNTUK EKSTRAKSI FITUR ===\n",
        "    segmented_gray = prepro2_grayscale(segmented_img)\n",
        "    segmented_uint8 = segmented_gray.astype(np.uint8)\n",
        "\n",
        "    dataPreprocessed.append(segmented_uint8)\n",
        "\n",
        "    filename = file_name[i]\n",
        "    save_path = os.path.join(output_folder, filename)\n",
        "    cv.imwrite(save_path, segmented_uint8)"
      ]
    },
    {
      "cell_type": "markdown",
      "id": "LjjeDMBEnEmc",
      "metadata": {
        "id": "LjjeDMBEnEmc"
      },
      "source": [
        "Kode ini melakukan proses preprocessing dan segmentasi pada setiap gambar dalam dataset `data`, lalu menyimpan hasil segmentasi tersebut ke dalam sebuah folder khusus bernama `preprocessed_output3`.\n",
        "\n",
        "Langkah-langkahnya dimulai dengan memastikan folder `preprocessed_output3` sudah ada atau dibuat jika belum (`os.makedirs(output_folder, exist_ok=True)`).\n",
        "\n",
        "Kemudian, untuk setiap gambar (`img`) di dataset `data`, dilakukan tahapan preprocessing manual yang sama seperti sebelumnya: gambar diresize ke ukuran 100x100 piksel, dikonversi ke grayscale, dilakukan thresholding dengan nilai ambang 118, dinormalisasi, difilter median untuk mengurangi noise, lalu dinormalisasi ulang dan dikonversi ke format 8-bit (`uint8`).\n",
        "\n",
        "Setelah preprocessing, gambar yang sudah diproses ini kemudian disegmentasi menggunakan fungsi `segmentation`, yang memisahkan objek penting dalam gambar (misalnya parasit) dari latar belakang.\n",
        "\n",
        "Hasil segmentasi kemudian dikonversi lagi menjadi grayscale dan format uint8, lalu disimpan dalam list `dataPreprocessed` sebagai data yang siap untuk ekstraksi fitur lebih lanjut.\n",
        "\n",
        "Selain itu, setiap gambar hasil segmentasi juga disimpan ke disk secara langsung dengan nama file yang sama seperti aslinya (`file_name[i]`), di dalam folder `preprocessed_output3`. Ini memungkinkan hasil preprocessing dan segmentasi disimpan secara terorganisir untuk penggunaan atau analisis berikutnya.\n"
      ]
    },
    {
      "cell_type": "markdown",
      "id": "987287aa",
      "metadata": {
        "id": "987287aa"
      },
      "source": [
        "# Feature Extraction"
      ]
    },
    {
      "cell_type": "code",
      "execution_count": 10,
      "id": "dd4b1e90",
      "metadata": {
        "id": "dd4b1e90"
      },
      "outputs": [],
      "source": [
        "def glcm(image, derajat):\n",
        "    if derajat == 0:\n",
        "        angles = [0]\n",
        "    elif derajat == 45:\n",
        "        angles = [np.pi / 4]\n",
        "    elif derajat == 90:\n",
        "        angles = [np.pi / 2]\n",
        "    elif derajat == 135:\n",
        "        angles = [3 * np.pi / 4]\n",
        "    else:\n",
        "        raise ValueError(\"Invalid angle. It should be one of the following: 0, 45, 90, 135.\")\n",
        "\n",
        "    # mengembalikan matrix glcm dari image\n",
        "    glcm = graycomatrix(image, [1], angles, 256, symmetric=True, normed=True)\n",
        "    return glcm"
      ]
    },
    {
      "cell_type": "markdown",
      "id": "NczVPplrnQKl",
      "metadata": {
        "id": "NczVPplrnQKl"
      },
      "source": [
        "Fungsi `glcm` ini berfungsi untuk menghasilkan matriks Gray Level Co-occurrence Matrix (GLCM) dari sebuah citra `image` pada sudut tertentu yang disebut `derajat` (dalam satuan derajat).\n",
        "\n",
        "Pertama, fungsi ini memeriksa nilai `derajat` yang diberikan dan mengonversinya menjadi nilai sudut dalam radian yang sesuai untuk GLCM, yakni 0°, 45°, 90°, atau 135°. Jika `derajat` bukan salah satu dari nilai tersebut, fungsi akan menolak dengan memberikan error.\n",
        "\n",
        "Setelah itu, fungsi memanggil fungsi `graycomatrix` dari pustaka `skimage.feature` untuk membentuk matriks GLCM dari citra. Parameter yang digunakan untuk  `image` sebagai citra input yang harus berupa array grayscale. `[1]` untuk jarak piksel tetangga yang digunakan untuk menghitung GLCM, di sini jaraknya 1 piksel. `angles` mengatur sudut (dalam radian) untuk arah tetangga. `256` menunjukkan jumlah level intensitas piksel (biasanya untuk citra 8-bit). `symmetric=True` merupakan matriks GLCM simetris, sehingga menghitung hubungan dua arah. Sedangkan, * `normed=True` untuk  matriks dinormalisasi sehingga jumlah seluruh elemen adalah 1.\n",
        "\n",
        "Fungsi kemudian mengembalikan matriks GLCM tersebut, yang bisa digunakan untuk ekstraksi fitur tekstur lebih lanjut seperti kontras, homogenitas, energi, dll.\n",
        "\n"
      ]
    },
    {
      "cell_type": "code",
      "execution_count": 11,
      "id": "c9450fbf",
      "metadata": {
        "id": "c9450fbf"
      },
      "outputs": [],
      "source": [
        "def correlation(matriks):\n",
        "\treturn graycoprops(matriks, 'correlation')[0, 0]\n",
        "def dissimilarity(matriks):\n",
        "    return graycoprops(matriks, 'dissimilarity')[0, 0]\n",
        "def homogenity(matriks):\n",
        "    return graycoprops(matriks, 'homogeneity')[0, 0]\n",
        "def contrast(matriks):\n",
        "    return graycoprops(matriks, 'contrast')[0, 0]\n",
        "def ASM(matriks):\n",
        "    return graycoprops(matriks, 'ASM')[0, 0]\n",
        "def energy(matriks):\n",
        "    return graycoprops(matriks, 'energy')[0, 0]\n",
        "def entropyGlcm(matriks):\n",
        "    return entropy(matriks.ravel())"
      ]
    },
    {
      "cell_type": "markdown",
      "id": "QTEbPF-KoHBf",
      "metadata": {
        "id": "QTEbPF-KoHBf"
      },
      "source": [
        "Fungsi-fungsi diatas bertujuan untuk mengekstraksi berbagai fitur tekstur dari matriks GLCM yang sudah dihitung. Setiap fungsi menggunakan `graycoprops` dari pustaka skimage untuk mengambil nilai properti tekstur spesifik dari matriks GLCM, seperti korelasi, dissimilaritas, homogenitas, kontras, ASM (Angular Second Moment), dan energi. Fungsi-fungsi ini mengakses elemen pertama pada array hasil karena properti tersebut biasanya dikembalikan dalam bentuk matriks 2D yang berisi nilai untuk setiap sudut dan jarak, dan di sini hanya sudut tunggal yang dipakai. Selain itu, fungsi `entropyGlcm` menghitung entropi dari matriks GLCM dengan meratakan matriks menjadi satu dimensi dan menggunakan fungsi `entropy` untuk mengukur kompleksitas atau ketidakteraturan distribusi tekstur dalam citra. Di dalam fungsi-fungsi ini menyediakan metode yang efisien untuk memperoleh nilai-nilai statistik tekstur yang penting untuk analisis citra berbasis GLCM.\n"
      ]
    },
    {
      "cell_type": "code",
      "execution_count": 12,
      "id": "bf71abae",
      "metadata": {
        "id": "bf71abae"
      },
      "outputs": [],
      "source": [
        "Derajat0 = []\n",
        "Derajat45 = []\n",
        "Derajat90 = []\n",
        "Derajat135 = []\n",
        "for i in range(len(dataPreprocessed)):\n",
        "    D0 = glcm(dataPreprocessed[i], 0)\n",
        "    D45 = glcm(dataPreprocessed[i], 45)\n",
        "    D90 = glcm(dataPreprocessed[i], 90)\n",
        "    D135 = glcm(dataPreprocessed[i], 135)\n",
        "    Derajat0.append(D0)\n",
        "    Derajat45.append(D45)\n",
        "    Derajat90.append(D90)\n",
        "    Derajat135.append(D135)"
      ]
    },
    {
      "cell_type": "markdown",
      "id": "GmjiAKs3oWuF",
      "metadata": {
        "id": "GmjiAKs3oWuF"
      },
      "source": [
        "Kode ini melakukan perhitungan matriks GLCM (Gray Level Co-occurrence Matrix) untuk setiap citra yang telah diproses dalam `dataPreprocessed`. Untuk setiap citra, matriks GLCM dihitung pada empat arah sudut berbeda, yaitu 0°, 45°, 90°, dan 135°. Matriks hasil perhitungan tersebut kemudian disimpan ke dalam empat list terpisah sesuai dengan sudutnya masing-masing, yaitu `Derajat0`, `Derajat45`, `Derajat90`, dan `Derajat135`. Pendekatan ini memungkinkan analisis tekstur dari citra dengan mempertimbangkan berbagai orientasi spasial piksel, sehingga fitur tekstur yang diekstrak bisa lebih komprehensif dan sensitif terhadap arah dalam citra. Setiap citra memiliki empat representasi matriks GLCM yang digunakan untuk tahap ekstraksi fitur selanjutnya.\n"
      ]
    },
    {
      "cell_type": "code",
      "execution_count": 13,
      "id": "d25ea795",
      "metadata": {
        "id": "d25ea795"
      },
      "outputs": [],
      "source": [
        "Kontras0, Kontras45, Kontras90, Kontras135 = [], [], [], []\n",
        "dissimilarity0, dissimilarity45, dissimilarity90, dissimilarity135 =  [], [], [], []\n",
        "homogenity0, homogenity45, homogenity90, homogenity135 = [], [], [], []\n",
        "entropy0, entropy45, entropy90, entropy135 =  [], [], [], []\n",
        "ASM0, ASM45, ASM90, ASM135 =  [], [], [], []\n",
        "energy0, energy45, energy90, energy135 =  [], [], [], []\n",
        "correlation0, correlation45, correlation90, correlation135 = [], [], [], []"
      ]
    },
    {
      "cell_type": "markdown",
      "id": "kPMIuVUvofMC",
      "metadata": {
        "id": "kPMIuVUvofMC"
      },
      "source": [
        "Kode ini mendefinisikan beberapa list kosong yang nantinya akan digunakan untuk menyimpan nilai-nilai fitur tekstur yang diekstrak dari matriks GLCM pada setiap sudut 0°, 45°, 90°, dan 135°. Setiap jenis fitur — seperti kontras, dissimilarity, homogenitas, entropi, ASM (Angular Second Moment), energi, dan korelasi — memiliki empat list terpisah untuk masing-masing sudut tersebut. Dengan cara ini, fitur dari setiap arah penyinaran dapat disimpan dan dianalisis secara terpisah, sehingga hasil ekstraksi tekstur menjadi lebih detail dan mencerminkan variasi tekstur dari berbagai orientasi dalam citra. List-list ini akan diisi dengan nilai fitur setelah proses ekstraksi selesai pada tiap citra yang diproses."
      ]
    },
    {
      "cell_type": "code",
      "execution_count": 14,
      "id": "b42ff5dc",
      "metadata": {
        "id": "b42ff5dc"
      },
      "outputs": [],
      "source": [
        "for i in range(len(dataPreprocessed)):\n",
        "    C0 = correlation(Derajat0[i])\n",
        "    correlation0.append(C0)\n",
        "    C45 = correlation(Derajat45[i])\n",
        "    correlation45.append(C45)\n",
        "    C90 = correlation(Derajat90[i])\n",
        "    correlation90.append(C90)\n",
        "    C135 = correlation(Derajat135[i])\n",
        "    correlation135.append(C135)\n",
        "for i in range(len(dataPreprocessed)):\n",
        "    K0 = contrast(Derajat0[i])\n",
        "    K45 = contrast(Derajat45[i])\n",
        "    K90 = contrast(Derajat90[i])\n",
        "    K135 = contrast(Derajat135[i])\n",
        "    Kontras0.append(K0)\n",
        "    Kontras45.append(K45)\n",
        "    Kontras90.append(K90)\n",
        "    Kontras135.append(K135)\n",
        "for i in range(len(dataPreprocessed)):\n",
        "    Dis0 = dissimilarity(Derajat0[i])\n",
        "    Dis45 = dissimilarity(Derajat45[i])\n",
        "    Dis90 = dissimilarity(Derajat90[i])\n",
        "    Dis135 = dissimilarity(Derajat135[i])\n",
        "    dissimilarity0.append(Dis0)\n",
        "    dissimilarity45.append(Dis45)\n",
        "    dissimilarity90.append(Dis90)\n",
        "    dissimilarity135.append(Dis135)\n",
        "for i in range(len(dataPreprocessed)):\n",
        "    H0 = homogenity(Derajat0[i])\n",
        "    H45 = homogenity(Derajat45[i])\n",
        "    H90 = homogenity(Derajat90[i])\n",
        "    H135 = homogenity(Derajat135[i])\n",
        "    homogenity0.append(H0)\n",
        "    homogenity45.append(H45)\n",
        "    homogenity90.append(H90)\n",
        "    homogenity135.append(H135)\n",
        "for i in range(len(dataPreprocessed)):\n",
        "    E0 = entropyGlcm(Derajat0[i])\n",
        "    E45 = entropyGlcm(Derajat45[i])\n",
        "    E90 = entropyGlcm(Derajat90[i])\n",
        "    E135 = entropyGlcm(Derajat135[i])\n",
        "    entropy0.append(E0)\n",
        "    entropy45.append(E45)\n",
        "    entropy90.append(E90)\n",
        "    entropy135.append(E135)\n",
        "for i in range(len(dataPreprocessed)):\n",
        "    A0 = ASM(Derajat0[i])\n",
        "    A45 = ASM(Derajat45[i])\n",
        "    A90 = ASM(Derajat90[i])\n",
        "    A135 = ASM(Derajat135[i])\n",
        "    ASM0.append(A0)\n",
        "    ASM45.append(A45)\n",
        "    ASM90.append(A90)\n",
        "    ASM135.append(A135)\n",
        "for i in range(len(dataPreprocessed)):\n",
        "    ER0 = energy(Derajat0[i])\n",
        "    ER45 = energy(Derajat45[i])\n",
        "    ER90 = energy(Derajat90[i])\n",
        "    ER135 = energy(Derajat135[i])\n",
        "    energy0.append(ER0)\n",
        "    energy45.append(ER45)\n",
        "    energy90.append(ER90)\n",
        "    energy135.append(ER135)"
      ]
    },
    {
      "cell_type": "markdown",
      "id": "B-3lD1HMonGz",
      "metadata": {
        "id": "B-3lD1HMonGz"
      },
      "source": [
        "Kode ini berfungsi untuk mengekstrak berbagai fitur tekstur dari setiap matriks GLCM (Gray Level Co-occurrence Matrix) yang sudah dihitung pada empat arah sudut berbeda (0°, 45°, 90°, dan 135°) untuk setiap citra yang sudah diproses. Untuk setiap citra dalam `dataPreprocessed`, kode ini menjalankan beberapa loop yang secara berurutan memanggil fungsi-fungsi ekstraksi fitur seperti korelasi, kontras, dissimilarity, homogenitas, entropi, ASM, dan energi, yang masing-masing mengambil matriks GLCM dari sudut yang berbeda sebagai input.\n",
        "\n",
        "Setiap fungsi tersebut mengembalikan nilai skalar yang merepresentasikan karakteristik tekstur tertentu dari citra pada sudut tertentu. Nilai-nilai ini kemudian disimpan ke dalam list yang sudah dideklarasikan sebelumnya—misalnya, nilai korelasi untuk sudut 0° dimasukkan ke dalam `correlation0`, untuk sudut 45° ke `correlation45`, dan seterusnya. Demikian juga untuk fitur lainnya, seperti kontras, dissimilarity, homogenitas, entropi, ASM, dan energi, masing-masing memiliki empat list untuk menampung nilai dari keempat sudut.\n",
        "\n",
        "Kode ini menyusun dataset fitur tekstur yang komprehensif, yang memungkinkan analisis tekstur multidimensi berdasarkan orientasi sudut pada citra, yang penting dalam berbagai aplikasi pengolahan citra dan pengenalan pola. Hasil akhir berupa kumpulan nilai fitur yang bisa dipakai untuk klasifikasi, segmentasi, atau analisis lebih lanjut.\n"
      ]
    },
    {
      "cell_type": "code",
      "execution_count": 15,
      "id": "8d5dc56a",
      "metadata": {
        "id": "8d5dc56a",
        "outputId": "dd372643-1973-46ad-8172-f37fcbbd44ff"
      },
      "outputs": [
        {
          "data": {
            "text/html": [
              "<div>\n",
              "<style scoped>\n",
              "    .dataframe tbody tr th:only-of-type {\n",
              "        vertical-align: middle;\n",
              "    }\n",
              "\n",
              "    .dataframe tbody tr th {\n",
              "        vertical-align: top;\n",
              "    }\n",
              "\n",
              "    .dataframe thead th {\n",
              "        text-align: right;\n",
              "    }\n",
              "</style>\n",
              "<table border=\"1\" class=\"dataframe\">\n",
              "  <thead>\n",
              "    <tr style=\"text-align: right;\">\n",
              "      <th></th>\n",
              "      <th>Filename</th>\n",
              "      <th>Label</th>\n",
              "      <th>Contrast0</th>\n",
              "      <th>Contrast45</th>\n",
              "      <th>Contrast90</th>\n",
              "      <th>Contrast135</th>\n",
              "      <th>Homogeneity0</th>\n",
              "      <th>Homogeneity45</th>\n",
              "      <th>Homogeneity90</th>\n",
              "      <th>Homogeneity135</th>\n",
              "      <th>...</th>\n",
              "      <th>ASM90</th>\n",
              "      <th>ASM135</th>\n",
              "      <th>Energy0</th>\n",
              "      <th>Energy45</th>\n",
              "      <th>Energy90</th>\n",
              "      <th>Energy135</th>\n",
              "      <th>Correlation0</th>\n",
              "      <th>Correlation45</th>\n",
              "      <th>Correlation90</th>\n",
              "      <th>Correlation135</th>\n",
              "    </tr>\n",
              "  </thead>\n",
              "  <tbody>\n",
              "    <tr>\n",
              "      <th>0</th>\n",
              "      <td>C33P1thinF_IMG_20150619_114756a_cell_179.png</td>\n",
              "      <td>Parasitized</td>\n",
              "      <td>580.288283</td>\n",
              "      <td>993.442812</td>\n",
              "      <td>542.870000</td>\n",
              "      <td>981.758290</td>\n",
              "      <td>0.534870</td>\n",
              "      <td>0.468886</td>\n",
              "      <td>0.529124</td>\n",
              "      <td>0.480208</td>\n",
              "      <td>...</td>\n",
              "      <td>0.071017</td>\n",
              "      <td>0.063502</td>\n",
              "      <td>0.265768</td>\n",
              "      <td>0.251868</td>\n",
              "      <td>0.266490</td>\n",
              "      <td>0.251997</td>\n",
              "      <td>0.948898</td>\n",
              "      <td>0.911279</td>\n",
              "      <td>0.952259</td>\n",
              "      <td>0.912323</td>\n",
              "    </tr>\n",
              "    <tr>\n",
              "      <th>1</th>\n",
              "      <td>C33P1thinF_IMG_20150619_114756a_cell_180.png</td>\n",
              "      <td>Parasitized</td>\n",
              "      <td>545.200707</td>\n",
              "      <td>1075.748801</td>\n",
              "      <td>624.919495</td>\n",
              "      <td>1016.583614</td>\n",
              "      <td>0.544282</td>\n",
              "      <td>0.481041</td>\n",
              "      <td>0.543664</td>\n",
              "      <td>0.484284</td>\n",
              "      <td>...</td>\n",
              "      <td>0.065614</td>\n",
              "      <td>0.058592</td>\n",
              "      <td>0.257623</td>\n",
              "      <td>0.241145</td>\n",
              "      <td>0.256152</td>\n",
              "      <td>0.242057</td>\n",
              "      <td>0.955325</td>\n",
              "      <td>0.910284</td>\n",
              "      <td>0.948740</td>\n",
              "      <td>0.915219</td>\n",
              "    </tr>\n",
              "    <tr>\n",
              "      <th>2</th>\n",
              "      <td>C33P1thinF_IMG_20150619_114756a_cell_181.png</td>\n",
              "      <td>Parasitized</td>\n",
              "      <td>503.078384</td>\n",
              "      <td>932.009795</td>\n",
              "      <td>537.625455</td>\n",
              "      <td>956.866646</td>\n",
              "      <td>0.490927</td>\n",
              "      <td>0.432469</td>\n",
              "      <td>0.495485</td>\n",
              "      <td>0.439829</td>\n",
              "      <td>...</td>\n",
              "      <td>0.047352</td>\n",
              "      <td>0.041052</td>\n",
              "      <td>0.218239</td>\n",
              "      <td>0.202786</td>\n",
              "      <td>0.217604</td>\n",
              "      <td>0.202612</td>\n",
              "      <td>0.945334</td>\n",
              "      <td>0.896382</td>\n",
              "      <td>0.941506</td>\n",
              "      <td>0.893619</td>\n",
              "    </tr>\n",
              "    <tr>\n",
              "      <th>3</th>\n",
              "      <td>C33P1thinF_IMG_20150619_114756a_cell_182.png</td>\n",
              "      <td>Parasitized</td>\n",
              "      <td>570.535455</td>\n",
              "      <td>1017.678298</td>\n",
              "      <td>664.000808</td>\n",
              "      <td>1147.379757</td>\n",
              "      <td>0.561482</td>\n",
              "      <td>0.515142</td>\n",
              "      <td>0.561920</td>\n",
              "      <td>0.506609</td>\n",
              "      <td>...</td>\n",
              "      <td>0.100235</td>\n",
              "      <td>0.091628</td>\n",
              "      <td>0.317748</td>\n",
              "      <td>0.304655</td>\n",
              "      <td>0.316599</td>\n",
              "      <td>0.302701</td>\n",
              "      <td>0.961282</td>\n",
              "      <td>0.930234</td>\n",
              "      <td>0.954915</td>\n",
              "      <td>0.921342</td>\n",
              "    </tr>\n",
              "    <tr>\n",
              "      <th>4</th>\n",
              "      <td>C33P1thinF_IMG_20150619_115740a_cell_161.png</td>\n",
              "      <td>Parasitized</td>\n",
              "      <td>479.607677</td>\n",
              "      <td>954.508315</td>\n",
              "      <td>530.750505</td>\n",
              "      <td>876.124885</td>\n",
              "      <td>0.540037</td>\n",
              "      <td>0.466742</td>\n",
              "      <td>0.546624</td>\n",
              "      <td>0.481685</td>\n",
              "      <td>...</td>\n",
              "      <td>0.069639</td>\n",
              "      <td>0.061768</td>\n",
              "      <td>0.263785</td>\n",
              "      <td>0.247470</td>\n",
              "      <td>0.263892</td>\n",
              "      <td>0.248531</td>\n",
              "      <td>0.954419</td>\n",
              "      <td>0.907856</td>\n",
              "      <td>0.949571</td>\n",
              "      <td>0.915423</td>\n",
              "    </tr>\n",
              "    <tr>\n",
              "      <th>...</th>\n",
              "      <td>...</td>\n",
              "      <td>...</td>\n",
              "      <td>...</td>\n",
              "      <td>...</td>\n",
              "      <td>...</td>\n",
              "      <td>...</td>\n",
              "      <td>...</td>\n",
              "      <td>...</td>\n",
              "      <td>...</td>\n",
              "      <td>...</td>\n",
              "      <td>...</td>\n",
              "      <td>...</td>\n",
              "      <td>...</td>\n",
              "      <td>...</td>\n",
              "      <td>...</td>\n",
              "      <td>...</td>\n",
              "      <td>...</td>\n",
              "      <td>...</td>\n",
              "      <td>...</td>\n",
              "      <td>...</td>\n",
              "      <td>...</td>\n",
              "    </tr>\n",
              "    <tr>\n",
              "      <th>195</th>\n",
              "      <td>C2NThinF_IMG_20150604_114730_cell_72.png</td>\n",
              "      <td>Uninfected</td>\n",
              "      <td>445.112929</td>\n",
              "      <td>900.554841</td>\n",
              "      <td>528.153333</td>\n",
              "      <td>855.197021</td>\n",
              "      <td>0.699489</td>\n",
              "      <td>0.622958</td>\n",
              "      <td>0.686732</td>\n",
              "      <td>0.632494</td>\n",
              "      <td>...</td>\n",
              "      <td>0.087065</td>\n",
              "      <td>0.078243</td>\n",
              "      <td>0.296790</td>\n",
              "      <td>0.278564</td>\n",
              "      <td>0.295067</td>\n",
              "      <td>0.279720</td>\n",
              "      <td>0.961648</td>\n",
              "      <td>0.921364</td>\n",
              "      <td>0.954513</td>\n",
              "      <td>0.925324</td>\n",
              "    </tr>\n",
              "    <tr>\n",
              "      <th>196</th>\n",
              "      <td>C2NThinF_IMG_20150604_114730_cell_98.png</td>\n",
              "      <td>Uninfected</td>\n",
              "      <td>481.349899</td>\n",
              "      <td>850.568309</td>\n",
              "      <td>514.587071</td>\n",
              "      <td>912.867054</td>\n",
              "      <td>0.680776</td>\n",
              "      <td>0.615067</td>\n",
              "      <td>0.660018</td>\n",
              "      <td>0.604140</td>\n",
              "      <td>...</td>\n",
              "      <td>0.104414</td>\n",
              "      <td>0.095311</td>\n",
              "      <td>0.324136</td>\n",
              "      <td>0.309733</td>\n",
              "      <td>0.323132</td>\n",
              "      <td>0.308725</td>\n",
              "      <td>0.958856</td>\n",
              "      <td>0.926564</td>\n",
              "      <td>0.956013</td>\n",
              "      <td>0.921185</td>\n",
              "    </tr>\n",
              "    <tr>\n",
              "      <th>197</th>\n",
              "      <td>C2NThinF_IMG_20150604_114751_cell_38.png</td>\n",
              "      <td>Uninfected</td>\n",
              "      <td>438.531515</td>\n",
              "      <td>770.788695</td>\n",
              "      <td>408.822626</td>\n",
              "      <td>737.969187</td>\n",
              "      <td>0.661165</td>\n",
              "      <td>0.579196</td>\n",
              "      <td>0.648759</td>\n",
              "      <td>0.591796</td>\n",
              "      <td>...</td>\n",
              "      <td>0.064617</td>\n",
              "      <td>0.057363</td>\n",
              "      <td>0.255073</td>\n",
              "      <td>0.238608</td>\n",
              "      <td>0.254199</td>\n",
              "      <td>0.239507</td>\n",
              "      <td>0.957666</td>\n",
              "      <td>0.924239</td>\n",
              "      <td>0.960557</td>\n",
              "      <td>0.927465</td>\n",
              "    </tr>\n",
              "    <tr>\n",
              "      <th>198</th>\n",
              "      <td>C2NThinF_IMG_20150604_114751_cell_69.png</td>\n",
              "      <td>Uninfected</td>\n",
              "      <td>403.525657</td>\n",
              "      <td>702.981839</td>\n",
              "      <td>415.980707</td>\n",
              "      <td>746.732680</td>\n",
              "      <td>0.678600</td>\n",
              "      <td>0.612373</td>\n",
              "      <td>0.678944</td>\n",
              "      <td>0.598769</td>\n",
              "      <td>...</td>\n",
              "      <td>0.059004</td>\n",
              "      <td>0.051547</td>\n",
              "      <td>0.243735</td>\n",
              "      <td>0.227983</td>\n",
              "      <td>0.242907</td>\n",
              "      <td>0.227040</td>\n",
              "      <td>0.961096</td>\n",
              "      <td>0.930862</td>\n",
              "      <td>0.959876</td>\n",
              "      <td>0.926559</td>\n",
              "    </tr>\n",
              "    <tr>\n",
              "      <th>199</th>\n",
              "      <td>C2NThinF_IMG_20150604_114751_cell_92.png</td>\n",
              "      <td>Uninfected</td>\n",
              "      <td>456.732525</td>\n",
              "      <td>740.737068</td>\n",
              "      <td>358.537980</td>\n",
              "      <td>744.206510</td>\n",
              "      <td>0.670037</td>\n",
              "      <td>0.582594</td>\n",
              "      <td>0.671674</td>\n",
              "      <td>0.587784</td>\n",
              "      <td>...</td>\n",
              "      <td>0.055232</td>\n",
              "      <td>0.047431</td>\n",
              "      <td>0.233221</td>\n",
              "      <td>0.217820</td>\n",
              "      <td>0.235014</td>\n",
              "      <td>0.217786</td>\n",
              "      <td>0.954968</td>\n",
              "      <td>0.925532</td>\n",
              "      <td>0.964730</td>\n",
              "      <td>0.925184</td>\n",
              "    </tr>\n",
              "  </tbody>\n",
              "</table>\n",
              "<p>200 rows × 30 columns</p>\n",
              "</div>"
            ],
            "text/plain": [
              "                                         Filename        Label   Contrast0  \\\n",
              "0    C33P1thinF_IMG_20150619_114756a_cell_179.png  Parasitized  580.288283   \n",
              "1    C33P1thinF_IMG_20150619_114756a_cell_180.png  Parasitized  545.200707   \n",
              "2    C33P1thinF_IMG_20150619_114756a_cell_181.png  Parasitized  503.078384   \n",
              "3    C33P1thinF_IMG_20150619_114756a_cell_182.png  Parasitized  570.535455   \n",
              "4    C33P1thinF_IMG_20150619_115740a_cell_161.png  Parasitized  479.607677   \n",
              "..                                            ...          ...         ...   \n",
              "195      C2NThinF_IMG_20150604_114730_cell_72.png   Uninfected  445.112929   \n",
              "196      C2NThinF_IMG_20150604_114730_cell_98.png   Uninfected  481.349899   \n",
              "197      C2NThinF_IMG_20150604_114751_cell_38.png   Uninfected  438.531515   \n",
              "198      C2NThinF_IMG_20150604_114751_cell_69.png   Uninfected  403.525657   \n",
              "199      C2NThinF_IMG_20150604_114751_cell_92.png   Uninfected  456.732525   \n",
              "\n",
              "      Contrast45  Contrast90  Contrast135  Homogeneity0  Homogeneity45  \\\n",
              "0     993.442812  542.870000   981.758290      0.534870       0.468886   \n",
              "1    1075.748801  624.919495  1016.583614      0.544282       0.481041   \n",
              "2     932.009795  537.625455   956.866646      0.490927       0.432469   \n",
              "3    1017.678298  664.000808  1147.379757      0.561482       0.515142   \n",
              "4     954.508315  530.750505   876.124885      0.540037       0.466742   \n",
              "..           ...         ...          ...           ...            ...   \n",
              "195   900.554841  528.153333   855.197021      0.699489       0.622958   \n",
              "196   850.568309  514.587071   912.867054      0.680776       0.615067   \n",
              "197   770.788695  408.822626   737.969187      0.661165       0.579196   \n",
              "198   702.981839  415.980707   746.732680      0.678600       0.612373   \n",
              "199   740.737068  358.537980   744.206510      0.670037       0.582594   \n",
              "\n",
              "     Homogeneity90  Homogeneity135  ...     ASM90    ASM135   Energy0  \\\n",
              "0         0.529124        0.480208  ...  0.071017  0.063502  0.265768   \n",
              "1         0.543664        0.484284  ...  0.065614  0.058592  0.257623   \n",
              "2         0.495485        0.439829  ...  0.047352  0.041052  0.218239   \n",
              "3         0.561920        0.506609  ...  0.100235  0.091628  0.317748   \n",
              "4         0.546624        0.481685  ...  0.069639  0.061768  0.263785   \n",
              "..             ...             ...  ...       ...       ...       ...   \n",
              "195       0.686732        0.632494  ...  0.087065  0.078243  0.296790   \n",
              "196       0.660018        0.604140  ...  0.104414  0.095311  0.324136   \n",
              "197       0.648759        0.591796  ...  0.064617  0.057363  0.255073   \n",
              "198       0.678944        0.598769  ...  0.059004  0.051547  0.243735   \n",
              "199       0.671674        0.587784  ...  0.055232  0.047431  0.233221   \n",
              "\n",
              "     Energy45  Energy90  Energy135  Correlation0  Correlation45  \\\n",
              "0    0.251868  0.266490   0.251997      0.948898       0.911279   \n",
              "1    0.241145  0.256152   0.242057      0.955325       0.910284   \n",
              "2    0.202786  0.217604   0.202612      0.945334       0.896382   \n",
              "3    0.304655  0.316599   0.302701      0.961282       0.930234   \n",
              "4    0.247470  0.263892   0.248531      0.954419       0.907856   \n",
              "..        ...       ...        ...           ...            ...   \n",
              "195  0.278564  0.295067   0.279720      0.961648       0.921364   \n",
              "196  0.309733  0.323132   0.308725      0.958856       0.926564   \n",
              "197  0.238608  0.254199   0.239507      0.957666       0.924239   \n",
              "198  0.227983  0.242907   0.227040      0.961096       0.930862   \n",
              "199  0.217820  0.235014   0.217786      0.954968       0.925532   \n",
              "\n",
              "     Correlation90  Correlation135  \n",
              "0         0.952259        0.912323  \n",
              "1         0.948740        0.915219  \n",
              "2         0.941506        0.893619  \n",
              "3         0.954915        0.921342  \n",
              "4         0.949571        0.915423  \n",
              "..             ...             ...  \n",
              "195       0.954513        0.925324  \n",
              "196       0.956013        0.921185  \n",
              "197       0.960557        0.927465  \n",
              "198       0.959876        0.926559  \n",
              "199       0.964730        0.925184  \n",
              "\n",
              "[200 rows x 30 columns]"
            ]
          },
          "execution_count": 15,
          "metadata": {},
          "output_type": "execute_result"
        }
      ],
      "source": [
        "dataTable = {'Filename': file_name, 'Label': labels,\n",
        "        'Contrast0': Kontras0, 'Contrast45': Kontras45, 'Contrast90': Kontras90, 'Contrast135': Kontras135,\n",
        "        'Homogeneity0': homogenity0, 'Homogeneity45': homogenity45, 'Homogeneity90': homogenity90, 'Homogeneity135': homogenity135,\n",
        "        'Dissimilarity0': dissimilarity0, 'Dissimilarity45': dissimilarity45, 'Dissimilarity90': dissimilarity90, 'Dissimilarity135': dissimilarity135,\n",
        "        'Entropy0': entropy0, 'Entropy45': entropy45, 'Entropy90': entropy90, 'Entropy135': entropy135,\n",
        "        'ASM0': ASM0, 'ASM45': ASM45, 'ASM90': ASM90, 'ASM135': ASM135,\n",
        "        'Energy0': energy0, 'Energy45': energy45, 'Energy90': energy90, 'Energy135': energy135,\n",
        "        'Correlation0': correlation0, 'Correlation45': correlation45, 'Correlation90': correlation90, 'Correlation135': correlation135,\n",
        "        }\n",
        "df = pd.DataFrame(dataTable)\n",
        "df.to_csv('hasil_ekstraksi_3.csv', index=False)\n",
        "\n",
        "hasilEkstrak = pd.read_csv('hasil_ekstraksi_3.csv')\n",
        "hasilEkstrak"
      ]
    },
    {
      "cell_type": "markdown",
      "id": "pZFmV8WFo0RW",
      "metadata": {
        "id": "pZFmV8WFo0RW"
      },
      "source": [
        "Kode ini berfungsi untuk menggabungkan semua fitur tekstur yang sudah diekstraksi dari citra menjadi sebuah tabel data (dataframe) menggunakan library pandas. Semua fitur yang sudah dihitung dan disimpan dalam list seperti kontras, homogenitas, dissimilarity, entropi, ASM, energi, dan korelasi untuk masing-masing sudut (0°, 45°, 90°, dan 135°), beserta informasi nama file (`file_name`) dan label kelas (`labels`), dimasukkan ke dalam sebuah dictionary dengan key sebagai nama kolom dan value berupa list fitur yang bersesuaian.\n",
        "\n",
        "Dictionary ini kemudian dikonversi menjadi sebuah dataframe pandas (`df`), yang membuat data menjadi terstruktur dalam bentuk baris dan kolom, sehingga lebih mudah dianalisis dan diolah. Selanjutnya, dataframe ini disimpan ke dalam sebuah file CSV bernama `'hasil_ekstraksi_3.csv'` tanpa menyertakan index baris (`index=False`).\n",
        "\n",
        "Setelah itu, file CSV yang baru disimpan tersebut dibaca kembali ke dalam variabel `hasilEkstrak` sebagai dataframe. Dengan cara ini, data fitur tekstur lengkap beserta label dan nama file siap untuk digunakan dalam proses selanjutnya, misalnya pelatihan model machine learning atau analisis data lebih lanjut. Hasil output `hasilEkstrak` akan menampilkan isi dataframe yang berisi semua fitur tersebut."
      ]
    },
    {
      "cell_type": "markdown",
      "id": "099ed148",
      "metadata": {
        "id": "099ed148"
      },
      "source": [
        "# Feature Selection"
      ]
    },
    {
      "cell_type": "code",
      "execution_count": 16,
      "id": "a2881a1d",
      "metadata": {
        "id": "a2881a1d",
        "outputId": "a032e2fa-5cf6-4cae-8f4f-2862dd9bdcc0"
      },
      "outputs": [
        {
          "name": "stdout",
          "output_type": "stream",
          "text": [
            "Explained Variance Ratio: [0.53771446 0.27308618 0.10327623 0.03117842 0.03035694]\n",
            "Number of Components: 5\n"
          ]
        },
        {
          "data": {
            "text/html": [
              "<div>\n",
              "<style scoped>\n",
              "    .dataframe tbody tr th:only-of-type {\n",
              "        vertical-align: middle;\n",
              "    }\n",
              "\n",
              "    .dataframe tbody tr th {\n",
              "        vertical-align: top;\n",
              "    }\n",
              "\n",
              "    .dataframe thead th {\n",
              "        text-align: right;\n",
              "    }\n",
              "</style>\n",
              "<table border=\"1\" class=\"dataframe\">\n",
              "  <thead>\n",
              "    <tr style=\"text-align: right;\">\n",
              "      <th></th>\n",
              "      <th>PC1</th>\n",
              "      <th>PC2</th>\n",
              "      <th>PC3</th>\n",
              "      <th>PC4</th>\n",
              "      <th>PC5</th>\n",
              "      <th>Label</th>\n",
              "    </tr>\n",
              "  </thead>\n",
              "  <tbody>\n",
              "    <tr>\n",
              "      <th>0</th>\n",
              "      <td>-5.181326</td>\n",
              "      <td>4.542835</td>\n",
              "      <td>0.067339</td>\n",
              "      <td>0.740586</td>\n",
              "      <td>1.566746</td>\n",
              "      <td>Parasitized</td>\n",
              "    </tr>\n",
              "    <tr>\n",
              "      <th>1</th>\n",
              "      <td>-4.372933</td>\n",
              "      <td>4.879646</td>\n",
              "      <td>1.554242</td>\n",
              "      <td>-0.602166</td>\n",
              "      <td>2.316692</td>\n",
              "      <td>Parasitized</td>\n",
              "    </tr>\n",
              "    <tr>\n",
              "      <th>2</th>\n",
              "      <td>-8.041061</td>\n",
              "      <td>3.657119</td>\n",
              "      <td>-0.090088</td>\n",
              "      <td>-0.816086</td>\n",
              "      <td>0.326821</td>\n",
              "      <td>Parasitized</td>\n",
              "    </tr>\n",
              "    <tr>\n",
              "      <th>3</th>\n",
              "      <td>-1.815812</td>\n",
              "      <td>5.952283</td>\n",
              "      <td>0.591740</td>\n",
              "      <td>-0.165796</td>\n",
              "      <td>3.179319</td>\n",
              "      <td>Parasitized</td>\n",
              "    </tr>\n",
              "    <tr>\n",
              "      <th>4</th>\n",
              "      <td>-4.680128</td>\n",
              "      <td>3.590261</td>\n",
              "      <td>-0.347534</td>\n",
              "      <td>-0.250339</td>\n",
              "      <td>1.335245</td>\n",
              "      <td>Parasitized</td>\n",
              "    </tr>\n",
              "  </tbody>\n",
              "</table>\n",
              "</div>"
            ],
            "text/plain": [
              "        PC1       PC2       PC3       PC4       PC5        Label\n",
              "0 -5.181326  4.542835  0.067339  0.740586  1.566746  Parasitized\n",
              "1 -4.372933  4.879646  1.554242 -0.602166  2.316692  Parasitized\n",
              "2 -8.041061  3.657119 -0.090088 -0.816086  0.326821  Parasitized\n",
              "3 -1.815812  5.952283  0.591740 -0.165796  3.179319  Parasitized\n",
              "4 -4.680128  3.590261 -0.347534 -0.250339  1.335245  Parasitized"
            ]
          },
          "execution_count": 16,
          "metadata": {},
          "output_type": "execute_result"
        }
      ],
      "source": [
        "# Standardize the features\n",
        "x_new = hasilEkstrak.drop(columns=['Label', 'Filename'])\n",
        "y = hasilEkstrak['Label']\n",
        "scaler = StandardScaler()\n",
        "x_scaled = scaler.fit_transform(x_new)\n",
        "\n",
        "# Apply PCA\n",
        "pca = PCA(n_components=0.95)  # Retain 95% of the variance\n",
        "x_pca = pca.fit_transform(x_scaled)\n",
        "\n",
        "# Display the explained variance ratio\n",
        "print(\"Explained Variance Ratio:\", pca.explained_variance_ratio_)\n",
        "print(\"Number of Components:\", pca.n_components_)\n",
        "\n",
        "# Create a DataFrame for the PCA-transformed features\n",
        "pca_features = pd.DataFrame(x_pca, columns=[f'PC{i+1}' for i in range(pca.n_components_)])\n",
        "pca_features['Label'] = y\n",
        "pca_features.head()"
      ]
    },
    {
      "cell_type": "markdown",
      "id": "VInuOPJHo-bH",
      "metadata": {
        "id": "VInuOPJHo-bH"
      },
      "source": [
        "Kode ini melakukan proses standarisasi dan reduksi dimensi pada fitur-fitur yang sudah diekstrak dari citra menggunakan teknik PCA (Principal Component Analysis). Pertama, semua kolom fitur kecuali kolom 'Label' dan 'Filename' dipisahkan ke variabel `x_new` sebagai fitur input, sedangkan kolom 'Label' disimpan di variabel `y` sebagai target klasifikasi. Selanjutnya, fitur-fitur tersebut distandarisasi menggunakan `StandardScaler`, yang berfungsi mengubah data sehingga memiliki mean 0 dan standar deviasi 1 agar fitur-fitur tersebut berada pada skala yang sama dan mencegah fitur dengan rentang besar mendominasi.\n",
        "\n",
        "Setelah itu, diterapkan PCA dengan tujuan mereduksi jumlah fitur dengan mempertahankan 95% varians dari data asli. PCA mencari kombinasi linier baru dari fitur asli yang disebut komponen utama, yang dapat menjelaskan sebagian besar variasi data. Output dari PCA adalah fitur baru yang disebut `x_pca`. Program menampilkan proporsi varians yang dijelaskan oleh masing-masing komponen utama (`explained_variance_ratio_`) dan jumlah komponen utama yang dipilih (`n_components_`).\n",
        "\n",
        "Terakhir, hasil fitur yang sudah direduksi dimensinya dikemas ke dalam sebuah dataframe baru bernama `pca_features`, di mana setiap kolomnya adalah sebuah komponen utama dan ditambahkan kolom 'Label' sebagai kelas target. Fungsi `head()` digunakan untuk menampilkan beberapa baris pertama dari dataframe ini, yang memudahkan pengecekan hasil transformasi sebelum dipakai untuk tahap analisis atau pelatihan model lebih lanjut."
      ]
    },
    {
      "cell_type": "code",
      "execution_count": 17,
      "id": "384004c3",
      "metadata": {
        "id": "384004c3",
        "outputId": "67e64774-4e20-46e8-d93c-0c236a772f36"
      },
      "outputs": [
        {
          "name": "stdout",
          "output_type": "stream",
          "text": [
            "(160, 28)\n",
            "(40, 28)\n"
          ]
        }
      ],
      "source": [
        "# 0.3 = 30% data untuk testing (train/test 70/30)\n",
        "# 0.2 = 20% data untuk testing (train/test 80/20)\n",
        "X_train, X_test, y_train, y_test = train_test_split(x_new, y, test_size=0.2, random_state=42)\n",
        "print(X_train.shape)\n",
        "print(X_test.shape)"
      ]
    },
    {
      "cell_type": "markdown",
      "id": "98909qTIpI9l",
      "metadata": {
        "id": "98909qTIpI9l"
      },
      "source": [
        "Kode ini bertujuan membagi dataset menjadi dua bagian utama, yaitu data latih (training) dan data uji (testing). Fungsi `train_test_split` dari scikit-learn digunakan untuk memisahkan data fitur (`x_new`) dan label (`y`) ke dalam set pelatihan dan pengujian. Parameter `test_size=0.2` berarti 20% dari keseluruhan data akan dialokasikan sebagai data testing, sedangkan sisanya 80% akan menjadi data training. Parameter `random_state=42` digunakan agar pembagian data ini konsisten atau reproducible setiap kali kode dijalankan.\n",
        "\n",
        "Setelah pembagian, ukuran (shape) dari data training (`X_train`) dan testing (`X_test`) dicetak. Ini membantu memastikan bahwa pembagian data berjalan sesuai rencana dan proporsi data yang digunakan untuk pelatihan dan pengujian sudah tepat. Misalnya, jika dataset awal ada 100 data, maka data training berjumlah sekitar 80 baris dan data testing 20 baris. Pembagian ini penting untuk melatih model dengan data training dan menguji performanya secara objektif pada data testing yang belum pernah dilihat model sebelumnya."
      ]
    },
    {
      "cell_type": "code",
      "execution_count": 18,
      "id": "57802c82",
      "metadata": {
        "id": "57802c82"
      },
      "outputs": [],
      "source": [
        "mean_train = X_train.mean(axis=0)\n",
        "std_train = X_train.std(axis=0)\n",
        "\n",
        "# Normalisasi data train dan test dengan Z-score\n",
        "X_train = (X_train - mean_train) / std_train\n",
        "X_test = (X_test - mean_train) / std_train"
      ]
    },
    {
      "cell_type": "markdown",
      "id": "1U8avOs6pSdk",
      "metadata": {
        "id": "1U8avOs6pSdk"
      },
      "source": [
        "Kode ini melakukan normalisasi fitur pada data training dan data testing menggunakan metode Z-score, yang bertujuan agar setiap fitur memiliki skala yang seragam dengan rata-rata nol dan standar deviasi satu.\n",
        "\n",
        "Pertama, kode menghitung nilai rata-rata (`mean_train`) dan standar deviasi (`std_train`) dari setiap kolom fitur pada data training (`X_train`). Penghitungan ini dilakukan berdasarkan data training saja, karena model harus hanya \"belajar\" dari data training agar tidak terjadi kebocoran data (data leakage).\n",
        "\n",
        "Kemudian, normalisasi dilakukan dengan cara mengurangi setiap nilai fitur dengan rata-rata kolom tersebut, lalu membaginya dengan standar deviasi kolom yang sama. Proses ini diterapkan pada data training dan juga data testing (`X_test`). Penting bahwa normalisasi data testing menggunakan rata-rata dan standar deviasi yang sama dengan data training agar konsistensi skala tetap terjaga. Fitur-fitur di kedua set data berada dalam skala yang sama, sehingga model machine learning dapat berfungsi lebih optimal dan hasil pelatihan serta pengujian dapat dibandingkan."
      ]
    },
    {
      "cell_type": "code",
      "execution_count": 19,
      "id": "6244f0bf",
      "metadata": {
        "id": "6244f0bf"
      },
      "outputs": [],
      "source": [
        "def generateClassificationReport(y_true, y_pred):\n",
        "\tprint(classification_report(y_true, y_pred))\n",
        "\tprint(confusion_matrix(y_true, y_pred))\n",
        "\tprint('Accuracy:', accuracy_score(y_true, y_pred))\n",
        "\n",
        "# Define classifiers\n",
        "rf = RandomForestClassifier(n_estimators=5, random_state=42)\n",
        "svm = SVC(kernel='rbf', random_state=42)\n",
        "knn = KNeighborsClassifier(n_neighbors=5)"
      ]
    },
    {
      "cell_type": "markdown",
      "id": "B_6BTqD9pkHO",
      "metadata": {
        "id": "B_6BTqD9pkHO"
      },
      "source": [
        "Fungsi `generateClassificationReport` digunakan untuk mengevaluasi performa model klasifikasi dengan menerima dua input, yaitu label sebenarnya (`y_true`) dan prediksi hasil model (`y_pred`). Fungsi ini menampilkan tiga hal utama. Pertama, `classification_report` yang memberikan ringkasan metrik evaluasi seperti precision, recall, dan f1-score untuk setiap kelas. Kedua, `confusion_matrix` yang menunjukkan matriks kesalahan prediksi, memperlihatkan jumlah prediksi yang benar dan salah per kelas. Ketiga, fungsi ini mencetak akurasi keseluruhan, yaitu persentase prediksi yang tepat dari total data.\n",
        "\n",
        "Selanjutnya, kode mendefinisikan tiga model klasifikasi yang akan digunakan. Model pertama adalah `RandomForestClassifier` dengan 5 pohon keputusan (estimators) dan parameter `random_state` yang ditetapkan untuk hasil yang konsisten. Model kedua adalah `SVC` (Support Vector Classifier) dengan kernel radial basis function (RBF), yang umum dipakai untuk klasifikasi non-linear, juga dengan `random_state` yang sama. Terakhir, ada model `KNeighborsClassifier` dengan jumlah tetangga terdekat yang diperhitungkan sebanyak 5."
      ]
    },
    {
      "cell_type": "code",
      "execution_count": 20,
      "id": "394f658c",
      "metadata": {
        "id": "394f658c",
        "outputId": "55926a14-341b-4854-a13a-6cba1933eba2"
      },
      "outputs": [
        {
          "name": "stdout",
          "output_type": "stream",
          "text": [
            "------Training Set------\n",
            "              precision    recall  f1-score   support\n",
            "\n",
            " Parasitized       1.00      0.97      0.99        79\n",
            "  Uninfected       0.98      1.00      0.99        81\n",
            "\n",
            "    accuracy                           0.99       160\n",
            "   macro avg       0.99      0.99      0.99       160\n",
            "weighted avg       0.99      0.99      0.99       160\n",
            "\n",
            "[[77  2]\n",
            " [ 0 81]]\n",
            "Accuracy: 0.9875\n",
            "\n",
            "------Testing Set------\n",
            "              precision    recall  f1-score   support\n",
            "\n",
            " Parasitized       0.94      0.76      0.84        21\n",
            "  Uninfected       0.78      0.95      0.86        19\n",
            "\n",
            "    accuracy                           0.85        40\n",
            "   macro avg       0.86      0.85      0.85        40\n",
            "weighted avg       0.87      0.85      0.85        40\n",
            "\n",
            "[[16  5]\n",
            " [ 1 18]]\n",
            "Accuracy: 0.85\n"
          ]
        }
      ],
      "source": [
        "# Train Random Forest Classifier\n",
        "rf.fit(X_train, y_train)\n",
        "\n",
        "# Make predictions and evaluate the model with the training set\n",
        "print(\"------Training Set------\")\n",
        "y_pred = rf.predict(X_train)\n",
        "generateClassificationReport( y_train, y_pred)\n",
        "\n",
        "# Make predictions and evaluate the model with the testing set\n",
        "print(\"\\n------Testing Set------\")\n",
        "y_pred = rf.predict(X_test)\n",
        "generateClassificationReport( y_test, y_pred)"
      ]
    },
    {
      "cell_type": "markdown",
      "id": "LmLvb-iop08d",
      "metadata": {
        "id": "LmLvb-iop08d"
      },
      "source": [
        "Kode ini menjalankan proses pelatihan dan evaluasi model Random Forest Classifier. Pertama, model `rf` dilatih menggunakan data training (`X_train` dan `y_train`) dengan memanggil metode `.fit()`. Setelah model terlatih, dilakukan prediksi pada data training itu sendiri untuk melihat bagaimana performa model pada data yang sudah dikenal. Hasil prediksi ini disimpan dalam `y_pred`, kemudian dievaluasi menggunakan fungsi `generateClassificationReport` yang mencetak metrik evaluasi seperti precision, recall, f1-score, confusion matrix, dan akurasi untuk data training.\n",
        "\n",
        "Setelah evaluasi pada data training selesai, model diuji pada data testing (`X_test`) yang sebelumnya tidak dilihat oleh model saat pelatihan. Prediksi hasil testing juga disimpan di `y_pred` dan dievaluasi dengan fungsi yang sama. Output yang ditampilkan membedakan hasil evaluasi pada data training dan testing, sehingga bisa diketahui apakah model memiliki performa yang baik dan apakah terjadi overfitting atau underfitting pada data testing.\n"
      ]
    },
    {
      "cell_type": "code",
      "execution_count": 21,
      "id": "a11f211b",
      "metadata": {
        "id": "a11f211b",
        "outputId": "a9dab0d7-4753-4ef4-e59f-93fb56bfa534"
      },
      "outputs": [
        {
          "name": "stdout",
          "output_type": "stream",
          "text": [
            "\n",
            "------Training Set------\n",
            "              precision    recall  f1-score   support\n",
            "\n",
            " Parasitized       0.97      0.94      0.95        79\n",
            "  Uninfected       0.94      0.98      0.96        81\n",
            "\n",
            "    accuracy                           0.96       160\n",
            "   macro avg       0.96      0.96      0.96       160\n",
            "weighted avg       0.96      0.96      0.96       160\n",
            "\n",
            "[[74  5]\n",
            " [ 2 79]]\n",
            "Accuracy: 0.95625\n",
            "\n",
            "------Testing Set------\n",
            "              precision    recall  f1-score   support\n",
            "\n",
            " Parasitized       0.95      0.90      0.93        21\n",
            "  Uninfected       0.90      0.95      0.92        19\n",
            "\n",
            "    accuracy                           0.93        40\n",
            "   macro avg       0.93      0.93      0.92        40\n",
            "weighted avg       0.93      0.93      0.93        40\n",
            "\n",
            "[[19  2]\n",
            " [ 1 18]]\n",
            "Accuracy: 0.925\n"
          ]
        }
      ],
      "source": [
        "# Train SVM Classifier\n",
        "svm.fit(X_train, y_train)\n",
        "\n",
        "# Make predictions and evaluate the model with the training set\n",
        "print(\"\\n------Training Set------\")\n",
        "y_pred = svm.predict(X_train)\n",
        "generateClassificationReport( y_train, y_pred)\n",
        "\n",
        "# Make predictions and evaluate the model with the testing set\n",
        "print(\"\\n------Testing Set------\")\n",
        "y_pred = svm.predict(X_test)\n",
        "generateClassificationReport( y_test, y_pred)"
      ]
    },
    {
      "cell_type": "markdown",
      "id": "o_4ZPKHaqHca",
      "metadata": {
        "id": "o_4ZPKHaqHca"
      },
      "source": [
        "Kode ini melakukan proses pelatihan dan evaluasi model Support Vector Machine (SVM) classifier. Pertama, model `svm` dilatih menggunakan data training (`X_train` dan `y_train`) dengan memanggil metode `.fit()`. Setelah model selesai dilatih, dilakukan prediksi pada data training yang sama untuk mengevaluasi bagaimana model mampu mengenali data yang sudah dipelajari. Prediksi hasil training disimpan di variabel `y_pred` dan dievaluasi menggunakan fungsi `generateClassificationReport`, yang menampilkan laporan metrik seperti precision, recall, f1-score, confusion matrix, dan akurasi.\n",
        "\n",
        "Selanjutnya, model diuji pada data testing (`X_test`), yaitu data yang belum pernah dilihat oleh model sebelumnya. Prediksi untuk data testing juga disimpan di `y_pred` dan dievaluasi dengan cara yang sama. Dengan membandingkan hasil evaluasi pada data training dan testing, kita dapat menilai performa model SVM, termasuk kemampuan generalisasi dan kemungkinan adanya masalah seperti overfitting atau underfitting."
      ]
    },
    {
      "cell_type": "code",
      "execution_count": 22,
      "id": "66e5342a",
      "metadata": {
        "id": "66e5342a",
        "outputId": "0f4304ab-84c7-41d2-939b-11c3c04700e2"
      },
      "outputs": [
        {
          "name": "stdout",
          "output_type": "stream",
          "text": [
            "\n",
            "------Training Set------\n",
            "              precision    recall  f1-score   support\n",
            "\n",
            " Parasitized       0.95      0.91      0.93        79\n",
            "  Uninfected       0.92      0.95      0.93        81\n",
            "\n",
            "    accuracy                           0.93       160\n",
            "   macro avg       0.93      0.93      0.93       160\n",
            "weighted avg       0.93      0.93      0.93       160\n",
            "\n",
            "[[72  7]\n",
            " [ 4 77]]\n",
            "Accuracy: 0.93125\n",
            "\n",
            "------Testing Set------\n",
            "              precision    recall  f1-score   support\n",
            "\n",
            " Parasitized       0.94      0.76      0.84        21\n",
            "  Uninfected       0.78      0.95      0.86        19\n",
            "\n",
            "    accuracy                           0.85        40\n",
            "   macro avg       0.86      0.85      0.85        40\n",
            "weighted avg       0.87      0.85      0.85        40\n",
            "\n",
            "[[16  5]\n",
            " [ 1 18]]\n",
            "Accuracy: 0.85\n"
          ]
        }
      ],
      "source": [
        "# Train KNN Classifier\n",
        "knn.fit(X_train, y_train)\n",
        "\n",
        "# Make predictions and evaluate the model with the training set\n",
        "print(\"\\n------Training Set------\")\n",
        "y_pred = knn.predict(X_train)\n",
        "generateClassificationReport( y_train, y_pred)\n",
        "\n",
        "# Make predictions and evaluate the model with the testing set\n",
        "print(\"\\n------Testing Set------\")\n",
        "y_pred = knn.predict(X_test)\n",
        "generateClassificationReport( y_test, y_pred)"
      ]
    },
    {
      "cell_type": "markdown",
      "id": "c0b18bfc",
      "metadata": {},
      "source": [
        "Kode di atas melakukan pelatihan dan evaluasi model K-Nearest Neighbors (KNN) classifier. Pertama, model `knn` dilatih menggunakan data training (`X_train` dan `y_train`) dengan memanggil metode `.fit()`. Setelah model selesai dilatih, dilakukan prediksi pada data training yang sama untuk melihat seberapa baik model mengklasifikasikan data yang sudah dipelajari. Prediksi hasil training disimpan di variabel `y_pred` dan dievaluasi menggunakan fungsi `generateClassificationReport`, yang menampilkan metrik seperti precision, recall, f1-score, confusion matrix, dan akurasi.\n",
        "\n",
        "Kemudian, model diuji pada data testing (`X_test`), yaitu data yang tidak pernah dilihat oleh model selama pelatihan. Prediksi pada data testing juga disimpan di `y_pred` dan dievaluasi dengan cara yang sama. Proses ini membantu menilai performa model KNN dalam mengenali pola pada data baru dan mengukur kemampuannya dalam mengklasifikasikan data secara umum."
      ]
    },
    {
      "cell_type": "code",
      "execution_count": 23,
      "id": "26113a76",
      "metadata": {},
      "outputs": [
        {
          "name": "stdout",
          "output_type": "stream",
          "text": [
            "Akurasi Percobaan 3:\n",
            "Akurasi Random Forest: 0.85\n",
            "Akurasi SVM: 0.925\n",
            "Akurasi KNN: 0.85\n"
          ]
        }
      ],
      "source": [
        "y_pred_rf = rf.predict(X_test)\n",
        "y_pred_svm = svm.predict(X_test)\n",
        "y_pred_knn = knn.predict(X_test)\n",
        "\n",
        "# Hitung dan tampilkan akurasi\n",
        "print(f\"Akurasi Percobaan 3:\")\n",
        "print(\"Akurasi Random Forest:\", accuracy_score(y_test, y_pred_rf))\n",
        "print(\"Akurasi SVM:\", accuracy_score(y_test, y_pred_svm))\n",
        "print(\"Akurasi KNN:\", accuracy_score(y_test, y_pred_knn))\n"
      ]
    },
    {
      "cell_type": "markdown",
      "id": "ad94cecc",
      "metadata": {},
      "source": [
        "Kode tersebut digunakan untuk menghitung dan menampilkan akurasi dari tiga model klasifikasi Random Forest, SVM, dan KNN pada Percobaan 3. Setelah model dilatih sebelumnya, setiap model digunakan untuk memprediksi data uji (`X_test`) dan hasil prediksi dibandingkan dengan label sebenarnya (`y_test`) menggunakan fungsi `accuracy_score()` dari scikit-learn. Nilai akurasi yang dihasilkan menunjukkan seberapa baik masing-masing model dalam mengklasifikasikan data yang belum pernah dilihat sebelumnya, dan hasilnya ditampilkan secara terpisah untuk setiap model, memberikan gambaran performa model pada tahap evaluasi."
      ]
    },
    {
      "cell_type": "markdown",
      "id": "YEmmIE4vqawj",
      "metadata": {
        "id": "YEmmIE4vqawj"
      },
      "source": [
        "Kode ini berfungsi untuk menampilkan visualisasi matriks kebingungan (confusion matrix) dari hasil prediksi ketiga model klasifikasi, yaitu Random Forest, SVM, dan KNN, pada data testing. Fungsi `plot_confusion_matrix` menerima data asli (`y_true`), hasil prediksi (`y_pred`), dan judul grafik (`title`) sebagai input. Di dalam fungsi, matriks kebingungan dihitung dengan `confusion_matrix`, kemudian divisualisasikan menggunakan `ConfusionMatrixDisplay` dengan skema warna biru (cmap=plt.cm.Blues). Grafik matriks kebingungan ini akan muncul sebagai plot yang memperlihatkan jumlah prediksi benar dan salah untuk tiap kelas secara detail.\n",
        "\n",
        "Setelah fungsi didefinisikan, fungsi ini dipanggil tiga kali untuk masing-masing model, yaitu Random Forest, SVM, dan KNN, menggunakan data testing (`y_test`) dan prediksi dari masing-masing model (`rf.predict(X_test)`, `svm.predict(X_test)`, dan `knn.predict(X_test)`). Visualisasi ini membantu dalam memahami performa model secara intuitif dengan melihat seberapa baik model dapat mengklasifikasikan tiap kelas dan bagian mana yang sering salah prediksi.\n"
      ]
    },
    {
      "cell_type": "code",
      "execution_count": 24,
      "id": "c91e13eb",
      "metadata": {
        "id": "c91e13eb",
        "outputId": "64520e1a-da94-4b92-b130-c16a386483a0"
      },
      "outputs": [
        {
          "data": {
            "image/png": "[encoded data removed]",
            "text/plain": [
              "<Figure size 640x480 with 2 Axes>"
            ]
          },
          "metadata": {},
          "output_type": "display_data"
        },
        {
          "data": {
            "image/png": "[encoded data removed]",
            "text/plain": [
              "<Figure size 640x480 with 2 Axes>"
            ]
          },
          "metadata": {},
          "output_type": "display_data"
        },
        {
          "data": {
            "image/png": "[encoded data removed]",
            "text/plain": [
              "<Figure size 640x480 with 2 Axes>"
            ]
          },
          "metadata": {},
          "output_type": "display_data"
        }
      ],
      "source": [
        "def plot_confusion_matrix(y_true, y_pred, title):\n",
        "    cm = confusion_matrix(y_true, y_pred)\n",
        "    disp = ConfusionMatrixDisplay(confusion_matrix=cm)\n",
        "    disp.plot(cmap=plt.cm.Blues)\n",
        "    plt.title(title)\n",
        "    plt.show()\n",
        "\n",
        "# Plot confusion matrix for Random Forest\n",
        "plot_confusion_matrix(y_test, rf.predict(X_test), \"Random Forest Confusion Matrix\")\n",
        "# Plot confusion matrix for SVM\n",
        "plot_confusion_matrix(y_test, svm.predict(X_test), \"SVM Confusion Matrix\")\n",
        "# Plot confusion matrix for KNN\n",
        "plot_confusion_matrix(y_test, knn.predict(X_test), \"KNN Confusion Matrix\")"
      ]
    }
  ],
  "metadata": {
    "colab": {
      "provenance": []
    },
    "kernelspec": {
      "display_name": "Python 3",
      "language": "python",
      "name": "python3"
    },
    "language_info": {
      "codemirror_mode": {
        "name": "ipython",
        "version": 3
      },
      "file_extension": ".py",
      "mimetype": "text/x-python",
      "name": "python",
      "nbconvert_exporter": "python",
      "pygments_lexer": "ipython3",
      "version": "3.13.3"
    }
  },
  "nbformat": 4,
  "nbformat_minor": 5
}
