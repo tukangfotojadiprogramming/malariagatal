{
  "cells": [
    {
      "cell_type": "markdown",
      "id": "ce169b68",
      "metadata": {
        "id": "ce169b68"
      },
      "source": [
        "<div style=\"font-family: 'Times New Roman', Times, serif; font-size: 30px; font-weight: bold;\">\n",
        "  PROJECT PENGOLAHAN CITRA DIGITAL\n",
        "</div>\n",
        "Analisis Infeksi Malaria Berdasarkan Perbedaan Tekstur Citra Sek Darah Menggunakan Segmentasi Thresholding\n",
        "\n",
        "================================= PERCOBAAN BEFORE ==================================="
      ]
    },
    {
      "cell_type": "code",
      "execution_count": 1,
      "id": "b842d573",
      "metadata": {
        "id": "b842d573"
      },
      "outputs": [],
      "source": [
        "import os\n",
        "import cv2 as cv\n",
        "import matplotlib.pyplot as plt\n",
        "import numpy as np\n",
        "import pandas as pd\n",
        "from math import ceil\n",
        "from collections import Counter\n",
        "from sklearn.preprocessing import StandardScaler\n",
        "from sklearn.decomposition import PCA\n",
        "from sklearn.model_selection import train_test_split\n",
        "from sklearn.metrics import accuracy_score, classification_report\n",
        "from skimage.feature import graycomatrix, graycoprops\n",
        "from scipy.stats import entropy\n",
        "from sklearn.ensemble import RandomForestClassifier\n",
        "from sklearn.svm import SVC\n",
        "from sklearn.neighbors import KNeighborsClassifier\n",
        "from sklearn.metrics import accuracy_score, confusion_matrix, classification_report\n",
        "from sklearn.metrics import ConfusionMatrixDisplay"
      ]
    },
    {
      "cell_type": "markdown",
      "id": "1c321562",
      "metadata": {
        "id": "1c321562"
      },
      "source": [
        "Dalam proyek ini, kode di atas merupakan berbagai library yang diimpor untuk menunjang proses pengolahan citra, ekstraksi fitur, dan klasifikasi menggunakan machine learning. Library os digunakan untuk mengelola file dan folder, seperti membaca nama-nama file gambar yang akan diproses menggunakan fungsi seperti `os.listdir()` dan `os.path.join()`. Untuk pengolahan citra digital, digunakan `cv2` (diimpor sebagai `cv`) yang menyediakan fungsi-fungsi seperti `cv.imread()`, `cv.cvtColor()`, dan `cv.resize()` untuk membaca, mengubah warna, dan mengubah ukuran gambar. Visualisasi hasil seperti tampilan gambar atau grafik dilakukan menggunakan `matplotlib.pyplot` melalui fungsi `plt.imshow()`, `plt.title()`, dan `plt.show()`.\n",
        "\n",
        "Library numpy (`np`) digunakan untuk operasi numerik seperti membuat array (`np.array()`), menghitung rata-rata (`np.mean()`), atau matriks korelasi. Fungsi `ceil()` dari math digunakan untuk membulatkan angka ke atas, sedangkan Counter dari collections digunakan untuk menghitung frekuensi label menggunakan `Counter()`.\n",
        "\n",
        "Untuk pengelolaan data tabular, digunakan pandas (`pd`) yang memudahkan manipulasi data menggunakan struktur DataFrame, dengan fungsi seperti `pd.DataFrame()` dan `df.to_csv()`. Normalisasi fitur dilakukan dengan StandardScaler dari `sklearn`.preprocessing menggunakan fungsi `fit_transform()`, yang penting agar setiap fitur memiliki skala yang seragam. Untuk mengurangi dimensi data dan menghindari redundansi, digunakan PCA dari sklearn.decomposition dengan fungsi seperti `PCA()`.`fit_transform()`. Dataset kemudian dibagi menggunakan `train_test_split()` dari `sklearn.model_selection` menjadi data latih dan data uji.\n",
        "\n",
        "Evaluasi performa model dilakukan menggunakan beberapa metrik dari `sklearn.metrics`, seperti `accuracy_score()`, `classification_report()`, `confusion_matrix()`, dan visualisasi dengan `ConfusionMatrixDisplay`. `from_predictions()`. Untuk ekstraksi fitur tekstur, digunakan metode GLCM (Gray-Level Co-occurrence Matrix) dari skimage.feature melalui fungsi `graycomatrix()` untuk membuat matriks ko-occurrence dan `graycoprops()` untuk menghitung properti tekstur seperti contrast, homogeneity, dan ASM. Selain itu, nilai entropi dihitung dari histogram citra menggunakan fungsi `entropy()` dari scipy.stats.\n",
        "\n",
        "Terakhir, klasifikasi dilakukan menggunakan beberapa algoritma dari scikit-learn, yaitu RandomForestClassifier dari sklearn.ensemble dengan fungsi seperti `fit()` dan `predict()`, SVC (Support Vector Classifier) dari `sklearn.svm`, serta `KNeighborsClassifier` dari sklearn.neighbors. Ketiga model ini dilatih menggunakan data hasil ekstraksi fitur dan diuji untuk melihat akurasinya dalam membedakan kelas citra."
      ]
    },
    {
      "cell_type": "markdown",
      "id": "a2f90430",
      "metadata": {
        "id": "a2f90430"
      },
      "source": [
        "# DATA LOADING"
      ]
    },
    {
      "cell_type": "code",
      "execution_count": 2,
      "id": "8323df7f",
      "metadata": {
        "id": "8323df7f"
      },
      "outputs": [],
      "source": [
        "data = []\n",
        "labels = []\n",
        "file_name = []\n",
        "for label_folder in ['Parasitized', 'Uninfected']:\n",
        "    folder_path = os.path.join('dataset\\\\', label_folder)\n",
        "    for filename in os.listdir(folder_path):\n",
        "        img_path = os.path.join(folder_path, filename)\n",
        "        img = cv.imread(img_path)\n",
        "        img = cv.resize(img, (100, 100))  # Resize ke ukuran tetap\n",
        "        data.append(img)\n",
        "        labels.append(label_folder)\n",
        "        file_name.append(filename)"
      ]
    },
    {
      "cell_type": "markdown",
      "id": "37461651",
      "metadata": {
        "id": "37461651"
      },
      "source": [
        "Kode di atas digunakan untuk membaca dan memproses gambar dari dua folder berbeda, yaitu `'Parasitized'` dan `'Uninfected'`, yang masing-masing merepresentasikan label dalam klasifikasi citra (misalnya gambar sel darah yang terinfeksi malaria dan yang sehat). Pertama, dua list yaitu `data` dan `labels` disiapkan untuk menyimpan citra dan labelnya, serta `file_name` untuk menyimpan nama file gambar. Dengan menggunakan perulangan `for`, kode menelusuri setiap folder label menggunakan `os.path.join()` untuk membentuk path lengkap ke folder, lalu mengambil semua nama file gambar dalam folder tersebut menggunakan `os.listdir()`. Setiap gambar kemudian dibaca menggunakan `cv.imread()` dan diubah ukurannya menjadi `100x100` piksel menggunakan `cv.resize()` agar memiliki ukuran seragam. Gambar hasil resize disimpan dalam list `data`, label (berdasarkan nama folder) disimpan dalam `labels`, dan nama file disimpan dalam `file_name`. Proses ini membentuk dataset yang siap digunakan.\n"
      ]
    },
    {
      "cell_type": "markdown",
      "id": "37605aaa",
      "metadata": {
        "id": "37605aaa"
      },
      "source": [
        "Kode ini digunakan untuk menampilkan distribusi jumlah gambar berdasarkan kelas serta menampilkan contoh gambar dari masing-masing kelas dalam dataset. Pertama, `Counter(labels)` digunakan untuk menghitung jumlah gambar untuk setiap label (kelas), kemudian nama kelas `(classes)` dan jumlahnya `(counts)` diekstrak. Data ini divisualisasikan menggunakan `plt.bar()` dalam bentuk diagram batang, dengan judul, label sumbu, dan garis bantu (grid) pada sumbu-y untuk memperjelas tampilan. Setelah itu, program mencetak label \"Output: Contoh Sample Data:\" dan menampilkan satu contoh gambar dari setiap kelas. Ini dilakukan dengan menelusuri seluruh data, mengecek label, dan hanya menampilkan satu gambar per kelas menggunakan `plt.subplot()` dan `plt.imshow()` untuk menampilkan gambar. Gambar ditampilkan dalam satu baris menggunakan `plt.figure(figsize=(15, 3))`, dan loop dihentikan setelah semua kelas ditampilkan. Fungsi `plt.tight_layout()` digunakan untuk merapikan tata letak agar subplot tidak saling tumpang tindih."
      ]
    },
    {
      "cell_type": "code",
      "execution_count": 3,
      "id": "a1b7ab93",
      "metadata": {
        "id": "a1b7ab93",
        "outputId": "665ce03a-158b-460a-b9b6-0280d9443daa"
      },
      "outputs": [
        {
          "data": {
            "image/png": "[encoded data removed]",
            "text/plain": [
              "<Figure size 800x600 with 1 Axes>"
            ]
          },
          "metadata": {},
          "output_type": "display_data"
        },
        {
          "name": "stdout",
          "output_type": "stream",
          "text": [
            "Output: Contoh Sample Data:\n"
          ]
        },
        {
          "data": {
            "image/png": "[encoded data removed]",
            "text/plain": [
              "<Figure size 1500x300 with 2 Axes>"
            ]
          },
          "metadata": {},
          "output_type": "display_data"
        }
      ],
      "source": [
        "label_counts = Counter(labels)\n",
        "classes = list(label_counts.keys())\n",
        "counts = list(label_counts.values())\n",
        "\n",
        "plt.figure(figsize=(8, 6))\n",
        "plt.bar(classes, counts, color='dodgerblue')\n",
        "plt.title(\"Distribusi Jumlah Gambar per Kelas\")\n",
        "plt.xlabel(\"Kelas\")\n",
        "plt.ylabel(\"Jumlah Gambar\")\n",
        "plt.grid(axis='y', linestyle='--', alpha=0.7)\n",
        "plt.show()\n",
        "\n",
        "print(\"Output: Contoh Sample Data:\")\n",
        "\n",
        "plt.figure(figsize=(15, 3))\n",
        "shown_labels = set()\n",
        "shown = 0\n",
        "\n",
        "for i in range(len(data)):\n",
        "    label = labels[i]\n",
        "    if label in shown_labels:\n",
        "        continue\n",
        "    plt.subplot(1, len(classes), shown + 1)\n",
        "    plt.imshow(data[i], cmap='gray')\n",
        "    plt.title(f\"{label}\")\n",
        "    plt.axis('off')\n",
        "    shown_labels.add(label)\n",
        "    shown += 1\n",
        "    if shown >= len(classes):\n",
        "        break\n",
        "\n",
        "plt.tight_layout()\n",
        "plt.show()"
      ]
    },
    {
      "cell_type": "code",
      "execution_count": 4,
      "id": "e49bbefb",
      "metadata": {
        "id": "e49bbefb"
      },
      "outputs": [],
      "source": [
        "def prepro1_resize(img, new_width=100, new_height=100):\n",
        "    old_height, old_width = img.shape[:2]\n",
        "    resized = np.zeros((new_height, new_width, 3), dtype=np.uint8)\n",
        "\n",
        "    for i in range(new_height):\n",
        "        for j in range(new_width):\n",
        "            x = int(i * old_height / new_height)\n",
        "            y = int(j * old_width / new_width)\n",
        "            resized[i, j] = img[x, y]\n",
        "    return resized\n",
        "def prepro2_grayscale(img):\n",
        "    height, width = img.shape[:2]\n",
        "    gray = np.zeros((height, width), dtype=np.uint8)\n",
        "\n",
        "    for i in range(height):\n",
        "        for j in range(width):\n",
        "            r, g, b = img[i, j]\n",
        "            gray[i, j] = int(0.2989 * r + 0.5870 * g + 0.1140 * b)  # Luminosity formula\n",
        "    return gray"
      ]
    },
    {
      "cell_type": "markdown",
      "id": "9945271b",
      "metadata": {
        "id": "9945271b"
      },
      "source": [
        "Kode di atas memiliki tiga fungsi yang merupakan tahapan *preprocessing* (pra-pemrosesan) citra yang dilakukan secara manual tanpa menggunakan fungsi bawaan dari library seperti OpenCV. Fungsi `prepro1_resize()` berfungsi untuk mengubah ukuran gambar ke dimensi baru (default: 100×100 piksel) dengan cara menghitung posisi piksel asal dari dimensi lama dan menyalin warnanya ke posisi baru, sehingga menghasilkan citra yang telah di-*resize*. Selanjutnya, fungsi `prepro2_grayscale()` mengubah gambar berwarna (RGB) menjadi gambar keabuan (grayscale) menggunakan rumus luminositas (`0.2989 * R + 0.5870 * G + 0.1140 * B`) yang mempertimbangkan sensitivitas mata manusia terhadap warna, dan hasilnya disimpan sebagai citra satu kanal (1-channel)."
      ]
    },
    {
      "cell_type": "code",
      "execution_count": 5,
      "id": "fe870595",
      "metadata": {},
      "outputs": [],
      "source": [
        "output_folder = 'preprocessed_output_before'\n",
        "os.makedirs(output_folder, exist_ok=True)\n",
        "dataPreprocessed = []\n",
        "\n",
        "for i in range(len(data)):\n",
        "    img = data[i]\n",
        "\n",
        "    # === Tahapan Preprocessing Manual ===\n",
        "    img_resized = prepro1_resize(img)            # Resize manual ke 100x100\n",
        "    img_grayscale = prepro2_grayscale(img_resized)  # Konversi manual ke grayscale\n",
        "    img_uint8 = (img_grayscale * 255).astype(np.uint8) # ubah tipe data ke int untuk ekstraksi fitur\n",
        "    dataPreprocessed.append(img_uint8)\n",
        "    filename = file_name[i]\n",
        "    save_path = os.path.join(output_folder, filename)\n",
        "    cv.imwrite(save_path, img_uint8)"
      ]
    },
    {
      "cell_type": "markdown",
      "id": "987287aa",
      "metadata": {
        "id": "987287aa"
      },
      "source": [
        "# Feature Extraction"
      ]
    },
    {
      "cell_type": "code",
      "execution_count": 6,
      "id": "dd4b1e90",
      "metadata": {
        "id": "dd4b1e90"
      },
      "outputs": [],
      "source": [
        "def glcm(image, derajat):\n",
        "    if derajat == 0:\n",
        "        angles = [0]\n",
        "    elif derajat == 45:\n",
        "        angles = [np.pi / 4]\n",
        "    elif derajat == 90:\n",
        "        angles = [np.pi / 2]\n",
        "    elif derajat == 135:\n",
        "        angles = [3 * np.pi / 4]\n",
        "    else:\n",
        "        raise ValueError(\"Invalid angle. It should be one of the following: 0, 45, 90, 135.\")\n",
        "\n",
        "    # mengembalikan matrix glcm dari image\n",
        "    glcm = graycomatrix(image, [1], angles, 256, symmetric=True, normed=True)\n",
        "    return glcm"
      ]
    },
    {
      "cell_type": "markdown",
      "id": "b5428f42",
      "metadata": {
        "id": "b5428f42"
      },
      "source": [
        "Pada kode di atas terdapat fungsi `glcm()` digunakan untuk menghitung matriks *Gray-Level Co-Occurrence Matrix* (GLCM), yaitu representasi statistik tekstur dari citra berdasarkan frekuensi kemunculan pasangan nilai piksel dengan jarak dan arah tertentu. Fungsi menerima dua parameter: `image` (citra dalam bentuk grayscale) dan `derajat` (sudut arah tekstur yang ingin dianalisis: 0, 45, 90, atau 135 derajat). Berdasarkan nilai `derajat`, fungsi akan mengatur nilai sudut `angles` dalam satuan radian menggunakan nilai dari `numpy` (`np.pi`). Jika sudut tidak valid, maka akan menghasilkan error melalui `raise ValueError`. Setelah sudut ditentukan, fungsi memanggil `graycomatrix()` dari pustaka `skimage.feature` untuk menghitung matriks GLCM pada jarak 1 piksel dengan opsi simetris (`symmetric=True`) dan ternormalisasi (`normed=True`). Hasilnya adalah sebuah matriks 4 dimensi yang menggambarkan sebaran tekstur dalam citra dan dapat digunakan untuk mengekstraksi fitur seperti kontras, homogenitas, energi, dan korelasi.\n"
      ]
    },
    {
      "cell_type": "code",
      "execution_count": 7,
      "id": "c9450fbf",
      "metadata": {
        "id": "c9450fbf"
      },
      "outputs": [],
      "source": [
        "def correlation(matriks):\n",
        "\treturn graycoprops(matriks, 'correlation')[0, 0]\n",
        "def dissimilarity(matriks):\n",
        "    return graycoprops(matriks, 'dissimilarity')[0, 0]\n",
        "def homogenity(matriks):\n",
        "    return graycoprops(matriks, 'homogeneity')[0, 0]\n",
        "def contrast(matriks):\n",
        "    return graycoprops(matriks, 'contrast')[0, 0]\n",
        "def ASM(matriks):\n",
        "    return graycoprops(matriks, 'ASM')[0, 0]\n",
        "def energy(matriks):\n",
        "    return graycoprops(matriks, 'energy')[0, 0]\n",
        "def entropyGlcm(matriks):\n",
        "    return entropy(matriks.ravel())"
      ]
    },
    {
      "cell_type": "markdown",
      "id": "8422334f",
      "metadata": {
        "id": "8422334f"
      },
      "source": [
        "Pada kode di atas terdapat kumpulan fungsi ini digunakan untuk mengekstraksi berbagai fitur tekstur dari matriks GLCM (Gray-Level Co-Occurrence Matrix) yang dihasilkan sebelumnya. Fungsi-fungsi seperti `correlation()`, `dissimilarity()`, `homogenity()`, `contrast()`, `ASM()` (Angular Second Moment), dan `energy()` memanfaatkan fungsi `graycoprops()` dari pustaka `skimage.feature` untuk menghitung masing-masing properti tekstur tersebut dari matriks GLCM, kemudian mengembalikan nilai skalar yang merepresentasikan karakteristik tekstur citra. Nilai-nilai ini membantu dalam mendeskripsikan pola tekstur seperti keteraturan, variasi, dan kontras antar piksel. Sedangkan fungsi `entropyGlcm()` menggunakan fungsi `entropy()` dari pustaka `scipy.stats` untuk menghitung entropi dari matriks GLCM yang sudah diratakan (`ravel()`), yang mengukur tingkat ketidakteraturan atau kompleksitas tekstur citra."
      ]
    },
    {
      "cell_type": "code",
      "execution_count": 8,
      "id": "bf71abae",
      "metadata": {
        "id": "bf71abae"
      },
      "outputs": [],
      "source": [
        "Derajat0 = []\n",
        "Derajat45 = []\n",
        "Derajat90 = []\n",
        "Derajat135 = []\n",
        "for i in range(len(dataPreprocessed)):\n",
        "    D0 = glcm(dataPreprocessed[i], 0)\n",
        "    D45 = glcm(dataPreprocessed[i], 45)\n",
        "    D90 = glcm(dataPreprocessed[i], 90)\n",
        "    D135 = glcm(dataPreprocessed[i], 135)\n",
        "    Derajat0.append(D0)\n",
        "    Derajat45.append(D45)\n",
        "    Derajat90.append(D90)\n",
        "    Derajat135.append(D135)"
      ]
    },
    {
      "cell_type": "markdown",
      "id": "236201d6",
      "metadata": {
        "id": "236201d6"
      },
      "source": [
        "Kode di atas digunakan untuk menghitung dan menyimpan matriks GLCM (Gray-Level Co-Occurrence Matrix) dari setiap citra yang telah dipra-proses dalam list `dataPreprocessed` pada empat arah sudut berbeda: 0°, 45°, 90°, dan 135°. Dengan menggunakan loop `for` yang berjalan sepanjang jumlah citra, fungsi `glcm()` dipanggil untuk masing-masing sudut tersebut pada setiap citra. Hasil matriks GLCM dari setiap sudut disimpan secara terpisah dalam empat list berbeda, yaitu `Derajat0`, `Derajat45`, `Derajat90`, dan `Derajat135`. Pendekatan ini memungkinkan analisis tekstur citra dilakukan pada berbagai orientasi, sehingga fitur tekstur yang diperoleh lebih komprehensif dan dapat meningkatkan performa model klasifikasi.\n"
      ]
    },
    {
      "cell_type": "code",
      "execution_count": 9,
      "id": "d25ea795",
      "metadata": {
        "id": "d25ea795"
      },
      "outputs": [],
      "source": [
        "Kontras0, Kontras45, Kontras90, Kontras135 = [], [], [], []\n",
        "dissimilarity0, dissimilarity45, dissimilarity90, dissimilarity135 =  [], [], [], []\n",
        "homogenity0, homogenity45, homogenity90, homogenity135 = [], [], [], []\n",
        "entropy0, entropy45, entropy90, entropy135 =  [], [], [], []\n",
        "ASM0, ASM45, ASM90, ASM135 =  [], [], [], []\n",
        "energy0, energy45, energy90, energy135 =  [], [], [], []\n",
        "correlation0, correlation45, correlation90, correlation135 = [], [], [], []"
      ]
    },
    {
      "cell_type": "markdown",
      "id": "30b4b6a6",
      "metadata": {
        "id": "30b4b6a6"
      },
      "source": [
        "Kode di atas mendefinisikan beberapa list kosong yang akan digunakan untuk menyimpan nilai fitur tekstur yang diekstraksi dari matriks GLCM pada empat arah sudut berbeda: 0°, 45°, 90°, dan 135°. Setiap fitur tekstur, seperti kontras (`Kontras`), dissimilaritas (`dissimilarity`), homogenitas (`homogenity`), entropi (`entropy`), Angular Second Moment (`ASM`), energi (`energy`), dan korelasi (`correlation`), memiliki empat list yang terpisah, masing-masing untuk menyimpan hasil perhitungan pada setiap sudut tersebut. Dengan struktur ini, fitur tekstur dari seluruh citra dan setiap arah sudut akan diorganisir secara terpisah sehingga memudahkan analisis lebih lanjut dan penggabungan fitur dalam proses klasifikasi atau pengolahan citra berikutnya.\n"
      ]
    },
    {
      "cell_type": "code",
      "execution_count": 10,
      "id": "b42ff5dc",
      "metadata": {
        "id": "b42ff5dc"
      },
      "outputs": [],
      "source": [
        "for i in range(len(dataPreprocessed)):\n",
        "    C0 = correlation(Derajat0[i])\n",
        "    correlation0.append(C0)\n",
        "    C45 = correlation(Derajat45[i])\n",
        "    correlation45.append(C45)\n",
        "    C90 = correlation(Derajat90[i])\n",
        "    correlation90.append(C90)\n",
        "    C135 = correlation(Derajat135[i])\n",
        "    correlation135.append(C135)\n",
        "for i in range(len(dataPreprocessed)):\n",
        "    K0 = contrast(Derajat0[i])\n",
        "    K45 = contrast(Derajat45[i])\n",
        "    K90 = contrast(Derajat90[i])\n",
        "    K135 = contrast(Derajat135[i])\n",
        "    Kontras0.append(K0)\n",
        "    Kontras45.append(K45)\n",
        "    Kontras90.append(K90)\n",
        "    Kontras135.append(K135)\n",
        "for i in range(len(dataPreprocessed)):\n",
        "    Dis0 = dissimilarity(Derajat0[i])\n",
        "    Dis45 = dissimilarity(Derajat45[i])\n",
        "    Dis90 = dissimilarity(Derajat90[i])\n",
        "    Dis135 = dissimilarity(Derajat135[i])\n",
        "    dissimilarity0.append(Dis0)\n",
        "    dissimilarity45.append(Dis45)\n",
        "    dissimilarity90.append(Dis90)\n",
        "    dissimilarity135.append(Dis135)\n",
        "for i in range(len(dataPreprocessed)):\n",
        "    H0 = homogenity(Derajat0[i])\n",
        "    H45 = homogenity(Derajat45[i])\n",
        "    H90 = homogenity(Derajat90[i])\n",
        "    H135 = homogenity(Derajat135[i])\n",
        "    homogenity0.append(H0)\n",
        "    homogenity45.append(H45)\n",
        "    homogenity90.append(H90)\n",
        "    homogenity135.append(H135)\n",
        "for i in range(len(dataPreprocessed)):\n",
        "    E0 = entropyGlcm(Derajat0[i])\n",
        "    E45 = entropyGlcm(Derajat45[i])\n",
        "    E90 = entropyGlcm(Derajat90[i])\n",
        "    E135 = entropyGlcm(Derajat135[i])\n",
        "    entropy0.append(E0)\n",
        "    entropy45.append(E45)\n",
        "    entropy90.append(E90)\n",
        "    entropy135.append(E135)\n",
        "for i in range(len(dataPreprocessed)):\n",
        "    A0 = ASM(Derajat0[i])\n",
        "    A45 = ASM(Derajat45[i])\n",
        "    A90 = ASM(Derajat90[i])\n",
        "    A135 = ASM(Derajat135[i])\n",
        "    ASM0.append(A0)\n",
        "    ASM45.append(A45)\n",
        "    ASM90.append(A90)\n",
        "    ASM135.append(A135)\n",
        "for i in range(len(dataPreprocessed)):\n",
        "    ER0 = energy(Derajat0[i])\n",
        "    ER45 = energy(Derajat45[i])\n",
        "    ER90 = energy(Derajat90[i])\n",
        "    ER135 = energy(Derajat135[i])\n",
        "    energy0.append(ER0)\n",
        "    energy45.append(ER45)\n",
        "    energy90.append(ER90)\n",
        "    energy135.append(ER135)"
      ]
    },
    {
      "cell_type": "markdown",
      "id": "4456dfc1",
      "metadata": {
        "id": "4456dfc1"
      },
      "source": [
        "Kode di atas melakukan ekstraksi fitur tekstur dari setiap matriks GLCM yang telah dihitung pada empat sudut berbeda (0°, 45°, 90°, dan 135°) untuk seluruh citra yang telah dipra-proses. Dengan menggunakan fungsi-fungsi seperti `correlation()`, `contrast()`, `dissimilarity()`, `homogenity()`, `entropyGlcm()`, `ASM()`, dan `energy()`, kode ini menghitung nilai masing-masing fitur tekstur dari matriks GLCM pada setiap sudut. Hasil ekstraksi fitur kemudian disimpan secara terpisah dalam list yang sesuai berdasarkan sudutnya, seperti `correlation0`, `Kontras45`, `dissimilarity90`, dan seterusnya. Proses ini mengorganisasi fitur tekstur untuk setiap citra dan setiap arah, yang nantinya dapat digunakan sebagai input fitur pada tahap pelatihan model machine learning atau analisis citra lebih lanjut.\n"
      ]
    },
    {
      "cell_type": "code",
      "execution_count": 11,
      "id": "8d5dc56a",
      "metadata": {
        "id": "8d5dc56a",
        "outputId": "869104e1-86c4-427d-9705-d15730f041ea"
      },
      "outputs": [
        {
          "data": {
            "text/html": [
              "<div>\n",
              "<style scoped>\n",
              "    .dataframe tbody tr th:only-of-type {\n",
              "        vertical-align: middle;\n",
              "    }\n",
              "\n",
              "    .dataframe tbody tr th {\n",
              "        vertical-align: top;\n",
              "    }\n",
              "\n",
              "    .dataframe thead th {\n",
              "        text-align: right;\n",
              "    }\n",
              "</style>\n",
              "<table border=\"1\" class=\"dataframe\">\n",
              "  <thead>\n",
              "    <tr style=\"text-align: right;\">\n",
              "      <th></th>\n",
              "      <th>Filename</th>\n",
              "      <th>Label</th>\n",
              "      <th>Contrast0</th>\n",
              "      <th>Contrast45</th>\n",
              "      <th>Contrast90</th>\n",
              "      <th>Contrast135</th>\n",
              "      <th>Homogeneity0</th>\n",
              "      <th>Homogeneity45</th>\n",
              "      <th>Homogeneity90</th>\n",
              "      <th>Homogeneity135</th>\n",
              "      <th>...</th>\n",
              "      <th>ASM90</th>\n",
              "      <th>ASM135</th>\n",
              "      <th>Energy0</th>\n",
              "      <th>Energy45</th>\n",
              "      <th>Energy90</th>\n",
              "      <th>Energy135</th>\n",
              "      <th>Correlation0</th>\n",
              "      <th>Correlation45</th>\n",
              "      <th>Correlation90</th>\n",
              "      <th>Correlation135</th>\n",
              "    </tr>\n",
              "  </thead>\n",
              "  <tbody>\n",
              "    <tr>\n",
              "      <th>0</th>\n",
              "      <td>C33P1thinF_IMG_20150619_114756a_cell_179.png</td>\n",
              "      <td>Parasitized</td>\n",
              "      <td>507.846667</td>\n",
              "      <td>930.073360</td>\n",
              "      <td>686.926566</td>\n",
              "      <td>934.460667</td>\n",
              "      <td>0.533973</td>\n",
              "      <td>0.468060</td>\n",
              "      <td>0.528312</td>\n",
              "      <td>0.479382</td>\n",
              "      <td>...</td>\n",
              "      <td>0.070277</td>\n",
              "      <td>0.063047</td>\n",
              "      <td>0.264675</td>\n",
              "      <td>0.250963</td>\n",
              "      <td>0.265099</td>\n",
              "      <td>0.251091</td>\n",
              "      <td>0.873122</td>\n",
              "      <td>0.765016</td>\n",
              "      <td>0.828646</td>\n",
              "      <td>0.763907</td>\n",
              "    </tr>\n",
              "    <tr>\n",
              "      <th>1</th>\n",
              "      <td>C33P1thinF_IMG_20150619_114756a_cell_180.png</td>\n",
              "      <td>Parasitized</td>\n",
              "      <td>707.282020</td>\n",
              "      <td>1179.435568</td>\n",
              "      <td>761.691111</td>\n",
              "      <td>1154.522192</td>\n",
              "      <td>0.541962</td>\n",
              "      <td>0.479502</td>\n",
              "      <td>0.540938</td>\n",
              "      <td>0.482607</td>\n",
              "      <td>...</td>\n",
              "      <td>0.063445</td>\n",
              "      <td>0.057315</td>\n",
              "      <td>0.254326</td>\n",
              "      <td>0.238493</td>\n",
              "      <td>0.251884</td>\n",
              "      <td>0.239407</td>\n",
              "      <td>0.787871</td>\n",
              "      <td>0.641312</td>\n",
              "      <td>0.771079</td>\n",
              "      <td>0.648889</td>\n",
              "    </tr>\n",
              "    <tr>\n",
              "      <th>2</th>\n",
              "      <td>C33P1thinF_IMG_20150619_114756a_cell_181.png</td>\n",
              "      <td>Parasitized</td>\n",
              "      <td>505.013030</td>\n",
              "      <td>842.597184</td>\n",
              "      <td>550.700606</td>\n",
              "      <td>846.045608</td>\n",
              "      <td>0.488778</td>\n",
              "      <td>0.431642</td>\n",
              "      <td>0.494338</td>\n",
              "      <td>0.438670</td>\n",
              "      <td>...</td>\n",
              "      <td>0.046585</td>\n",
              "      <td>0.040369</td>\n",
              "      <td>0.215186</td>\n",
              "      <td>0.201094</td>\n",
              "      <td>0.215834</td>\n",
              "      <td>0.200919</td>\n",
              "      <td>0.873309</td>\n",
              "      <td>0.784697</td>\n",
              "      <td>0.861813</td>\n",
              "      <td>0.783816</td>\n",
              "    </tr>\n",
              "    <tr>\n",
              "      <th>3</th>\n",
              "      <td>C33P1thinF_IMG_20150619_114756a_cell_182.png</td>\n",
              "      <td>Parasitized</td>\n",
              "      <td>586.095960</td>\n",
              "      <td>1064.790021</td>\n",
              "      <td>841.522525</td>\n",
              "      <td>1093.855015</td>\n",
              "      <td>0.559275</td>\n",
              "      <td>0.513398</td>\n",
              "      <td>0.559527</td>\n",
              "      <td>0.504713</td>\n",
              "      <td>...</td>\n",
              "      <td>0.098408</td>\n",
              "      <td>0.090285</td>\n",
              "      <td>0.314350</td>\n",
              "      <td>0.302430</td>\n",
              "      <td>0.313700</td>\n",
              "      <td>0.300475</td>\n",
              "      <td>0.820145</td>\n",
              "      <td>0.670999</td>\n",
              "      <td>0.741523</td>\n",
              "      <td>0.662019</td>\n",
              "    </tr>\n",
              "    <tr>\n",
              "      <th>4</th>\n",
              "      <td>C33P1thinF_IMG_20150619_115740a_cell_161.png</td>\n",
              "      <td>Parasitized</td>\n",
              "      <td>768.433232</td>\n",
              "      <td>1148.042445</td>\n",
              "      <td>624.620101</td>\n",
              "      <td>1131.840016</td>\n",
              "      <td>0.535626</td>\n",
              "      <td>0.464278</td>\n",
              "      <td>0.544046</td>\n",
              "      <td>0.479666</td>\n",
              "      <td>...</td>\n",
              "      <td>0.067272</td>\n",
              "      <td>0.059704</td>\n",
              "      <td>0.256105</td>\n",
              "      <td>0.243283</td>\n",
              "      <td>0.259368</td>\n",
              "      <td>0.244345</td>\n",
              "      <td>0.825486</td>\n",
              "      <td>0.736611</td>\n",
              "      <td>0.858737</td>\n",
              "      <td>0.740328</td>\n",
              "    </tr>\n",
              "    <tr>\n",
              "      <th>...</th>\n",
              "      <td>...</td>\n",
              "      <td>...</td>\n",
              "      <td>...</td>\n",
              "      <td>...</td>\n",
              "      <td>...</td>\n",
              "      <td>...</td>\n",
              "      <td>...</td>\n",
              "      <td>...</td>\n",
              "      <td>...</td>\n",
              "      <td>...</td>\n",
              "      <td>...</td>\n",
              "      <td>...</td>\n",
              "      <td>...</td>\n",
              "      <td>...</td>\n",
              "      <td>...</td>\n",
              "      <td>...</td>\n",
              "      <td>...</td>\n",
              "      <td>...</td>\n",
              "      <td>...</td>\n",
              "      <td>...</td>\n",
              "      <td>...</td>\n",
              "    </tr>\n",
              "    <tr>\n",
              "      <th>195</th>\n",
              "      <td>C2NThinF_IMG_20150604_114730_cell_72.png</td>\n",
              "      <td>Uninfected</td>\n",
              "      <td>794.337374</td>\n",
              "      <td>1220.178961</td>\n",
              "      <td>681.687273</td>\n",
              "      <td>1131.259055</td>\n",
              "      <td>0.697577</td>\n",
              "      <td>0.621361</td>\n",
              "      <td>0.685049</td>\n",
              "      <td>0.630771</td>\n",
              "      <td>...</td>\n",
              "      <td>0.084731</td>\n",
              "      <td>0.076958</td>\n",
              "      <td>0.294141</td>\n",
              "      <td>0.276255</td>\n",
              "      <td>0.291086</td>\n",
              "      <td>0.277413</td>\n",
              "      <td>0.801388</td>\n",
              "      <td>0.691294</td>\n",
              "      <td>0.829235</td>\n",
              "      <td>0.713791</td>\n",
              "    </tr>\n",
              "    <tr>\n",
              "      <th>196</th>\n",
              "      <td>C2NThinF_IMG_20150604_114730_cell_98.png</td>\n",
              "      <td>Uninfected</td>\n",
              "      <td>442.265354</td>\n",
              "      <td>762.242526</td>\n",
              "      <td>603.346061</td>\n",
              "      <td>814.480665</td>\n",
              "      <td>0.678690</td>\n",
              "      <td>0.613007</td>\n",
              "      <td>0.657682</td>\n",
              "      <td>0.602173</td>\n",
              "      <td>...</td>\n",
              "      <td>0.102515</td>\n",
              "      <td>0.093720</td>\n",
              "      <td>0.319633</td>\n",
              "      <td>0.307146</td>\n",
              "      <td>0.320180</td>\n",
              "      <td>0.306136</td>\n",
              "      <td>0.898597</td>\n",
              "      <td>0.823539</td>\n",
              "      <td>0.861722</td>\n",
              "      <td>0.811446</td>\n",
              "    </tr>\n",
              "    <tr>\n",
              "      <th>197</th>\n",
              "      <td>C2NThinF_IMG_20150604_114751_cell_38.png</td>\n",
              "      <td>Uninfected</td>\n",
              "      <td>587.281111</td>\n",
              "      <td>1004.403326</td>\n",
              "      <td>661.255758</td>\n",
              "      <td>951.465463</td>\n",
              "      <td>0.658725</td>\n",
              "      <td>0.576665</td>\n",
              "      <td>0.645831</td>\n",
              "      <td>0.589133</td>\n",
              "      <td>...</td>\n",
              "      <td>0.062527</td>\n",
              "      <td>0.056047</td>\n",
              "      <td>0.251230</td>\n",
              "      <td>0.235841</td>\n",
              "      <td>0.250053</td>\n",
              "      <td>0.236742</td>\n",
              "      <td>0.838212</td>\n",
              "      <td>0.719020</td>\n",
              "      <td>0.817881</td>\n",
              "      <td>0.733829</td>\n",
              "    </tr>\n",
              "    <tr>\n",
              "      <th>198</th>\n",
              "      <td>C2NThinF_IMG_20150604_114751_cell_69.png</td>\n",
              "      <td>Uninfected</td>\n",
              "      <td>536.964949</td>\n",
              "      <td>947.237833</td>\n",
              "      <td>701.044747</td>\n",
              "      <td>965.626569</td>\n",
              "      <td>0.676594</td>\n",
              "      <td>0.609993</td>\n",
              "      <td>0.675066</td>\n",
              "      <td>0.595891</td>\n",
              "      <td>...</td>\n",
              "      <td>0.056798</td>\n",
              "      <td>0.050158</td>\n",
              "      <td>0.239709</td>\n",
              "      <td>0.224912</td>\n",
              "      <td>0.238323</td>\n",
              "      <td>0.223960</td>\n",
              "      <td>0.833697</td>\n",
              "      <td>0.702137</td>\n",
              "      <td>0.783847</td>\n",
              "      <td>0.696354</td>\n",
              "    </tr>\n",
              "    <tr>\n",
              "      <th>199</th>\n",
              "      <td>C2NThinF_IMG_20150604_114751_cell_92.png</td>\n",
              "      <td>Uninfected</td>\n",
              "      <td>746.648586</td>\n",
              "      <td>1158.005612</td>\n",
              "      <td>670.750909</td>\n",
              "      <td>1170.018672</td>\n",
              "      <td>0.668765</td>\n",
              "      <td>0.581379</td>\n",
              "      <td>0.669211</td>\n",
              "      <td>0.586775</td>\n",
              "      <td>...</td>\n",
              "      <td>0.052668</td>\n",
              "      <td>0.046052</td>\n",
              "      <td>0.229613</td>\n",
              "      <td>0.214629</td>\n",
              "      <td>0.229496</td>\n",
              "      <td>0.214598</td>\n",
              "      <td>0.787287</td>\n",
              "      <td>0.663737</td>\n",
              "      <td>0.808481</td>\n",
              "      <td>0.660248</td>\n",
              "    </tr>\n",
              "  </tbody>\n",
              "</table>\n",
              "<p>200 rows × 30 columns</p>\n",
              "</div>"
            ],
            "text/plain": [
              "                                         Filename        Label   Contrast0  \\\n",
              "0    C33P1thinF_IMG_20150619_114756a_cell_179.png  Parasitized  507.846667   \n",
              "1    C33P1thinF_IMG_20150619_114756a_cell_180.png  Parasitized  707.282020   \n",
              "2    C33P1thinF_IMG_20150619_114756a_cell_181.png  Parasitized  505.013030   \n",
              "3    C33P1thinF_IMG_20150619_114756a_cell_182.png  Parasitized  586.095960   \n",
              "4    C33P1thinF_IMG_20150619_115740a_cell_161.png  Parasitized  768.433232   \n",
              "..                                            ...          ...         ...   \n",
              "195      C2NThinF_IMG_20150604_114730_cell_72.png   Uninfected  794.337374   \n",
              "196      C2NThinF_IMG_20150604_114730_cell_98.png   Uninfected  442.265354   \n",
              "197      C2NThinF_IMG_20150604_114751_cell_38.png   Uninfected  587.281111   \n",
              "198      C2NThinF_IMG_20150604_114751_cell_69.png   Uninfected  536.964949   \n",
              "199      C2NThinF_IMG_20150604_114751_cell_92.png   Uninfected  746.648586   \n",
              "\n",
              "      Contrast45  Contrast90  Contrast135  Homogeneity0  Homogeneity45  \\\n",
              "0     930.073360  686.926566   934.460667      0.533973       0.468060   \n",
              "1    1179.435568  761.691111  1154.522192      0.541962       0.479502   \n",
              "2     842.597184  550.700606   846.045608      0.488778       0.431642   \n",
              "3    1064.790021  841.522525  1093.855015      0.559275       0.513398   \n",
              "4    1148.042445  624.620101  1131.840016      0.535626       0.464278   \n",
              "..           ...         ...          ...           ...            ...   \n",
              "195  1220.178961  681.687273  1131.259055      0.697577       0.621361   \n",
              "196   762.242526  603.346061   814.480665      0.678690       0.613007   \n",
              "197  1004.403326  661.255758   951.465463      0.658725       0.576665   \n",
              "198   947.237833  701.044747   965.626569      0.676594       0.609993   \n",
              "199  1158.005612  670.750909  1170.018672      0.668765       0.581379   \n",
              "\n",
              "     Homogeneity90  Homogeneity135  ...     ASM90    ASM135   Energy0  \\\n",
              "0         0.528312        0.479382  ...  0.070277  0.063047  0.264675   \n",
              "1         0.540938        0.482607  ...  0.063445  0.057315  0.254326   \n",
              "2         0.494338        0.438670  ...  0.046585  0.040369  0.215186   \n",
              "3         0.559527        0.504713  ...  0.098408  0.090285  0.314350   \n",
              "4         0.544046        0.479666  ...  0.067272  0.059704  0.256105   \n",
              "..             ...             ...  ...       ...       ...       ...   \n",
              "195       0.685049        0.630771  ...  0.084731  0.076958  0.294141   \n",
              "196       0.657682        0.602173  ...  0.102515  0.093720  0.319633   \n",
              "197       0.645831        0.589133  ...  0.062527  0.056047  0.251230   \n",
              "198       0.675066        0.595891  ...  0.056798  0.050158  0.239709   \n",
              "199       0.669211        0.586775  ...  0.052668  0.046052  0.229613   \n",
              "\n",
              "     Energy45  Energy90  Energy135  Correlation0  Correlation45  \\\n",
              "0    0.250963  0.265099   0.251091      0.873122       0.765016   \n",
              "1    0.238493  0.251884   0.239407      0.787871       0.641312   \n",
              "2    0.201094  0.215834   0.200919      0.873309       0.784697   \n",
              "3    0.302430  0.313700   0.300475      0.820145       0.670999   \n",
              "4    0.243283  0.259368   0.244345      0.825486       0.736611   \n",
              "..        ...       ...        ...           ...            ...   \n",
              "195  0.276255  0.291086   0.277413      0.801388       0.691294   \n",
              "196  0.307146  0.320180   0.306136      0.898597       0.823539   \n",
              "197  0.235841  0.250053   0.236742      0.838212       0.719020   \n",
              "198  0.224912  0.238323   0.223960      0.833697       0.702137   \n",
              "199  0.214629  0.229496   0.214598      0.787287       0.663737   \n",
              "\n",
              "     Correlation90  Correlation135  \n",
              "0         0.828646        0.763907  \n",
              "1         0.771079        0.648889  \n",
              "2         0.861813        0.783816  \n",
              "3         0.741523        0.662019  \n",
              "4         0.858737        0.740328  \n",
              "..             ...             ...  \n",
              "195       0.829235        0.713791  \n",
              "196       0.861722        0.811446  \n",
              "197       0.817881        0.733829  \n",
              "198       0.783847        0.696354  \n",
              "199       0.808481        0.660248  \n",
              "\n",
              "[200 rows x 30 columns]"
            ]
          },
          "execution_count": 11,
          "metadata": {},
          "output_type": "execute_result"
        }
      ],
      "source": [
        "dataTable = {'Filename': file_name, 'Label': labels,\n",
        "        'Contrast0': Kontras0, 'Contrast45': Kontras45, 'Contrast90': Kontras90, 'Contrast135': Kontras135,\n",
        "        'Homogeneity0': homogenity0, 'Homogeneity45': homogenity45, 'Homogeneity90': homogenity90, 'Homogeneity135': homogenity135,\n",
        "        'Dissimilarity0': dissimilarity0, 'Dissimilarity45': dissimilarity45, 'Dissimilarity90': dissimilarity90, 'Dissimilarity135': dissimilarity135,\n",
        "        'Entropy0': entropy0, 'Entropy45': entropy45, 'Entropy90': entropy90, 'Entropy135': entropy135,\n",
        "        'ASM0': ASM0, 'ASM45': ASM45, 'ASM90': ASM90, 'ASM135': ASM135,\n",
        "        'Energy0': energy0, 'Energy45': energy45, 'Energy90': energy90, 'Energy135': energy135,\n",
        "        'Correlation0': correlation0, 'Correlation45': correlation45, 'Correlation90': correlation90, 'Correlation135': correlation135,\n",
        "        }\n",
        "df = pd.DataFrame(dataTable)\n",
        "df.to_csv('hasil_ekstraksi_before.csv', index=False)\n",
        "\n",
        "hasilEkstrak = pd.read_csv('hasil_ekstraksi_before.csv')\n",
        "hasilEkstrak"
      ]
    },
    {
      "cell_type": "markdown",
      "id": "aad3a96d",
      "metadata": {
        "id": "aad3a96d"
      },
      "source": [
        "Kode di atas membuat sebuah dictionary bernama `dataTable` yang berisi berbagai data penting hasil ekstraksi fitur tekstur dari citra, termasuk nama file (`Filename`), label kelas (`Label`), dan nilai-nilai fitur GLCM seperti kontras, homogenitas, dissimilaritas, entropi, ASM, energi, dan korelasi untuk keempat sudut (0°, 45°, 90°, dan 135°). Dictionary ini kemudian diubah menjadi sebuah DataFrame menggunakan `pd.DataFrame()`, yang memudahkan pengelolaan data dalam format tabel. Selanjutnya, DataFrame ini disimpan ke dalam file CSV bernama `'hasil_ekstraksi_1.csv'` tanpa menyertakan indeks baris (`index=False`). Terakhir, file CSV tersebut dibaca kembali ke dalam variabel `hasilEkstrak` menggunakan `pd.read_csv()` untuk memastikan data sudah tersimpan dengan benar dan siap digunakan pada tahap analisis atau pelatihan model selanjutnya.\n"
      ]
    },
    {
      "cell_type": "markdown",
      "id": "0992f542",
      "metadata": {
        "id": "0992f542"
      },
      "source": [
        "# Feature Selection"
      ]
    },
    {
      "cell_type": "code",
      "execution_count": 12,
      "id": "a2881a1d",
      "metadata": {
        "id": "a2881a1d",
        "outputId": "4329d7fb-e9d4-41a4-9006-b87dd6b33239"
      },
      "outputs": [
        {
          "name": "stdout",
          "output_type": "stream",
          "text": [
            "Explained Variance Ratio: [0.48454766 0.23352398 0.18727559 0.05297364]\n",
            "Number of Components: 4\n"
          ]
        },
        {
          "data": {
            "text/html": [
              "<div>\n",
              "<style scoped>\n",
              "    .dataframe tbody tr th:only-of-type {\n",
              "        vertical-align: middle;\n",
              "    }\n",
              "\n",
              "    .dataframe tbody tr th {\n",
              "        vertical-align: top;\n",
              "    }\n",
              "\n",
              "    .dataframe thead th {\n",
              "        text-align: right;\n",
              "    }\n",
              "</style>\n",
              "<table border=\"1\" class=\"dataframe\">\n",
              "  <thead>\n",
              "    <tr style=\"text-align: right;\">\n",
              "      <th></th>\n",
              "      <th>PC1</th>\n",
              "      <th>PC2</th>\n",
              "      <th>PC3</th>\n",
              "      <th>PC4</th>\n",
              "      <th>Label</th>\n",
              "    </tr>\n",
              "  </thead>\n",
              "  <tbody>\n",
              "    <tr>\n",
              "      <th>0</th>\n",
              "      <td>-2.882004</td>\n",
              "      <td>0.039263</td>\n",
              "      <td>1.883538</td>\n",
              "      <td>-1.392860</td>\n",
              "      <td>Parasitized</td>\n",
              "    </tr>\n",
              "    <tr>\n",
              "      <th>1</th>\n",
              "      <td>-1.417743</td>\n",
              "      <td>3.658185</td>\n",
              "      <td>-1.178119</td>\n",
              "      <td>-0.615216</td>\n",
              "      <td>Parasitized</td>\n",
              "    </tr>\n",
              "    <tr>\n",
              "      <th>2</th>\n",
              "      <td>-5.638273</td>\n",
              "      <td>-0.265522</td>\n",
              "      <td>2.321224</td>\n",
              "      <td>-0.320214</td>\n",
              "      <td>Parasitized</td>\n",
              "    </tr>\n",
              "    <tr>\n",
              "      <th>3</th>\n",
              "      <td>0.391359</td>\n",
              "      <td>1.795917</td>\n",
              "      <td>-0.459063</td>\n",
              "      <td>-2.414567</td>\n",
              "      <td>Parasitized</td>\n",
              "    </tr>\n",
              "    <tr>\n",
              "      <th>4</th>\n",
              "      <td>-2.258014</td>\n",
              "      <td>2.276044</td>\n",
              "      <td>1.642871</td>\n",
              "      <td>1.518009</td>\n",
              "      <td>Parasitized</td>\n",
              "    </tr>\n",
              "  </tbody>\n",
              "</table>\n",
              "</div>"
            ],
            "text/plain": [
              "        PC1       PC2       PC3       PC4        Label\n",
              "0 -2.882004  0.039263  1.883538 -1.392860  Parasitized\n",
              "1 -1.417743  3.658185 -1.178119 -0.615216  Parasitized\n",
              "2 -5.638273 -0.265522  2.321224 -0.320214  Parasitized\n",
              "3  0.391359  1.795917 -0.459063 -2.414567  Parasitized\n",
              "4 -2.258014  2.276044  1.642871  1.518009  Parasitized"
            ]
          },
          "execution_count": 12,
          "metadata": {},
          "output_type": "execute_result"
        }
      ],
      "source": [
        "# Standardize the features\n",
        "x_new = hasilEkstrak.drop(columns=['Label', 'Filename'])\n",
        "y = hasilEkstrak['Label']\n",
        "scaler = StandardScaler()\n",
        "x_scaled = scaler.fit_transform(x_new)\n",
        "\n",
        "# Apply PCA\n",
        "pca = PCA(n_components=0.95)  # Retain 95% of the variance\n",
        "x_pca = pca.fit_transform(x_scaled)\n",
        "\n",
        "# Display the explained variance ratio\n",
        "print(\"Explained Variance Ratio:\", pca.explained_variance_ratio_)\n",
        "print(\"Number of Components:\", pca.n_components_)\n",
        "\n",
        "# Create a DataFrame for the PCA-transformed features\n",
        "pca_features = pd.DataFrame(x_pca, columns=[f'PC{i+1}' for i in range(pca.n_components_)])\n",
        "pca_features['Label'] = y\n",
        "pca_features.head()"
      ]
    },
    {
      "cell_type": "markdown",
      "id": "fd222f55",
      "metadata": {
        "id": "fd222f55"
      },
      "source": [
        "Kode di atas melakukan standarisasi fitur numerik pada dataset `hasilEkstrak` dengan menghilangkan kolom `Label` dan `Filename`, kemudian menggunakan `StandardScaler()` untuk mengubah data agar memiliki mean 0 dan standar deviasi 1, sehingga fitur menjadi lebih seimbang dan siap untuk analisis lebih lanjut. Setelah itu, diterapkan PCA (Principal Component Analysis) dengan parameter `n_components=0.95`, yang berarti PCA akan memilih jumlah komponen utama yang mampu mempertahankan 95% variansi dari data asli, sehingga mengurangi dimensi fitur secara signifikan tanpa kehilangan informasi penting. Hasil transformasi PCA disimpan dalam `x_pca`, dan informasi proporsi variansi yang dijelaskan oleh masing-masing komponen serta jumlah komponennya ditampilkan menggunakan `explained_variance_ratio_` dan `n_components_`. Selanjutnya, data hasil PCA ini dibuat dalam bentuk DataFrame baru yang diberi label kolom PC1, PC2, dan seterusnya sesuai jumlah komponen yang terpilih, dan kolom `Label` ditambahkan kembali agar data siap untuk tahap analisis atau pelatihan model selanjutnya, dengan tampilan awal data ditampilkan menggunakan `head()`.\n"
      ]
    },
    {
      "cell_type": "code",
      "execution_count": 13,
      "id": "384004c3",
      "metadata": {
        "id": "384004c3",
        "outputId": "001c0d8d-92f6-4c71-af31-1eb526b1577c"
      },
      "outputs": [
        {
          "name": "stdout",
          "output_type": "stream",
          "text": [
            "(160, 28)\n",
            "(40, 28)\n"
          ]
        }
      ],
      "source": [
        "# 0.3 = 30% data untuk testing (train/test 70/30)\n",
        "# 0.2 = 20% data untuk testing (train/test 80/20)\n",
        "X_train, X_test, y_train, y_test = train_test_split(x_new, y, test_size=0.2, random_state=42)\n",
        "print(X_train.shape)\n",
        "print(X_test.shape)"
      ]
    },
    {
      "cell_type": "markdown",
      "id": "4868aca3",
      "metadata": {
        "id": "4868aca3"
      },
      "source": [
        "Kode di atas membagi dataset fitur `x_new` dan label `y` menjadi dua bagian yaitu data latih (`X_train`, `y_train`) dan data uji (`X_test`, `y_test`) menggunakan fungsi `train_test_split` dari `sklearn.model_selection`. Parameter `test_size=0.2` berarti 20% data digunakan sebagai data uji, sedangkan 80% sisanya menjadi data latih, dan `random_state=42` memastikan pembagian data yang konsisten setiap kali kode dijalankan agar hasilnya dapat direproduksi. Setelah pembagian, bentuk (jumlah baris dan kolom) dari data latih dan data uji dicetak menggunakan `print()` untuk memastikan ukuran data sudah sesuai dengan proporsi yang diinginkan. Komentar di atas menunjukkan bahwa jika `test_size=0.3`, maka pembagian data adalah 70% untuk latih dan 30% untuk uji, sedangkan dengan `test_size=0.2`, pembagian menjadi 80% latih dan 20% uji.\n"
      ]
    },
    {
      "cell_type": "code",
      "execution_count": 14,
      "id": "57802c82",
      "metadata": {
        "id": "57802c82"
      },
      "outputs": [],
      "source": [
        "mean_train = X_train.mean(axis=0)\n",
        "std_train = X_train.std(axis=0)\n",
        "\n",
        "# Normalisasi data train dan test dengan Z-score\n",
        "X_train = (X_train - mean_train) / std_train\n",
        "X_test = (X_test - mean_train) / std_train"
      ]
    },
    {
      "cell_type": "markdown",
      "id": "35abcfcb",
      "metadata": {
        "id": "35abcfcb"
      },
      "source": [
        "Kode di atas melakukan normalisasi data fitur untuk set pelatihan (`X_train`) dan pengujian (`X_test`) menggunakan metode Z-score. Pertama, dihitung nilai rata-rata (`mean_train`) dan standar deviasi (`std_train`) dari setiap fitur pada data pelatihan sepanjang axis 0 (kolom). Kemudian, normalisasi dilakukan dengan cara mengurangi setiap nilai fitur dengan rata-rata tersebut dan membaginya dengan standar deviasi, sehingga fitur menjadi memiliki distribusi dengan rata-rata 0 dan standar deviasi 1."
      ]
    },
    {
      "cell_type": "code",
      "execution_count": 15,
      "id": "6244f0bf",
      "metadata": {
        "id": "6244f0bf"
      },
      "outputs": [],
      "source": [
        "def generateClassificationReport(y_true, y_pred):\n",
        "\tprint(classification_report(y_true, y_pred))\n",
        "\tprint(confusion_matrix(y_true, y_pred))\n",
        "\tprint('Accuracy:', accuracy_score(y_true, y_pred))\n",
        "\n",
        "# Define classifiers\n",
        "rf = RandomForestClassifier(n_estimators=5, random_state=42)\n",
        "svm = SVC(kernel='rbf', random_state=42)\n",
        "knn = KNeighborsClassifier(n_neighbors=5)"
      ]
    },
    {
      "cell_type": "markdown",
      "id": "18537366",
      "metadata": {
        "id": "18537366"
      },
      "source": [
        "Kode ini mendefinisikan sebuah fungsi `generateClassificationReport` yang menerima dua parameter, yaitu `y_true` (label asli) dan `y_pred` (label hasil prediksi), kemudian mencetak tiga hal penting untuk evaluasi performa model klasifikasi: laporan klasifikasi (`classification_report`) yang menampilkan metrik seperti precision, recall, dan F1-score, matriks kebingungan (`confusion_matrix`) yang memperlihatkan jumlah prediksi benar dan salah untuk tiap kelas, serta akurasi (`accuracy_score`) yang mengukur proporsi prediksi benar secara keseluruhan. Selain itu, kode ini juga mendefinisikan tiga model klasifikasi berbeda: `rf` yaitu Random Forest dengan 5 pohon keputusan dan pengacakan tetap (`random_state=42`), `svm` yaitu Support Vector Machine dengan kernel radial basis function (`rbf`), dan `knn` yaitu K-Nearest Neighbors dengan tetangga terdekat sebanyak 5.\n"
      ]
    },
    {
      "cell_type": "code",
      "execution_count": 16,
      "id": "394f658c",
      "metadata": {
        "id": "394f658c",
        "outputId": "e3e8812a-ea75-4a4f-da86-3ef437315098"
      },
      "outputs": [
        {
          "name": "stdout",
          "output_type": "stream",
          "text": [
            "------Training Set------\n",
            "              precision    recall  f1-score   support\n",
            "\n",
            " Parasitized       0.96      0.97      0.97        79\n",
            "  Uninfected       0.97      0.96      0.97        81\n",
            "\n",
            "    accuracy                           0.97       160\n",
            "   macro avg       0.97      0.97      0.97       160\n",
            "weighted avg       0.97      0.97      0.97       160\n",
            "\n",
            "[[77  2]\n",
            " [ 3 78]]\n",
            "Accuracy: 0.96875\n",
            "\n",
            "------Testing Set------\n",
            "              precision    recall  f1-score   support\n",
            "\n",
            " Parasitized       0.89      0.81      0.85        21\n",
            "  Uninfected       0.81      0.89      0.85        19\n",
            "\n",
            "    accuracy                           0.85        40\n",
            "   macro avg       0.85      0.85      0.85        40\n",
            "weighted avg       0.85      0.85      0.85        40\n",
            "\n",
            "[[17  4]\n",
            " [ 2 17]]\n",
            "Accuracy: 0.85\n"
          ]
        }
      ],
      "source": [
        "# Train Random Forest Classifier\n",
        "rf.fit(X_train, y_train)\n",
        "\n",
        "# Make predictions and evaluate the model with the training set\n",
        "print(\"------Training Set------\")\n",
        "y_pred = rf.predict(X_train)\n",
        "generateClassificationReport( y_train, y_pred)\n",
        "\n",
        "# Make predictions and evaluate the model with the testing set\n",
        "print(\"\\n------Testing Set------\")\n",
        "y_pred = rf.predict(X_test)\n",
        "generateClassificationReport( y_test, y_pred)"
      ]
    },
    {
      "cell_type": "markdown",
      "id": "00358fe3",
      "metadata": {
        "id": "00358fe3"
      },
      "source": [
        "Kode di atas melakukan pelatihan model Random Forest (`rf`) menggunakan data pelatihan (`X_train` dan `y_train`), kemudian melakukan prediksi dan evaluasi model pada dua tahap. Pertama, model diuji pada data pelatihan itu sendiri, di mana prediksi hasil (`y_pred`) dibandingkan dengan label asli (`y_train`) untuk mengevaluasi seberapa baik model belajar dari data yang diberikan, lalu mencetak laporan klasifikasi dan metrik evaluasi menggunakan fungsi `generateClassificationReport`. Kedua, model diuji pada data pengujian (`X_test`), dimana prediksi dibandingkan dengan label asli pengujian (`y_test`) untuk mengukur performa model pada data baru yang belum pernah dilihat, juga menghasilkan laporan evaluasi yang dicetak.\n"
      ]
    },
    {
      "cell_type": "code",
      "execution_count": 17,
      "id": "a11f211b",
      "metadata": {
        "id": "a11f211b",
        "outputId": "22e27104-d3ce-455f-ef65-603e008fddca"
      },
      "outputs": [
        {
          "name": "stdout",
          "output_type": "stream",
          "text": [
            "\n",
            "------Training Set------\n",
            "              precision    recall  f1-score   support\n",
            "\n",
            " Parasitized       0.96      0.95      0.96        79\n",
            "  Uninfected       0.95      0.96      0.96        81\n",
            "\n",
            "    accuracy                           0.96       160\n",
            "   macro avg       0.96      0.96      0.96       160\n",
            "weighted avg       0.96      0.96      0.96       160\n",
            "\n",
            "[[75  4]\n",
            " [ 3 78]]\n",
            "Accuracy: 0.95625\n",
            "\n",
            "------Testing Set------\n",
            "              precision    recall  f1-score   support\n",
            "\n",
            " Parasitized       0.90      0.86      0.88        21\n",
            "  Uninfected       0.85      0.89      0.87        19\n",
            "\n",
            "    accuracy                           0.88        40\n",
            "   macro avg       0.88      0.88      0.87        40\n",
            "weighted avg       0.88      0.88      0.88        40\n",
            "\n",
            "[[18  3]\n",
            " [ 2 17]]\n",
            "Accuracy: 0.875\n"
          ]
        }
      ],
      "source": [
        "# Train SVM Classifier\n",
        "svm.fit(X_train, y_train)\n",
        "\n",
        "# Make predictions and evaluate the model with the training set\n",
        "print(\"\\n------Training Set------\")\n",
        "y_pred = svm.predict(X_train)\n",
        "generateClassificationReport( y_train, y_pred)\n",
        "\n",
        "# Make predictions and evaluate the model with the testing set\n",
        "print(\"\\n------Testing Set------\")\n",
        "y_pred = svm.predict(X_test)\n",
        "generateClassificationReport( y_test, y_pred)"
      ]
    },
    {
      "cell_type": "markdown",
      "id": "820c98b7",
      "metadata": {
        "id": "820c98b7"
      },
      "source": [
        "Kode di atas melatih model Support Vector Machine (SVM) dengan kernel RBF menggunakan data pelatihan (`X_train`, `y_train`), lalu melakukan prediksi dan evaluasi performa model di dua tahap. Pertama, model diuji pada data pelatihan untuk melihat seberapa baik model bisa menyesuaikan diri dengan data yang dipelajari, dengan mencetak laporan klasifikasi dan matriks kebingungan melalui fungsi `generateClassificationReport`. Kedua, model diuji pada data pengujian (`X_test`), untuk mengukur kemampuan generalisasi model terhadap data baru yang belum pernah dilihat, dan hasil evaluasi yang sama juga dicetak.\n"
      ]
    },
    {
      "cell_type": "code",
      "execution_count": 18,
      "id": "66e5342a",
      "metadata": {
        "id": "66e5342a",
        "outputId": "b86ec981-d6c2-43cc-9c73-1aae574e7887"
      },
      "outputs": [
        {
          "name": "stdout",
          "output_type": "stream",
          "text": [
            "\n",
            "------Training Set------\n",
            "              precision    recall  f1-score   support\n",
            "\n",
            " Parasitized       0.90      0.87      0.88        79\n",
            "  Uninfected       0.88      0.90      0.89        81\n",
            "\n",
            "    accuracy                           0.89       160\n",
            "   macro avg       0.89      0.89      0.89       160\n",
            "weighted avg       0.89      0.89      0.89       160\n",
            "\n",
            "[[69 10]\n",
            " [ 8 73]]\n",
            "Accuracy: 0.8875\n",
            "\n",
            "------Testing Set------\n",
            "              precision    recall  f1-score   support\n",
            "\n",
            " Parasitized       0.94      0.76      0.84        21\n",
            "  Uninfected       0.78      0.95      0.86        19\n",
            "\n",
            "    accuracy                           0.85        40\n",
            "   macro avg       0.86      0.85      0.85        40\n",
            "weighted avg       0.87      0.85      0.85        40\n",
            "\n",
            "[[16  5]\n",
            " [ 1 18]]\n",
            "Accuracy: 0.85\n"
          ]
        }
      ],
      "source": [
        "# Train KNN Classifier\n",
        "knn.fit(X_train, y_train)\n",
        "\n",
        "# Make predictions and evaluate the model with the training set\n",
        "print(\"\\n------Training Set------\")\n",
        "y_pred = knn.predict(X_train)\n",
        "generateClassificationReport( y_train, y_pred)\n",
        "\n",
        "# Make predictions and evaluate the model with the testing set\n",
        "print(\"\\n------Testing Set------\")\n",
        "y_pred = knn.predict(X_test)\n",
        "generateClassificationReport( y_test, y_pred)"
      ]
    },
    {
      "cell_type": "markdown",
      "id": "25bb7cb4",
      "metadata": {},
      "source": [
        "Kode di atas melatih model K-Nearest Neighbors (KNN) dengan `k=5` menggunakan data pelatihan (`X_train`, `y_train`). Setelah model selesai dilatih, dilakukan prediksi dan evaluasi performa pada dua set data. Pertama, model diuji pada data pelatihan untuk melihat seberapa baik model dapat mengingat dan menyesuaikan diri dengan data yang digunakan selama pelatihan. Kedua, model diuji pada data pengujian (`X_test`) untuk mengukur kemampuan generalisasi model terhadap data baru yang belum pernah dilihat. Pada kedua tahap, hasil evaluasi seperti laporan klasifikasi, matriks kebingungan, dan akurasi dicetak menggunakan fungsi `generateClassificationReport` untuk memberikan gambaran performa KNN secara lengkap.\n"
      ]
    },
    {
      "cell_type": "code",
      "execution_count": 22,
      "id": "1d13f5a9",
      "metadata": {},
      "outputs": [
        {
          "name": "stdout",
          "output_type": "stream",
          "text": [
            "Akurasi Percobaan Before :\n",
            "Random Forest: 0.850\n",
            "SVM: 0.875\n",
            "KNN: 0.850\n"
          ]
        }
      ],
      "source": [
        "y_pred_rf = rf.predict(X_test)\n",
        "y_pred_svm = svm.predict(X_test)\n",
        "y_pred_knn = knn.predict(X_test)\n",
        "\n",
        "# Hitung akurasi masing-masing model\n",
        "accuracy_rf = accuracy_score(y_test, y_pred_rf)\n",
        "accuracy_svm = accuracy_score(y_test, y_pred_svm)\n",
        "accuracy_knn = accuracy_score(y_test, y_pred_knn)\n",
        "\n",
        "# Tampilkan hasil akurasi\n",
        "print(f\"Akurasi Percobaan Before :\")\n",
        "print(f\"Random Forest: {accuracy_rf:.3f}\")\n",
        "print(f\"SVM: {accuracy_svm:.3f}\")\n",
        "print(f\"KNN: {accuracy_knn:.3f}\")\n"
      ]
    },
    {
      "cell_type": "markdown",
      "id": "f71b21d4",
      "metadata": {},
      "source": [
        "Kode tersebut digunakan untuk membandingkan performa tiga model klasifikasi—Random Forest, SVM, dan KNN—dengan menghitung dan menampilkan akurasi prediksi pada data uji (`X_test`). Setelah setiap model memprediksi label (`y_pred_*`), hasil prediksi dibandingkan dengan label asli (`y_test`) menggunakan fungsi `accuracy_score`, lalu akurasi masing-masing model ditampilkan untuk mengetahui model mana yang paling akurat sebelum dilakukan tahap percobaan lanjutan."
      ]
    },
    {
      "cell_type": "markdown",
      "id": "943f3c0b",
      "metadata": {},
      "source": [
        "Kode ini membuat fungsi `plot_confusion_matrix` yang berfungsi untuk menampilkan matriks kebingungan dari hasil prediksi model klasifikasi. Fungsi menerima data label asli (`y_true`), hasil prediksi model (`y_pred`), dan judul grafik (`title`). Matriks kebingungan dihitung menggunakan `confusion_matrix`, lalu divisualisasikan dengan `ConfusionMatrixDisplay` dari sklearn dengan warna biru untuk membedakan tingkat kesalahan dan keberhasilan prediksi. Fungsi ini kemudian dipanggil tiga kali untuk masing-masing model: Random Forest, SVM, dan KNN, menampilkan matriks kebingungan dari prediksi data testing pada masing-masing model secara terpisah dengan judul yang sesuai.\n"
      ]
    },
    {
      "cell_type": "code",
      "execution_count": 19,
      "id": "c91e13eb",
      "metadata": {
        "id": "c91e13eb",
        "outputId": "b5ffa77c-4870-4a16-9369-038bc9b65ac7"
      },
      "outputs": [
        {
          "data": {
            "image/png": "[encoded data removed]",
            "text/plain": [
              "<Figure size 640x480 with 2 Axes>"
            ]
          },
          "metadata": {},
          "output_type": "display_data"
        },
        {
          "data": {
            "image/png": "[encoded data removed]",
            "text/plain": [
              "<Figure size 640x480 with 2 Axes>"
            ]
          },
          "metadata": {},
          "output_type": "display_data"
        },
        {
          "data": {
            "image/png": "[encoded data removed]",
            "text/plain": [
              "<Figure size 640x480 with 2 Axes>"
            ]
          },
          "metadata": {},
          "output_type": "display_data"
        }
      ],
      "source": [
        "def plot_confusion_matrix(y_true, y_pred, title):\n",
        "    cm = confusion_matrix(y_true, y_pred)\n",
        "    disp = ConfusionMatrixDisplay(confusion_matrix=cm)\n",
        "    disp.plot(cmap=plt.cm.Blues)\n",
        "    plt.title(title)\n",
        "    plt.show()\n",
        "\n",
        "# Plot confusion matrix for Random Forest\n",
        "plot_confusion_matrix(y_test, rf.predict(X_test), \"Random Forest Confusion Matrix\")\n",
        "# Plot confusion matrix for SVM\n",
        "plot_confusion_matrix(y_test, svm.predict(X_test), \"SVM Confusion Matrix\")\n",
        "# Plot confusion matrix for KNN\n",
        "plot_confusion_matrix(y_test, knn.predict(X_test), \"KNN Confusion Matrix\")"
      ]
    }
  ],
  "metadata": {
    "colab": {
      "provenance": []
    },
    "kernelspec": {
      "display_name": "Python 3",
      "language": "python",
      "name": "python3"
    },
    "language_info": {
      "codemirror_mode": {
        "name": "ipython",
        "version": 3
      },
      "file_extension": ".py",
      "mimetype": "text/x-python",
      "name": "python",
      "nbconvert_exporter": "python",
      "pygments_lexer": "ipython3",
      "version": "3.13.3"
    }
  },
  "nbformat": 4,
  "nbformat_minor": 5
}
